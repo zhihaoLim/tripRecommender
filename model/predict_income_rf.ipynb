{
 "cells": [
  {
   "cell_type": "markdown",
   "id": "4f1fad49-4f82-42bc-a3cd-f9961d653ecb",
   "metadata": {},
   "source": [
    "## INCOME을 소비내역과 여행객데이터로 유추하기"
   ]
  },
  {
   "cell_type": "code",
   "execution_count": 1,
   "id": "ccad9008-0cb6-4314-9dc7-0c2e935d4a74",
   "metadata": {},
   "outputs": [],
   "source": [
    "import pandas as pd\n",
    "import warnings\n",
    "warnings.filterwarnings('ignore') #warning 문구 제거\n",
    "pd.set_option('display.max_columns', None)\n",
    "\n",
    "traveler_data=pd.read_csv('tn_traveller_master_여행객 Master.csv')\n",
    "post_data=pd.read_csv('tn_adv_consume_his_사전소비내역.csv')\n",
    "lod_data=pd.read_csv('tn_lodge_consume_his_숙박소비내역.csv')\n",
    "traf_data=pd.read_csv('tn_mvmn_consume_his_이동수단소비내역.csv')\n",
    "acti_data=pd.read_csv('tn_activity_consume_his_활동소비내역.csv')\n",
    "companicon_data=pd.read_csv('tn_companion_info_동반자정보.csv')"
   ]
  },
  {
   "cell_type": "code",
   "execution_count": 2,
   "id": "a892a283-dc28-4537-98d9-465d66482a24",
   "metadata": {},
   "outputs": [
    {
     "name": "stdout",
     "output_type": "stream",
     "text": [
      "<class 'pandas.core.frame.DataFrame'>\n",
      "RangeIndex: 14400 entries, 0 to 14399\n",
      "Data columns (total 36 columns):\n",
      " #   Column                     Non-Null Count  Dtype  \n",
      "---  ------                     --------------  -----  \n",
      " 0   TRAVELER_ID                14400 non-null  object \n",
      " 1   RESIDENCE_SGG_CD           14400 non-null  int64  \n",
      " 2   GENDER                     14400 non-null  object \n",
      " 3   AGE_GRP                    14400 non-null  int64  \n",
      " 4   EDU_NM                     14400 non-null  int64  \n",
      " 5   EDU_FNSH_SE                14399 non-null  float64\n",
      " 6   MARR_STTS                  14398 non-null  float64\n",
      " 7   FAMILY_MEMB                14400 non-null  int64  \n",
      " 8   JOB_NM                     13753 non-null  float64\n",
      " 9   JOB_ETC                    647 non-null    float64\n",
      " 10  INCOME                     14400 non-null  int64  \n",
      " 11  HOUSE_INCOME               10716 non-null  float64\n",
      " 12  TRAVEL_TERM                14400 non-null  int64  \n",
      " 13  TRAVEL_NUM                 14400 non-null  int64  \n",
      " 14  TRAVEL_LIKE_SIDO_1         14400 non-null  int64  \n",
      " 15  TRAVEL_LIKE_SGG_1          14400 non-null  int64  \n",
      " 16  TRAVEL_LIKE_SIDO_2         14400 non-null  int64  \n",
      " 17  TRAVEL_LIKE_SGG_2          14400 non-null  int64  \n",
      " 18  TRAVEL_LIKE_SIDO_3         14400 non-null  int64  \n",
      " 19  TRAVEL_LIKE_SGG_3          14400 non-null  int64  \n",
      " 20  TRAVEL_STYL_1              14400 non-null  int64  \n",
      " 21  TRAVEL_STYL_2              14400 non-null  int64  \n",
      " 22  TRAVEL_STYL_3              14400 non-null  int64  \n",
      " 23  TRAVEL_STYL_4              14400 non-null  int64  \n",
      " 24  TRAVEL_STYL_5              14400 non-null  int64  \n",
      " 25  TRAVEL_STYL_6              14400 non-null  int64  \n",
      " 26  TRAVEL_STYL_7              14400 non-null  int64  \n",
      " 27  TRAVEL_STYL_8              14400 non-null  int64  \n",
      " 28  TRAVEL_STATUS_RESIDENCE    14400 non-null  object \n",
      " 29  TRAVEL_STATUS_DESTINATION  14400 non-null  object \n",
      " 30  TRAVEL_STATUS_ACCOMPANY    14400 non-null  object \n",
      " 31  TRAVEL_STATUS_YMD          14400 non-null  object \n",
      " 32  TRAVEL_MOTIVE_1            14399 non-null  float64\n",
      " 33  TRAVEL_MOTIVE_2            13864 non-null  float64\n",
      " 34  TRAVEL_MOTIVE_3            13234 non-null  float64\n",
      " 35  TRAVEL_COMPANIONS_NUM      14400 non-null  int64  \n",
      "dtypes: float64(8), int64(22), object(6)\n",
      "memory usage: 4.0+ MB\n"
     ]
    }
   ],
   "source": [
    "traveler_data.info()"
   ]
  },
  {
   "cell_type": "code",
   "execution_count": 3,
   "id": "295b5ea6-4214-47ab-b52b-3ba532ae600d",
   "metadata": {},
   "outputs": [],
   "source": [
    "traveler_data['TRAVEL_ID'] = traveler_data['TRAVELER_ID'].apply(lambda x: x[0] + '_' + x)"
   ]
  },
  {
   "cell_type": "markdown",
   "id": "e4244cdf-3169-43be-beb2-b707bb06621a",
   "metadata": {},
   "source": [
    "### 여행일수 구하기"
   ]
  },
  {
   "cell_type": "code",
   "execution_count": 4,
   "id": "290d20a6-aa01-437b-ad01-e2f00f5d37c5",
   "metadata": {},
   "outputs": [],
   "source": [
    "import datetime\n",
    "traveler_data['start_day'] = traveler_data.TRAVEL_STATUS_YMD.str.split('~').str[0]\n",
    "traveler_data['end_day'] = traveler_data.TRAVEL_STATUS_YMD.str.split('~').str[1]\n",
    "traveler_data['start_day'] = pd.to_datetime(traveler_data['start_day'])\n",
    "traveler_data['end_day'] = pd.to_datetime(traveler_data['end_day'])\n",
    "trip_day_raw=traveler_data['end_day']-traveler_data['start_day']\n",
    "\n",
    "traveler_data['trip_day']=trip_day_raw.dt.days + 1"
   ]
  },
  {
   "cell_type": "code",
   "execution_count": 5,
   "id": "7ac40a80-265d-4fd7-a550-8440b6e98fcb",
   "metadata": {},
   "outputs": [
    {
     "data": {
      "text/plain": [
       "1     5834\n",
       "2     4722\n",
       "3     2518\n",
       "4      873\n",
       "5      287\n",
       "6       73\n",
       "7       44\n",
       "8       22\n",
       "9        7\n",
       "10       6\n",
       "11       3\n",
       "16       3\n",
       "15       2\n",
       "12       1\n",
       "14       1\n",
       "17       1\n",
       "27       1\n",
       "33       1\n",
       "23       1\n",
       "Name: trip_day, dtype: int64"
      ]
     },
     "execution_count": 5,
     "metadata": {},
     "output_type": "execute_result"
    }
   ],
   "source": [
    "traveler_data['trip_day'].value_counts()"
   ]
  },
  {
   "cell_type": "code",
   "execution_count": 6,
   "id": "665f3253-0c81-4c3b-baf6-5b25340b0d19",
   "metadata": {},
   "outputs": [
    {
     "name": "stdout",
     "output_type": "stream",
     "text": [
      "<class 'pandas.core.frame.DataFrame'>\n",
      "RangeIndex: 14400 entries, 0 to 14399\n",
      "Data columns (total 40 columns):\n",
      " #   Column                     Non-Null Count  Dtype         \n",
      "---  ------                     --------------  -----         \n",
      " 0   TRAVELER_ID                14400 non-null  object        \n",
      " 1   RESIDENCE_SGG_CD           14400 non-null  int64         \n",
      " 2   GENDER                     14400 non-null  object        \n",
      " 3   AGE_GRP                    14400 non-null  int64         \n",
      " 4   EDU_NM                     14400 non-null  int64         \n",
      " 5   EDU_FNSH_SE                14399 non-null  float64       \n",
      " 6   MARR_STTS                  14398 non-null  float64       \n",
      " 7   FAMILY_MEMB                14400 non-null  int64         \n",
      " 8   JOB_NM                     13753 non-null  float64       \n",
      " 9   JOB_ETC                    647 non-null    float64       \n",
      " 10  INCOME                     14400 non-null  int64         \n",
      " 11  HOUSE_INCOME               10716 non-null  float64       \n",
      " 12  TRAVEL_TERM                14400 non-null  int64         \n",
      " 13  TRAVEL_NUM                 14400 non-null  int64         \n",
      " 14  TRAVEL_LIKE_SIDO_1         14400 non-null  int64         \n",
      " 15  TRAVEL_LIKE_SGG_1          14400 non-null  int64         \n",
      " 16  TRAVEL_LIKE_SIDO_2         14400 non-null  int64         \n",
      " 17  TRAVEL_LIKE_SGG_2          14400 non-null  int64         \n",
      " 18  TRAVEL_LIKE_SIDO_3         14400 non-null  int64         \n",
      " 19  TRAVEL_LIKE_SGG_3          14400 non-null  int64         \n",
      " 20  TRAVEL_STYL_1              14400 non-null  int64         \n",
      " 21  TRAVEL_STYL_2              14400 non-null  int64         \n",
      " 22  TRAVEL_STYL_3              14400 non-null  int64         \n",
      " 23  TRAVEL_STYL_4              14400 non-null  int64         \n",
      " 24  TRAVEL_STYL_5              14400 non-null  int64         \n",
      " 25  TRAVEL_STYL_6              14400 non-null  int64         \n",
      " 26  TRAVEL_STYL_7              14400 non-null  int64         \n",
      " 27  TRAVEL_STYL_8              14400 non-null  int64         \n",
      " 28  TRAVEL_STATUS_RESIDENCE    14400 non-null  object        \n",
      " 29  TRAVEL_STATUS_DESTINATION  14400 non-null  object        \n",
      " 30  TRAVEL_STATUS_ACCOMPANY    14400 non-null  object        \n",
      " 31  TRAVEL_STATUS_YMD          14400 non-null  object        \n",
      " 32  TRAVEL_MOTIVE_1            14399 non-null  float64       \n",
      " 33  TRAVEL_MOTIVE_2            13864 non-null  float64       \n",
      " 34  TRAVEL_MOTIVE_3            13234 non-null  float64       \n",
      " 35  TRAVEL_COMPANIONS_NUM      14400 non-null  int64         \n",
      " 36  TRAVEL_ID                  14400 non-null  object        \n",
      " 37  start_day                  14400 non-null  datetime64[ns]\n",
      " 38  end_day                    14400 non-null  datetime64[ns]\n",
      " 39  trip_day                   14400 non-null  int64         \n",
      "dtypes: datetime64[ns](2), float64(8), int64(23), object(7)\n",
      "memory usage: 4.4+ MB\n"
     ]
    }
   ],
   "source": [
    "traveler_data.info()"
   ]
  },
  {
   "cell_type": "code",
   "execution_count": 7,
   "id": "da9027d2-c1da-4cc3-a638-67c53c9438d1",
   "metadata": {},
   "outputs": [
    {
     "name": "stdout",
     "output_type": "stream",
     "text": [
      "<class 'pandas.core.frame.DataFrame'>\n",
      "RangeIndex: 3615 entries, 0 to 3614\n",
      "Data columns (total 15 columns):\n",
      " #   Column           Non-Null Count  Dtype  \n",
      "---  ------           --------------  -----  \n",
      " 0   TRAVEL_ID        3615 non-null   object \n",
      " 1   ADV_NM           3615 non-null   object \n",
      " 2   ADV_SEQ          3615 non-null   int64  \n",
      " 3   PAYMENT_NUM      3615 non-null   int64  \n",
      " 4   BRNO             1705 non-null   float64\n",
      " 5   STORE_NM         3543 non-null   object \n",
      " 6   ROAD_NM_ADDR     1869 non-null   object \n",
      " 7   LOTNO_ADDR       1318 non-null   object \n",
      " 8   ROAD_NM_CD       1744 non-null   float64\n",
      " 9   LOTNO_CD         1744 non-null   float64\n",
      " 10  PAYMENT_DT       2110 non-null   object \n",
      " 11  PAYMENT_MTHD_SE  3602 non-null   float64\n",
      " 12  PAYMENT_AMT_WON  3615 non-null   int64  \n",
      " 13  PAYMENT_ETC      3337 non-null   object \n",
      " 14  SGG_CD           1414 non-null   float64\n",
      "dtypes: float64(5), int64(3), object(7)\n",
      "memory usage: 423.8+ KB\n"
     ]
    }
   ],
   "source": [
    "post_data.info()"
   ]
  },
  {
   "cell_type": "code",
   "execution_count": 8,
   "id": "a41e993b-6b57-415c-b257-f2937eea1335",
   "metadata": {},
   "outputs": [
    {
     "name": "stdout",
     "output_type": "stream",
     "text": [
      "<class 'pandas.core.frame.DataFrame'>\n",
      "RangeIndex: 11311 entries, 0 to 11310\n",
      "Data columns (total 18 columns):\n",
      " #   Column               Non-Null Count  Dtype  \n",
      "---  ------               --------------  -----  \n",
      " 0   TRAVEL_ID            11311 non-null  object \n",
      " 1   LODGING_NM           11311 non-null  object \n",
      " 2   LODGING_PAYMENT_SEQ  11311 non-null  int64  \n",
      " 3   LODGING_TYPE_CD      11311 non-null  int64  \n",
      " 4   RSVT_YN              10693 non-null  object \n",
      " 5   CHK_IN_DT_MIN        10693 non-null  object \n",
      " 6   CHK_OUT_DT_MIN       10693 non-null  object \n",
      " 7   PAYMENT_NUM          11311 non-null  int64  \n",
      " 8   BRNO                 3429 non-null   float64\n",
      " 9   STORE_NM             5586 non-null   object \n",
      " 10  ROAD_NM_ADDR         9737 non-null   object \n",
      " 11  LOTNO_ADDR           7774 non-null   object \n",
      " 12  ROAD_NM_CD           4340 non-null   float64\n",
      " 13  LOTNO_CD             4340 non-null   float64\n",
      " 14  PAYMENT_DT           5278 non-null   object \n",
      " 15  PAYMENT_MTHD_SE      10717 non-null  float64\n",
      " 16  PAYMENT_AMT_WON      11311 non-null  int64  \n",
      " 17  PAYMENT_ETC          4622 non-null   object \n",
      "dtypes: float64(4), int64(4), object(10)\n",
      "memory usage: 1.6+ MB\n"
     ]
    }
   ],
   "source": [
    "lod_data.info()"
   ]
  },
  {
   "cell_type": "code",
   "execution_count": 9,
   "id": "0be8fb1f-6044-48f8-b987-7254685a75bf",
   "metadata": {},
   "outputs": [
    {
     "name": "stdout",
     "output_type": "stream",
     "text": [
      "<class 'pandas.core.frame.DataFrame'>\n",
      "RangeIndex: 38551 entries, 0 to 38550\n",
      "Data columns (total 12 columns):\n",
      " #   Column           Non-Null Count  Dtype  \n",
      "---  ------           --------------  -----  \n",
      " 0   TRAVEL_ID        38551 non-null  object \n",
      " 1   MVMN_SE          38551 non-null  int64  \n",
      " 2   PAYMENT_SE       38551 non-null  object \n",
      " 3   PAYMENT_SEQ      38551 non-null  int64  \n",
      " 4   MVMN_SE_NM       38551 non-null  object \n",
      " 5   PAYMENT_NUM      38551 non-null  int64  \n",
      " 6   BRNO             6906 non-null   float64\n",
      " 7   STORE_NM         7161 non-null   object \n",
      " 8   PAYMENT_DT       8531 non-null   object \n",
      " 9   PAYMENT_MTHD_SE  8930 non-null   float64\n",
      " 10  PAYMENT_AMT_WON  38549 non-null  float64\n",
      " 11  PAYMENT_ETC      10851 non-null  object \n",
      "dtypes: float64(3), int64(3), object(6)\n",
      "memory usage: 3.5+ MB\n"
     ]
    }
   ],
   "source": [
    "traf_data.info()"
   ]
  },
  {
   "cell_type": "code",
   "execution_count": 10,
   "id": "dd0007fd-d1a3-4673-8109-c2da999aac10",
   "metadata": {},
   "outputs": [
    {
     "name": "stdout",
     "output_type": "stream",
     "text": [
      "<class 'pandas.core.frame.DataFrame'>\n",
      "RangeIndex: 97460 entries, 0 to 97459\n",
      "Data columns (total 18 columns):\n",
      " #   Column             Non-Null Count  Dtype  \n",
      "---  ------             --------------  -----  \n",
      " 0   TRAVEL_ID          97460 non-null  object \n",
      " 1   VISIT_AREA_ID      97460 non-null  int64  \n",
      " 2   ACTIVITY_TYPE_CD   97460 non-null  int64  \n",
      " 3   ACTIVITY_TYPE_SEQ  97460 non-null  int64  \n",
      " 4   CONSUME_HIS_SEQ    97460 non-null  int64  \n",
      " 5   CONSUME_HIS_SNO    97460 non-null  int64  \n",
      " 6   PAYMENT_NUM        97460 non-null  int64  \n",
      " 7   BRNO               74965 non-null  float64\n",
      " 8   STORE_NM           96587 non-null  object \n",
      " 9   ROAD_NM_ADDR       86664 non-null  object \n",
      " 10  LOTNO_ADDR         59868 non-null  object \n",
      " 11  ROAD_NM_CD         78609 non-null  float64\n",
      " 12  LOTNO_CD           78609 non-null  float64\n",
      " 13  PAYMENT_DT         81572 non-null  object \n",
      " 14  PAYMENT_MTHD_SE    96996 non-null  float64\n",
      " 15  PAYMENT_AMT_WON    97428 non-null  float64\n",
      " 16  PAYMENT_ETC        59714 non-null  object \n",
      " 17  SGG_CD             15094 non-null  float64\n",
      "dtypes: float64(6), int64(6), object(6)\n",
      "memory usage: 13.4+ MB\n"
     ]
    }
   ],
   "source": [
    "acti_data.info()"
   ]
  },
  {
   "cell_type": "code",
   "execution_count": 11,
   "id": "5a3a174b-d06a-4bb8-923b-213dd925b3b5",
   "metadata": {},
   "outputs": [
    {
     "name": "stdout",
     "output_type": "stream",
     "text": [
      "<class 'pandas.core.frame.DataFrame'>\n",
      "RangeIndex: 21056 entries, 0 to 21055\n",
      "Data columns (total 6 columns):\n",
      " #   Column               Non-Null Count  Dtype \n",
      "---  ------               --------------  ----- \n",
      " 0   COMPANION_SEQ        21056 non-null  int64 \n",
      " 1   TRAVEL_ID            21056 non-null  object\n",
      " 2   REL_CD               21056 non-null  int64 \n",
      " 3   COMPANION_GENDER     21056 non-null  int64 \n",
      " 4   COMPANION_AGE_GRP    21056 non-null  int64 \n",
      " 5   COMPANION_SITUATION  21056 non-null  int64 \n",
      "dtypes: int64(5), object(1)\n",
      "memory usage: 987.1+ KB\n"
     ]
    }
   ],
   "source": [
    "companicon_data.info()"
   ]
  },
  {
   "cell_type": "markdown",
   "id": "7daa7b1f-91fa-4fcf-8afe-e4b4683b523d",
   "metadata": {},
   "source": [
    "### 동반자 평균연령구하기"
   ]
  },
  {
   "cell_type": "code",
   "execution_count": 12,
   "id": "e571b36c-6641-44b0-8cb4-696de9c76bac",
   "metadata": {},
   "outputs": [
    {
     "name": "stdout",
     "output_type": "stream",
     "text": [
      "<class 'pandas.core.frame.DataFrame'>\n",
      "Index: 11009 entries, a_a000007 to d_d012491\n",
      "Data columns (total 1 columns):\n",
      " #   Column             Non-Null Count  Dtype \n",
      "---  ------             --------------  ----- \n",
      " 0   COMPANION_AGE_avg  11009 non-null  object\n",
      "dtypes: object(1)\n",
      "memory usage: 172.0+ KB\n",
      "None\n"
     ]
    }
   ],
   "source": [
    "import numpy as np\n",
    "companicon_data['COMPANION_AGE_avg']=10*(companicon_data['COMPANION_AGE_GRP']-1)+5\n",
    "\n",
    "companicon_data['COMPANION_AGE_avg'] = companicon_data['COMPANION_AGE_avg'].apply(lambda x: [x])\n",
    "companicon_data=companicon_data.groupby('TRAVEL_ID').agg({'COMPANION_AGE_avg': 'sum'})\n",
    "#comp_age=companicon_data.groupby('TRAVELER_ID').agg({'COMPANION_AGE_avg': 'sum'})\n",
    "print(companicon_data.info())\n",
    "\n",
    "  #동반자 연령 평균\n",
    "s=0\n",
    "l=0\n",
    "for i in companicon_data['COMPANION_AGE_avg']:\n",
    "    l+=len(i)\n",
    "    for j in i:\n",
    "      s+=j\n",
    "avg=s/l\n",
    "\n",
    "from statistics import mean\n",
    "companicon_data['age_avg']=np.nan\n",
    "for i in range(len(companicon_data)):\n",
    "    if len(companicon_data['COMPANION_AGE_avg'][i])>0:\n",
    "        companicon_data['age_avg'][i]=mean(companicon_data['COMPANION_AGE_avg'][i])\n",
    "    else:\n",
    "        companicon_data['age_avg'][i]=np.nan\n",
    "\n",
    "companicon_data=companicon_data.drop('COMPANION_AGE_avg',axis=1)"
   ]
  },
  {
   "cell_type": "code",
   "execution_count": 13,
   "id": "4e56cabe-f37b-4101-be88-e9a72e985298",
   "metadata": {
    "scrolled": true
   },
   "outputs": [
    {
     "name": "stdout",
     "output_type": "stream",
     "text": [
      "<class 'pandas.core.frame.DataFrame'>\n",
      "RangeIndex: 11009 entries, 0 to 11008\n",
      "Data columns (total 2 columns):\n",
      " #   Column     Non-Null Count  Dtype  \n",
      "---  ------     --------------  -----  \n",
      " 0   TRAVEL_ID  11009 non-null  object \n",
      " 1   age_avg    11009 non-null  float64\n",
      "dtypes: float64(1), object(1)\n",
      "memory usage: 172.1+ KB\n"
     ]
    }
   ],
   "source": [
    "companicon_data = companicon_data.reset_index()\n",
    "companicon_data.info()"
   ]
  },
  {
   "cell_type": "code",
   "execution_count": 14,
   "id": "3cad0169-a1c5-4336-9836-d9a0c6b87a2b",
   "metadata": {},
   "outputs": [
    {
     "data": {
      "text/html": [
       "<div>\n",
       "<style scoped>\n",
       "    .dataframe tbody tr th:only-of-type {\n",
       "        vertical-align: middle;\n",
       "    }\n",
       "\n",
       "    .dataframe tbody tr th {\n",
       "        vertical-align: top;\n",
       "    }\n",
       "\n",
       "    .dataframe thead th {\n",
       "        text-align: right;\n",
       "    }\n",
       "</style>\n",
       "<table border=\"1\" class=\"dataframe\">\n",
       "  <thead>\n",
       "    <tr style=\"text-align: right;\">\n",
       "      <th></th>\n",
       "      <th>TRAVEL_ID</th>\n",
       "      <th>age_avg</th>\n",
       "    </tr>\n",
       "  </thead>\n",
       "  <tbody>\n",
       "    <tr>\n",
       "      <th>0</th>\n",
       "      <td>a_a000007</td>\n",
       "      <td>37.000000</td>\n",
       "    </tr>\n",
       "    <tr>\n",
       "      <th>1</th>\n",
       "      <td>a_a000011</td>\n",
       "      <td>29.000000</td>\n",
       "    </tr>\n",
       "    <tr>\n",
       "      <th>2</th>\n",
       "      <td>a_a000013</td>\n",
       "      <td>25.000000</td>\n",
       "    </tr>\n",
       "    <tr>\n",
       "      <th>3</th>\n",
       "      <td>a_a000014</td>\n",
       "      <td>56.666667</td>\n",
       "    </tr>\n",
       "    <tr>\n",
       "      <th>4</th>\n",
       "      <td>a_a000018</td>\n",
       "      <td>21.666667</td>\n",
       "    </tr>\n",
       "    <tr>\n",
       "      <th>...</th>\n",
       "      <td>...</td>\n",
       "      <td>...</td>\n",
       "    </tr>\n",
       "    <tr>\n",
       "      <th>11004</th>\n",
       "      <td>d_d012443</td>\n",
       "      <td>20.000000</td>\n",
       "    </tr>\n",
       "    <tr>\n",
       "      <th>11005</th>\n",
       "      <td>d_d012446</td>\n",
       "      <td>10.000000</td>\n",
       "    </tr>\n",
       "    <tr>\n",
       "      <th>11006</th>\n",
       "      <td>d_d012472</td>\n",
       "      <td>40.000000</td>\n",
       "    </tr>\n",
       "    <tr>\n",
       "      <th>11007</th>\n",
       "      <td>d_d012487</td>\n",
       "      <td>35.000000</td>\n",
       "    </tr>\n",
       "    <tr>\n",
       "      <th>11008</th>\n",
       "      <td>d_d012491</td>\n",
       "      <td>35.000000</td>\n",
       "    </tr>\n",
       "  </tbody>\n",
       "</table>\n",
       "<p>11009 rows × 2 columns</p>\n",
       "</div>"
      ],
      "text/plain": [
       "       TRAVEL_ID    age_avg\n",
       "0      a_a000007  37.000000\n",
       "1      a_a000011  29.000000\n",
       "2      a_a000013  25.000000\n",
       "3      a_a000014  56.666667\n",
       "4      a_a000018  21.666667\n",
       "...          ...        ...\n",
       "11004  d_d012443  20.000000\n",
       "11005  d_d012446  10.000000\n",
       "11006  d_d012472  40.000000\n",
       "11007  d_d012487  35.000000\n",
       "11008  d_d012491  35.000000\n",
       "\n",
       "[11009 rows x 2 columns]"
      ]
     },
     "execution_count": 14,
     "metadata": {},
     "output_type": "execute_result"
    }
   ],
   "source": [
    "companicon_data"
   ]
  },
  {
   "cell_type": "markdown",
   "id": "c0bf6564-bc61-4bd3-b3ac-09111f38446f",
   "metadata": {},
   "source": [
    "### 데이터 병합 및 비용평균 및 비용합계 구하기"
   ]
  },
  {
   "cell_type": "code",
   "execution_count": 15,
   "id": "5b9b74ce-6d2a-4576-97e5-6a52726df4e3",
   "metadata": {},
   "outputs": [],
   "source": [
    "traveler_data_puri = traveler_data[['TRAVEL_ID', 'INCOME', 'AGE_GRP', 'TRAVEL_COMPANIONS_NUM','TRAVEL_STATUS_DESTINATION','trip_day']]\n",
    "post_data_puri = post_data[['TRAVEL_ID', 'PAYMENT_AMT_WON', 'PAYMENT_NUM']]\n",
    "lod_data_puri = lod_data[['TRAVEL_ID', 'PAYMENT_AMT_WON', 'PAYMENT_NUM']]\n",
    "traf_data_puri = traf_data[['TRAVEL_ID', 'PAYMENT_AMT_WON', 'PAYMENT_NUM']]\n",
    "acti_data_puri = acti_data[['TRAVEL_ID', 'PAYMENT_AMT_WON', 'PAYMENT_NUM']]\n",
    "companicon_data_puri = companicon_data[['TRAVEL_ID', 'age_avg']]"
   ]
  },
  {
   "cell_type": "code",
   "execution_count": 16,
   "id": "5ee53b7e-5d53-4a77-ad38-85b9a4ebb19c",
   "metadata": {
    "scrolled": true
   },
   "outputs": [],
   "source": [
    "post_data_puri.rename(columns={'PAYMENT_AMT_WON': 'POST_PAYMENT_AMT_WON', 'PAYMENT_NUM': 'POST_PAYMENT_NUM'}, inplace=True)\n",
    "lod_data_puri.rename(columns={'PAYMENT_AMT_WON': 'LOD_PAYMENT_AMT_WON', 'PAYMENT_NUM': 'LOD_PAYMENT_NUM'}, inplace=True)\n",
    "traf_data_puri.rename(columns={'PAYMENT_AMT_WON': 'TRAF_PAYMENT_AMT_WON', 'PAYMENT_NUM': 'TRAF_PAYMENT_NUM'}, inplace=True)\n",
    "acti_data_puri.rename(columns={'PAYMENT_AMT_WON': 'ACTI_PAYMENT_AMT_WON', 'PAYMENT_NUM': 'ACTI_PAYMENT_NUM'}, inplace=True)"
   ]
  },
  {
   "cell_type": "code",
   "execution_count": 17,
   "id": "8b26dc62-96d7-45eb-a9d3-173d626bf93a",
   "metadata": {
    "scrolled": true
   },
   "outputs": [],
   "source": [
    "tmplst = ['POST','LOD','TRAF','ACTI']\n",
    "for tmp in tmplst:\n",
    "    globals()[f'{tmp.lower()}_data_puri'][f'ALL_{tmp}_PAYMENT_AMT_WON'] = globals()[f'{tmp.lower()}_data_puri'].groupby('TRAVEL_ID')[f'{tmp}_PAYMENT_AMT_WON'].transform('sum')\n",
    "    globals()[f'{tmp.lower()}_data_puri'][f'ALL_{tmp}_PAYMENT_AMT_WON_mean'] = globals()[f'{tmp.lower()}_data_puri'].groupby('TRAVEL_ID')[f'{tmp}_PAYMENT_AMT_WON'].transform('sum')/globals()[f'{tmp.lower()}_data_puri'][f'{tmp}_PAYMENT_NUM']\n"
   ]
  },
  {
   "cell_type": "code",
   "execution_count": 18,
   "id": "db95aa59-9a9f-473e-a26b-2f0fbd2ea2f2",
   "metadata": {},
   "outputs": [
    {
     "name": "stdout",
     "output_type": "stream",
     "text": [
      "<class 'pandas.core.frame.DataFrame'>\n",
      "RangeIndex: 3615 entries, 0 to 3614\n",
      "Data columns (total 5 columns):\n",
      " #   Column                         Non-Null Count  Dtype  \n",
      "---  ------                         --------------  -----  \n",
      " 0   TRAVEL_ID                      3615 non-null   object \n",
      " 1   POST_PAYMENT_AMT_WON           3615 non-null   int64  \n",
      " 2   POST_PAYMENT_NUM               3615 non-null   int64  \n",
      " 3   ALL_POST_PAYMENT_AMT_WON       3615 non-null   int64  \n",
      " 4   ALL_POST_PAYMENT_AMT_WON_mean  3615 non-null   float64\n",
      "dtypes: float64(1), int64(3), object(1)\n",
      "memory usage: 141.3+ KB\n",
      "None\n",
      "<class 'pandas.core.frame.DataFrame'>\n",
      "RangeIndex: 11311 entries, 0 to 11310\n",
      "Data columns (total 5 columns):\n",
      " #   Column                        Non-Null Count  Dtype  \n",
      "---  ------                        --------------  -----  \n",
      " 0   TRAVEL_ID                     11311 non-null  object \n",
      " 1   LOD_PAYMENT_AMT_WON           11311 non-null  int64  \n",
      " 2   LOD_PAYMENT_NUM               11311 non-null  int64  \n",
      " 3   ALL_LOD_PAYMENT_AMT_WON       11311 non-null  int64  \n",
      " 4   ALL_LOD_PAYMENT_AMT_WON_mean  11311 non-null  float64\n",
      "dtypes: float64(1), int64(3), object(1)\n",
      "memory usage: 442.0+ KB\n",
      "None\n",
      "<class 'pandas.core.frame.DataFrame'>\n",
      "RangeIndex: 38551 entries, 0 to 38550\n",
      "Data columns (total 5 columns):\n",
      " #   Column                         Non-Null Count  Dtype  \n",
      "---  ------                         --------------  -----  \n",
      " 0   TRAVEL_ID                      38551 non-null  object \n",
      " 1   TRAF_PAYMENT_AMT_WON           38549 non-null  float64\n",
      " 2   TRAF_PAYMENT_NUM               38551 non-null  int64  \n",
      " 3   ALL_TRAF_PAYMENT_AMT_WON       38551 non-null  float64\n",
      " 4   ALL_TRAF_PAYMENT_AMT_WON_mean  38551 non-null  float64\n",
      "dtypes: float64(3), int64(1), object(1)\n",
      "memory usage: 1.5+ MB\n",
      "None\n",
      "<class 'pandas.core.frame.DataFrame'>\n",
      "RangeIndex: 97460 entries, 0 to 97459\n",
      "Data columns (total 5 columns):\n",
      " #   Column                         Non-Null Count  Dtype  \n",
      "---  ------                         --------------  -----  \n",
      " 0   TRAVEL_ID                      97460 non-null  object \n",
      " 1   ACTI_PAYMENT_AMT_WON           97428 non-null  float64\n",
      " 2   ACTI_PAYMENT_NUM               97460 non-null  int64  \n",
      " 3   ALL_ACTI_PAYMENT_AMT_WON       97460 non-null  float64\n",
      " 4   ALL_ACTI_PAYMENT_AMT_WON_mean  97460 non-null  float64\n",
      "dtypes: float64(3), int64(1), object(1)\n",
      "memory usage: 3.7+ MB\n",
      "None\n"
     ]
    }
   ],
   "source": [
    "for tmp in tmplst:\n",
    "    print(globals()[f'{tmp.lower()}_data_puri'].info())"
   ]
  },
  {
   "cell_type": "code",
   "execution_count": 19,
   "id": "ef778700-6f5b-4fea-a171-db2e755969f8",
   "metadata": {
    "scrolled": true
   },
   "outputs": [
    {
     "name": "stdout",
     "output_type": "stream",
     "text": [
      "        TRAVEL_ID  INCOME  AGE_GRP  TRAVEL_COMPANIONS_NUM  \\\n",
      "0       b_b015583       3       20                      1   \n",
      "4       a_a001105       4       30                      7   \n",
      "20      a_a001673       5       30                      2   \n",
      "44      a_a017690       5       30                      3   \n",
      "46      c_c006666       3       30                      0   \n",
      "...           ...     ...      ...                    ...   \n",
      "470856  d_d012387       4       40                      0   \n",
      "470857  d_d004823       5       40                      0   \n",
      "470865  d_d006166       2       50                      2   \n",
      "470955  d_d011757       3       20                      1   \n",
      "471123  d_d006693       3       20                      0   \n",
      "\n",
      "       TRAVEL_STATUS_DESTINATION  trip_day  age_avg  POST_PAYMENT_AMT_WON  \\\n",
      "0                             충남         2     25.0               24000.0   \n",
      "4                             경기         2     31.0                   NaN   \n",
      "20                            서울         2     20.0               55000.0   \n",
      "44                            서울         1     35.0                   0.0   \n",
      "46                            경기         1      NaN                   NaN   \n",
      "...                          ...       ...      ...                   ...   \n",
      "470856                        제주         1      NaN                   NaN   \n",
      "470857                        제주         3      NaN                   NaN   \n",
      "470865                        제주         4     20.0                   NaN   \n",
      "470955                        제주         3     25.0                   NaN   \n",
      "471123                        제주         3      NaN               19600.0   \n",
      "\n",
      "        POST_PAYMENT_NUM  ALL_POST_PAYMENT_AMT_WON  \\\n",
      "0                    2.0                   50000.0   \n",
      "4                    NaN                       NaN   \n",
      "20                   3.0                   55000.0   \n",
      "44                   4.0                       0.0   \n",
      "46                   NaN                       NaN   \n",
      "...                  ...                       ...   \n",
      "470856               NaN                       NaN   \n",
      "470857               NaN                       NaN   \n",
      "470865               NaN                       NaN   \n",
      "470955               NaN                       NaN   \n",
      "471123               1.0                   19600.0   \n",
      "\n",
      "        ALL_POST_PAYMENT_AMT_WON_mean  LOD_PAYMENT_AMT_WON  LOD_PAYMENT_NUM  \\\n",
      "0                        25000.000000                  NaN              NaN   \n",
      "4                                 NaN             390000.0              7.0   \n",
      "20                       18333.333333             165000.0              3.0   \n",
      "44                           0.000000                  NaN              NaN   \n",
      "46                                NaN                  NaN              NaN   \n",
      "...                               ...                  ...              ...   \n",
      "470856                            NaN                  NaN              NaN   \n",
      "470857                            NaN                  0.0              1.0   \n",
      "470865                            NaN             204000.0              3.0   \n",
      "470955                            NaN              76000.0              2.0   \n",
      "471123                   19600.000000              35000.0              1.0   \n",
      "\n",
      "        ALL_LOD_PAYMENT_AMT_WON  ALL_LOD_PAYMENT_AMT_WON_mean  \\\n",
      "0                           NaN                           NaN   \n",
      "4                      530000.0                  75714.285714   \n",
      "20                     165000.0                  55000.000000   \n",
      "44                          NaN                           NaN   \n",
      "46                          NaN                           NaN   \n",
      "...                         ...                           ...   \n",
      "470856                      NaN                           NaN   \n",
      "470857                      0.0                      0.000000   \n",
      "470865                 264000.0                  88000.000000   \n",
      "470955                 154716.0                  77358.000000   \n",
      "471123                 147110.0                 147110.000000   \n",
      "\n",
      "        TRAF_PAYMENT_AMT_WON  TRAF_PAYMENT_NUM  ALL_TRAF_PAYMENT_AMT_WON  \\\n",
      "0                    50000.0               2.0                   50000.0   \n",
      "4                    70000.0               2.0                   88000.0   \n",
      "20                   22700.0               1.0                   64500.0   \n",
      "44                    3700.0               1.0                    3700.0   \n",
      "46                    4000.0               2.0                    7240.0   \n",
      "...                      ...               ...                       ...   \n",
      "470856                   NaN               NaN                       NaN   \n",
      "470857               61321.0               1.0                  122642.0   \n",
      "470865              172000.0               2.0                  267000.0   \n",
      "470955               43900.0               2.0                  253852.0   \n",
      "471123               53400.0               1.0                  214200.0   \n",
      "\n",
      "        ALL_TRAF_PAYMENT_AMT_WON_mean  ACTI_PAYMENT_AMT_WON  ACTI_PAYMENT_NUM  \\\n",
      "0                             25000.0               40000.0               2.0   \n",
      "4                             44000.0               32000.0               6.0   \n",
      "20                            64500.0               42000.0               1.0   \n",
      "44                             3700.0               34000.0               3.0   \n",
      "46                             3620.0               26000.0               2.0   \n",
      "...                               ...                   ...               ...   \n",
      "470856                            NaN                4500.0               1.0   \n",
      "470857                       122642.0                2900.0               1.0   \n",
      "470865                       133500.0               21000.0               3.0   \n",
      "470955                       126926.0               21000.0               2.0   \n",
      "471123                       214200.0               10000.0               1.0   \n",
      "\n",
      "        ALL_ACTI_PAYMENT_AMT_WON  ALL_ACTI_PAYMENT_AMT_WON_mean  \n",
      "0                        42000.0                   21000.000000  \n",
      "4                        91200.0                   15200.000000  \n",
      "20                      201200.0                  201200.000000  \n",
      "44                       56800.0                   18933.333333  \n",
      "46                       26000.0                   13000.000000  \n",
      "...                          ...                            ...  \n",
      "470856                    4500.0                    4500.000000  \n",
      "470857                   66900.0                   66900.000000  \n",
      "470865                  625310.0                  208436.666667  \n",
      "470955                  300000.0                  150000.000000  \n",
      "471123                  122900.0                  122900.000000  \n",
      "\n",
      "[14395 rows x 23 columns]\n"
     ]
    }
   ],
   "source": [
    "import numpy as np\n",
    "combined_data = pd.merge(post_data_puri, lod_data_puri, on='TRAVEL_ID', how='outer')\n",
    "combined_data = pd.merge(combined_data, traf_data_puri, on='TRAVEL_ID', how='outer')\n",
    "combined_data = pd.merge(combined_data, acti_data_puri, on='TRAVEL_ID', how='outer')\n",
    "combined_data = pd.merge(companicon_data_puri, combined_data, on='TRAVEL_ID', how='outer')\n",
    "combined_data = pd.merge(traveler_data_puri, combined_data, on='TRAVEL_ID', how='inner')\n",
    "\n",
    "\n",
    "combined_data.reset_index(drop = True, inplace = True)\n",
    "combined_data.drop_duplicates(['TRAVEL_ID'], inplace = True)\n",
    "print(combined_data)"
   ]
  },
  {
   "cell_type": "code",
   "execution_count": 20,
   "id": "edb4a2cb-42a0-42af-badb-11a861f8a46b",
   "metadata": {},
   "outputs": [
    {
     "name": "stdout",
     "output_type": "stream",
     "text": [
      "<class 'pandas.core.frame.DataFrame'>\n",
      "Int64Index: 14395 entries, 0 to 471123\n",
      "Data columns (total 23 columns):\n",
      " #   Column                         Non-Null Count  Dtype  \n",
      "---  ------                         --------------  -----  \n",
      " 0   TRAVEL_ID                      14395 non-null  object \n",
      " 1   INCOME                         14395 non-null  int64  \n",
      " 2   AGE_GRP                        14395 non-null  int64  \n",
      " 3   TRAVEL_COMPANIONS_NUM          14395 non-null  int64  \n",
      " 4   TRAVEL_STATUS_DESTINATION      14395 non-null  object \n",
      " 5   trip_day                       14395 non-null  int64  \n",
      " 6   age_avg                        9909 non-null   float64\n",
      " 7   POST_PAYMENT_AMT_WON           2879 non-null   float64\n",
      " 8   POST_PAYMENT_NUM               2879 non-null   float64\n",
      " 9   ALL_POST_PAYMENT_AMT_WON       2879 non-null   float64\n",
      " 10  ALL_POST_PAYMENT_AMT_WON_mean  2879 non-null   float64\n",
      " 11  LOD_PAYMENT_AMT_WON            7198 non-null   float64\n",
      " 12  LOD_PAYMENT_NUM                7198 non-null   float64\n",
      " 13  ALL_LOD_PAYMENT_AMT_WON        7198 non-null   float64\n",
      " 14  ALL_LOD_PAYMENT_AMT_WON_mean   7198 non-null   float64\n",
      " 15  TRAF_PAYMENT_AMT_WON           13436 non-null  float64\n",
      " 16  TRAF_PAYMENT_NUM               13436 non-null  float64\n",
      " 17  ALL_TRAF_PAYMENT_AMT_WON       13436 non-null  float64\n",
      " 18  ALL_TRAF_PAYMENT_AMT_WON_mean  13436 non-null  float64\n",
      " 19  ACTI_PAYMENT_AMT_WON           14059 non-null  float64\n",
      " 20  ACTI_PAYMENT_NUM               14060 non-null  float64\n",
      " 21  ALL_ACTI_PAYMENT_AMT_WON       14060 non-null  float64\n",
      " 22  ALL_ACTI_PAYMENT_AMT_WON_mean  14060 non-null  float64\n",
      "dtypes: float64(17), int64(4), object(2)\n",
      "memory usage: 2.6+ MB\n"
     ]
    }
   ],
   "source": [
    "combined_data.info()"
   ]
  },
  {
   "cell_type": "markdown",
   "id": "1e9310fb-b0b6-4e6d-ad88-6a2b6d46605d",
   "metadata": {},
   "source": [
    "### 제주도데이터만 남기기"
   ]
  },
  {
   "cell_type": "code",
   "execution_count": 21,
   "id": "61318a09-a6e7-4b1e-afe5-a04210f55d91",
   "metadata": {},
   "outputs": [
    {
     "name": "stdout",
     "output_type": "stream",
     "text": [
      "제주       2803\n",
      "경기       2155\n",
      "강원       1408\n",
      "서울       1248\n",
      "전남       1010\n",
      "충남        938\n",
      "경북        865\n",
      "전북        740\n",
      "경남        652\n",
      "충북        572\n",
      "인천        523\n",
      "부산        518\n",
      "대전        307\n",
      "대구        215\n",
      "울산        149\n",
      "광주        132\n",
      "세종         97\n",
      "도서 지역      63\n",
      "Name: TRAVEL_STATUS_DESTINATION, dtype: int64\n"
     ]
    }
   ],
   "source": [
    "unique_counts = combined_data['TRAVEL_STATUS_DESTINATION'].value_counts()\n",
    "print(unique_counts)"
   ]
  },
  {
   "cell_type": "code",
   "execution_count": 22,
   "id": "552f8117-30af-4a0b-9548-cdf6ce26561b",
   "metadata": {},
   "outputs": [],
   "source": [
    "combined_data = combined_data[combined_data['TRAVEL_STATUS_DESTINATION'] == '제주']"
   ]
  },
  {
   "cell_type": "code",
   "execution_count": 23,
   "id": "dd4902e1-be52-4272-959f-d0c66ab0c080",
   "metadata": {},
   "outputs": [
    {
     "data": {
      "text/plain": [
       "2803"
      ]
     },
     "execution_count": 23,
     "metadata": {},
     "output_type": "execute_result"
    }
   ],
   "source": [
    "len(combined_data['TRAVEL_ID'].unique())"
   ]
  },
  {
   "cell_type": "code",
   "execution_count": 24,
   "id": "48157ffb-e010-4240-84c0-89bb86c93306",
   "metadata": {},
   "outputs": [
    {
     "data": {
      "text/plain": [
       "Index(['TRAVEL_ID', 'INCOME', 'AGE_GRP', 'TRAVEL_COMPANIONS_NUM',\n",
       "       'TRAVEL_STATUS_DESTINATION', 'trip_day', 'age_avg',\n",
       "       'POST_PAYMENT_AMT_WON', 'POST_PAYMENT_NUM', 'ALL_POST_PAYMENT_AMT_WON',\n",
       "       'ALL_POST_PAYMENT_AMT_WON_mean', 'LOD_PAYMENT_AMT_WON',\n",
       "       'LOD_PAYMENT_NUM', 'ALL_LOD_PAYMENT_AMT_WON',\n",
       "       'ALL_LOD_PAYMENT_AMT_WON_mean', 'TRAF_PAYMENT_AMT_WON',\n",
       "       'TRAF_PAYMENT_NUM', 'ALL_TRAF_PAYMENT_AMT_WON',\n",
       "       'ALL_TRAF_PAYMENT_AMT_WON_mean', 'ACTI_PAYMENT_AMT_WON',\n",
       "       'ACTI_PAYMENT_NUM', 'ALL_ACTI_PAYMENT_AMT_WON',\n",
       "       'ALL_ACTI_PAYMENT_AMT_WON_mean'],\n",
       "      dtype='object')"
      ]
     },
     "execution_count": 24,
     "metadata": {},
     "output_type": "execute_result"
    }
   ],
   "source": [
    "combined_data.columns"
   ]
  },
  {
   "cell_type": "code",
   "execution_count": 25,
   "id": "56e1f800-d6cc-4968-9d18-7e84b0a6c09b",
   "metadata": {},
   "outputs": [],
   "source": [
    "combined_data['ALL_PAYMENT_AMT_WON'] = combined_data[[f'ALL_{tmp}_PAYMENT_AMT_WON' for tmp in tmplst]].sum(axis=1)\n",
    "combined_data['ALL_PAYMENT_AMT_WON_mean'] = combined_data[[f'ALL_{tmp}_PAYMENT_AMT_WON_mean' for tmp in tmplst]].sum(axis=1)"
   ]
  },
  {
   "cell_type": "code",
   "execution_count": 26,
   "id": "f2f96f1f-0fdc-4fbc-9866-29b3d7d6683d",
   "metadata": {},
   "outputs": [
    {
     "name": "stdout",
     "output_type": "stream",
     "text": [
      "<class 'pandas.core.frame.DataFrame'>\n",
      "Int64Index: 2803 entries, 1483 to 471123\n",
      "Data columns (total 25 columns):\n",
      " #   Column                         Non-Null Count  Dtype  \n",
      "---  ------                         --------------  -----  \n",
      " 0   TRAVEL_ID                      2803 non-null   object \n",
      " 1   INCOME                         2803 non-null   int64  \n",
      " 2   AGE_GRP                        2803 non-null   int64  \n",
      " 3   TRAVEL_COMPANIONS_NUM          2803 non-null   int64  \n",
      " 4   TRAVEL_STATUS_DESTINATION      2803 non-null   object \n",
      " 5   trip_day                       2803 non-null   int64  \n",
      " 6   age_avg                        1884 non-null   float64\n",
      " 7   POST_PAYMENT_AMT_WON           497 non-null    float64\n",
      " 8   POST_PAYMENT_NUM               497 non-null    float64\n",
      " 9   ALL_POST_PAYMENT_AMT_WON       497 non-null    float64\n",
      " 10  ALL_POST_PAYMENT_AMT_WON_mean  497 non-null    float64\n",
      " 11  LOD_PAYMENT_AMT_WON            2220 non-null   float64\n",
      " 12  LOD_PAYMENT_NUM                2220 non-null   float64\n",
      " 13  ALL_LOD_PAYMENT_AMT_WON        2220 non-null   float64\n",
      " 14  ALL_LOD_PAYMENT_AMT_WON_mean   2220 non-null   float64\n",
      " 15  TRAF_PAYMENT_AMT_WON           2619 non-null   float64\n",
      " 16  TRAF_PAYMENT_NUM               2619 non-null   float64\n",
      " 17  ALL_TRAF_PAYMENT_AMT_WON       2619 non-null   float64\n",
      " 18  ALL_TRAF_PAYMENT_AMT_WON_mean  2619 non-null   float64\n",
      " 19  ACTI_PAYMENT_AMT_WON           2778 non-null   float64\n",
      " 20  ACTI_PAYMENT_NUM               2778 non-null   float64\n",
      " 21  ALL_ACTI_PAYMENT_AMT_WON       2778 non-null   float64\n",
      " 22  ALL_ACTI_PAYMENT_AMT_WON_mean  2778 non-null   float64\n",
      " 23  ALL_PAYMENT_AMT_WON            2803 non-null   float64\n",
      " 24  ALL_PAYMENT_AMT_WON_mean       2803 non-null   float64\n",
      "dtypes: float64(19), int64(4), object(2)\n",
      "memory usage: 569.4+ KB\n"
     ]
    }
   ],
   "source": [
    "combined_data.info()"
   ]
  },
  {
   "cell_type": "code",
   "execution_count": 27,
   "id": "5c8b1a2f-d9ad-4fb8-bc39-b4ce9fedf720",
   "metadata": {},
   "outputs": [],
   "source": [
    "combined_data['ALL_PAYMENT_AMT_WON_mean_by_day'] = combined_data['ALL_PAYMENT_AMT_WON_mean']/combined_data['trip_day']\n",
    "#combined_data= combined_data.reset_index()"
   ]
  },
  {
   "cell_type": "code",
   "execution_count": 28,
   "id": "599005a1-6a97-4387-aa75-8ff0fcf0074e",
   "metadata": {},
   "outputs": [
    {
     "data": {
      "text/plain": [
       "Index(['TRAVEL_ID', 'INCOME', 'AGE_GRP', 'TRAVEL_COMPANIONS_NUM',\n",
       "       'TRAVEL_STATUS_DESTINATION', 'trip_day', 'age_avg',\n",
       "       'POST_PAYMENT_AMT_WON', 'POST_PAYMENT_NUM', 'ALL_POST_PAYMENT_AMT_WON',\n",
       "       'ALL_POST_PAYMENT_AMT_WON_mean', 'LOD_PAYMENT_AMT_WON',\n",
       "       'LOD_PAYMENT_NUM', 'ALL_LOD_PAYMENT_AMT_WON',\n",
       "       'ALL_LOD_PAYMENT_AMT_WON_mean', 'TRAF_PAYMENT_AMT_WON',\n",
       "       'TRAF_PAYMENT_NUM', 'ALL_TRAF_PAYMENT_AMT_WON',\n",
       "       'ALL_TRAF_PAYMENT_AMT_WON_mean', 'ACTI_PAYMENT_AMT_WON',\n",
       "       'ACTI_PAYMENT_NUM', 'ALL_ACTI_PAYMENT_AMT_WON',\n",
       "       'ALL_ACTI_PAYMENT_AMT_WON_mean', 'ALL_PAYMENT_AMT_WON',\n",
       "       'ALL_PAYMENT_AMT_WON_mean', 'ALL_PAYMENT_AMT_WON_mean_by_day'],\n",
       "      dtype='object')"
      ]
     },
     "execution_count": 28,
     "metadata": {},
     "output_type": "execute_result"
    }
   ],
   "source": [
    "combined_data.columns"
   ]
  },
  {
   "cell_type": "markdown",
   "id": "81f6aa40-e71e-4495-b17e-297938afc807",
   "metadata": {},
   "source": [
    "### 데이터들 간의 상관관계보기"
   ]
  },
  {
   "cell_type": "code",
   "execution_count": 29,
   "id": "73f466c2-0ffe-4e93-bb0d-e4668f8ede73",
   "metadata": {},
   "outputs": [
    {
     "data": {
      "image/png": "[encoded data removed]",
      "text/plain": [
       "<Figure size 1000x800 with 2 Axes>"
      ]
     },
     "metadata": {},
     "output_type": "display_data"
    },
    {
     "name": "stdout",
     "output_type": "stream",
     "text": [
      "                                   INCOME   AGE_GRP  TRAVEL_COMPANIONS_NUM  \\\n",
      "INCOME                           1.000000  0.256184               0.083940   \n",
      "AGE_GRP                          0.256184  1.000000               0.170338   \n",
      "TRAVEL_COMPANIONS_NUM            0.083940  0.170338               1.000000   \n",
      "trip_day                         0.060668 -0.069945               0.068457   \n",
      "age_avg                          0.100803  0.209452              -0.020181   \n",
      "POST_PAYMENT_AMT_WON             0.164022  0.006050               0.380887   \n",
      "POST_PAYMENT_NUM                 0.109262  0.158115               0.690667   \n",
      "ALL_POST_PAYMENT_AMT_WON         0.164941  0.026427               0.386008   \n",
      "ALL_POST_PAYMENT_AMT_WON_mean    0.138300 -0.004186               0.225503   \n",
      "LOD_PAYMENT_AMT_WON              0.107215  0.099140               0.399295   \n",
      "LOD_PAYMENT_NUM                  0.080644  0.190265               0.929741   \n",
      "ALL_LOD_PAYMENT_AMT_WON          0.116442  0.103896               0.441483   \n",
      "ALL_LOD_PAYMENT_AMT_WON_mean     0.127814  0.035078              -0.010511   \n",
      "TRAF_PAYMENT_AMT_WON             0.089120  0.079636               0.324440   \n",
      "TRAF_PAYMENT_NUM                 0.095016  0.179788               0.885961   \n",
      "ALL_TRAF_PAYMENT_AMT_WON         0.134743  0.042711               0.614052   \n",
      "ALL_TRAF_PAYMENT_AMT_WON_mean    0.100260 -0.094100               0.103482   \n",
      "ACTI_PAYMENT_AMT_WON             0.076252  0.020914               0.280148   \n",
      "ACTI_PAYMENT_NUM                 0.095074  0.153235               0.845716   \n",
      "ALL_ACTI_PAYMENT_AMT_WON         0.114816  0.010955               0.500334   \n",
      "ALL_ACTI_PAYMENT_AMT_WON_mean    0.077213 -0.073045               0.071462   \n",
      "ALL_PAYMENT_AMT_WON              0.151402  0.041290               0.627209   \n",
      "ALL_PAYMENT_AMT_WON_mean         0.137503 -0.081304               0.107757   \n",
      "ALL_PAYMENT_AMT_WON_mean_by_day  0.125803 -0.065766               0.090549   \n",
      "\n",
      "                                 trip_day   age_avg  POST_PAYMENT_AMT_WON  \\\n",
      "INCOME                           0.060668  0.100803              0.164022   \n",
      "AGE_GRP                         -0.069945  0.209452              0.006050   \n",
      "TRAVEL_COMPANIONS_NUM            0.068457 -0.020181              0.380887   \n",
      "trip_day                         1.000000  0.050761              0.128599   \n",
      "age_avg                          0.050761  1.000000              0.151253   \n",
      "POST_PAYMENT_AMT_WON             0.128599  0.151253              1.000000   \n",
      "POST_PAYMENT_NUM                -0.023037 -0.077257              0.225903   \n",
      "ALL_POST_PAYMENT_AMT_WON         0.139592  0.131151              0.931106   \n",
      "ALL_POST_PAYMENT_AMT_WON_mean    0.098094  0.150004              0.771925   \n",
      "LOD_PAYMENT_AMT_WON              0.076823  0.065767              0.178502   \n",
      "LOD_PAYMENT_NUM                  0.019901 -0.001936              0.405821   \n",
      "ALL_LOD_PAYMENT_AMT_WON          0.227208  0.069163              0.294510   \n",
      "ALL_LOD_PAYMENT_AMT_WON_mean     0.282695  0.065088              0.108847   \n",
      "TRAF_PAYMENT_AMT_WON             0.090261  0.074424              0.105919   \n",
      "TRAF_PAYMENT_NUM                 0.041140 -0.042932              0.386091   \n",
      "ALL_TRAF_PAYMENT_AMT_WON         0.245210  0.142986              0.481686   \n",
      "ALL_TRAF_PAYMENT_AMT_WON_mean    0.328278  0.150719              0.109761   \n",
      "ACTI_PAYMENT_AMT_WON             0.019992  0.048747              0.347702   \n",
      "ACTI_PAYMENT_NUM                 0.047596 -0.030661              0.405477   \n",
      "ALL_ACTI_PAYMENT_AMT_WON         0.336383  0.120774              0.294614   \n",
      "ALL_ACTI_PAYMENT_AMT_WON_mean    0.353322  0.097705              0.074076   \n",
      "ALL_PAYMENT_AMT_WON              0.373995  0.146467              0.529963   \n",
      "ALL_PAYMENT_AMT_WON_mean         0.483726  0.155959              0.341300   \n",
      "ALL_PAYMENT_AMT_WON_mean_by_day  0.114349  0.164887              0.357109   \n",
      "\n",
      "                                 POST_PAYMENT_NUM  ALL_POST_PAYMENT_AMT_WON  \\\n",
      "INCOME                                   0.109262                  0.164941   \n",
      "AGE_GRP                                  0.158115                  0.026427   \n",
      "TRAVEL_COMPANIONS_NUM                    0.690667                  0.386008   \n",
      "trip_day                                -0.023037                  0.139592   \n",
      "age_avg                                 -0.077257                  0.131151   \n",
      "POST_PAYMENT_AMT_WON                     0.225903                  0.931106   \n",
      "POST_PAYMENT_NUM                         1.000000                  0.273595   \n",
      "ALL_POST_PAYMENT_AMT_WON                 0.273595                  1.000000   \n",
      "ALL_POST_PAYMENT_AMT_WON_mean           -0.096657                  0.819504   \n",
      "LOD_PAYMENT_AMT_WON                      0.330679                  0.148498   \n",
      "LOD_PAYMENT_NUM                          0.677519                  0.378147   \n",
      "ALL_LOD_PAYMENT_AMT_WON                  0.495349                  0.290260   \n",
      "ALL_LOD_PAYMENT_AMT_WON_mean            -0.047892                  0.159650   \n",
      "TRAF_PAYMENT_AMT_WON                     0.322285                  0.091954   \n",
      "TRAF_PAYMENT_NUM                         0.694033                  0.387617   \n",
      "ALL_TRAF_PAYMENT_AMT_WON                 0.360266                  0.458634   \n",
      "ALL_TRAF_PAYMENT_AMT_WON_mean           -0.072431                  0.109988   \n",
      "ACTI_PAYMENT_AMT_WON                     0.469639                  0.326788   \n",
      "ACTI_PAYMENT_NUM                         0.707567                  0.410015   \n",
      "ALL_ACTI_PAYMENT_AMT_WON                 0.353548                  0.308676   \n",
      "ALL_ACTI_PAYMENT_AMT_WON_mean           -0.022890                  0.082745   \n",
      "ALL_PAYMENT_AMT_WON                      0.460991                  0.530313   \n",
      "ALL_PAYMENT_AMT_WON_mean                -0.075939                  0.371705   \n",
      "ALL_PAYMENT_AMT_WON_mean_by_day         -0.070026                  0.378877   \n",
      "\n",
      "                                 ALL_POST_PAYMENT_AMT_WON_mean  \\\n",
      "INCOME                                                0.138300   \n",
      "AGE_GRP                                              -0.004186   \n",
      "TRAVEL_COMPANIONS_NUM                                 0.225503   \n",
      "trip_day                                              0.098094   \n",
      "age_avg                                               0.150004   \n",
      "POST_PAYMENT_AMT_WON                                  0.771925   \n",
      "POST_PAYMENT_NUM                                     -0.096657   \n",
      "ALL_POST_PAYMENT_AMT_WON                              0.819504   \n",
      "ALL_POST_PAYMENT_AMT_WON_mean                         1.000000   \n",
      "LOD_PAYMENT_AMT_WON                                   0.073739   \n",
      "LOD_PAYMENT_NUM                                       0.242455   \n",
      "ALL_LOD_PAYMENT_AMT_WON                               0.097251   \n",
      "ALL_LOD_PAYMENT_AMT_WON_mean                          0.175389   \n",
      "TRAF_PAYMENT_AMT_WON                                 -0.011975   \n",
      "TRAF_PAYMENT_NUM                                      0.232831   \n",
      "ALL_TRAF_PAYMENT_AMT_WON                              0.458589   \n",
      "ALL_TRAF_PAYMENT_AMT_WON_mean                         0.155461   \n",
      "ACTI_PAYMENT_AMT_WON                                  0.153388   \n",
      "ACTI_PAYMENT_NUM                                      0.254525   \n",
      "ALL_ACTI_PAYMENT_AMT_WON                              0.175401   \n",
      "ALL_ACTI_PAYMENT_AMT_WON_mean                         0.059589   \n",
      "ALL_PAYMENT_AMT_WON                                   0.404004   \n",
      "ALL_PAYMENT_AMT_WON_mean                              0.426064   \n",
      "ALL_PAYMENT_AMT_WON_mean_by_day                       0.471267   \n",
      "\n",
      "                                 LOD_PAYMENT_AMT_WON  LOD_PAYMENT_NUM  \\\n",
      "INCOME                                      0.107215         0.080644   \n",
      "AGE_GRP                                     0.099140         0.190265   \n",
      "TRAVEL_COMPANIONS_NUM                       0.399295         0.929741   \n",
      "trip_day                                    0.076823         0.019901   \n",
      "age_avg                                     0.065767        -0.001936   \n",
      "POST_PAYMENT_AMT_WON                        0.178502         0.405821   \n",
      "POST_PAYMENT_NUM                            0.330679         0.677519   \n",
      "ALL_POST_PAYMENT_AMT_WON                    0.148498         0.378147   \n",
      "ALL_POST_PAYMENT_AMT_WON_mean               0.073739         0.242455   \n",
      "LOD_PAYMENT_AMT_WON                         1.000000         0.427815   \n",
      "LOD_PAYMENT_NUM                             0.427815         1.000000   \n",
      "ALL_LOD_PAYMENT_AMT_WON                     0.787022         0.457509   \n",
      "ALL_LOD_PAYMENT_AMT_WON_mean                0.437369        -0.058552   \n",
      "TRAF_PAYMENT_AMT_WON                        0.211942         0.316273   \n",
      "TRAF_PAYMENT_NUM                            0.329055         0.894903   \n",
      "ALL_TRAF_PAYMENT_AMT_WON                    0.339138         0.645312   \n",
      "ALL_TRAF_PAYMENT_AMT_WON_mean               0.160718         0.085791   \n",
      "ACTI_PAYMENT_AMT_WON                        0.106106         0.293774   \n",
      "ACTI_PAYMENT_NUM                            0.323831         0.878838   \n",
      "ALL_ACTI_PAYMENT_AMT_WON                    0.266050         0.491686   \n",
      "ALL_ACTI_PAYMENT_AMT_WON_mean               0.108239         0.017479   \n",
      "ALL_PAYMENT_AMT_WON                         0.571641         0.671024   \n",
      "ALL_PAYMENT_AMT_WON_mean                    0.312368         0.045342   \n",
      "ALL_PAYMENT_AMT_WON_mean_by_day             0.309723         0.048377   \n",
      "\n",
      "                                 ALL_LOD_PAYMENT_AMT_WON  \\\n",
      "INCOME                                          0.116442   \n",
      "AGE_GRP                                         0.103896   \n",
      "TRAVEL_COMPANIONS_NUM                           0.441483   \n",
      "trip_day                                        0.227208   \n",
      "age_avg                                         0.069163   \n",
      "POST_PAYMENT_AMT_WON                            0.294510   \n",
      "POST_PAYMENT_NUM                                0.495349   \n",
      "ALL_POST_PAYMENT_AMT_WON                        0.290260   \n",
      "ALL_POST_PAYMENT_AMT_WON_mean                   0.097251   \n",
      "LOD_PAYMENT_AMT_WON                             0.787022   \n",
      "LOD_PAYMENT_NUM                                 0.457509   \n",
      "ALL_LOD_PAYMENT_AMT_WON                         1.000000   \n",
      "ALL_LOD_PAYMENT_AMT_WON_mean                    0.695929   \n",
      "TRAF_PAYMENT_AMT_WON                            0.221993   \n",
      "TRAF_PAYMENT_NUM                                0.395214   \n",
      "ALL_TRAF_PAYMENT_AMT_WON                        0.423196   \n",
      "ALL_TRAF_PAYMENT_AMT_WON_mean                   0.204241   \n",
      "ACTI_PAYMENT_AMT_WON                            0.240038   \n",
      "ACTI_PAYMENT_NUM                                0.366752   \n",
      "ALL_ACTI_PAYMENT_AMT_WON                        0.365644   \n",
      "ALL_ACTI_PAYMENT_AMT_WON_mean                   0.165760   \n",
      "ALL_PAYMENT_AMT_WON                             0.737576   \n",
      "ALL_PAYMENT_AMT_WON_mean                        0.469724   \n",
      "ALL_PAYMENT_AMT_WON_mean_by_day                 0.371033   \n",
      "\n",
      "                                 ALL_LOD_PAYMENT_AMT_WON_mean  \\\n",
      "INCOME                                               0.127814   \n",
      "AGE_GRP                                              0.035078   \n",
      "TRAVEL_COMPANIONS_NUM                               -0.010511   \n",
      "trip_day                                             0.282695   \n",
      "age_avg                                              0.065088   \n",
      "POST_PAYMENT_AMT_WON                                 0.108847   \n",
      "POST_PAYMENT_NUM                                    -0.047892   \n",
      "ALL_POST_PAYMENT_AMT_WON                             0.159650   \n",
      "ALL_POST_PAYMENT_AMT_WON_mean                        0.175389   \n",
      "LOD_PAYMENT_AMT_WON                                  0.437369   \n",
      "LOD_PAYMENT_NUM                                     -0.058552   \n",
      "ALL_LOD_PAYMENT_AMT_WON                              0.695929   \n",
      "ALL_LOD_PAYMENT_AMT_WON_mean                         1.000000   \n",
      "TRAF_PAYMENT_AMT_WON                                 0.065458   \n",
      "TRAF_PAYMENT_NUM                                    -0.025159   \n",
      "ALL_TRAF_PAYMENT_AMT_WON                             0.120232   \n",
      "ALL_TRAF_PAYMENT_AMT_WON_mean                        0.198004   \n",
      "ACTI_PAYMENT_AMT_WON                                 0.026371   \n",
      "ACTI_PAYMENT_NUM                                    -0.054498   \n",
      "ALL_ACTI_PAYMENT_AMT_WON                             0.141189   \n",
      "ALL_ACTI_PAYMENT_AMT_WON_mean                        0.207357   \n",
      "ALL_PAYMENT_AMT_WON                                  0.391180   \n",
      "ALL_PAYMENT_AMT_WON_mean                             0.610352   \n",
      "ALL_PAYMENT_AMT_WON_mean_by_day                      0.454103   \n",
      "\n",
      "                                 TRAF_PAYMENT_AMT_WON  TRAF_PAYMENT_NUM  \\\n",
      "INCOME                                       0.089120          0.095016   \n",
      "AGE_GRP                                      0.079636          0.179788   \n",
      "TRAVEL_COMPANIONS_NUM                        0.324440          0.885961   \n",
      "trip_day                                     0.090261          0.041140   \n",
      "age_avg                                      0.074424         -0.042932   \n",
      "POST_PAYMENT_AMT_WON                         0.105919          0.386091   \n",
      "POST_PAYMENT_NUM                             0.322285          0.694033   \n",
      "ALL_POST_PAYMENT_AMT_WON                     0.091954          0.387617   \n",
      "ALL_POST_PAYMENT_AMT_WON_mean               -0.011975          0.232831   \n",
      "LOD_PAYMENT_AMT_WON                          0.211942          0.329055   \n",
      "LOD_PAYMENT_NUM                              0.316273          0.894903   \n",
      "ALL_LOD_PAYMENT_AMT_WON                      0.221993          0.395214   \n",
      "ALL_LOD_PAYMENT_AMT_WON_mean                 0.065458         -0.025159   \n",
      "TRAF_PAYMENT_AMT_WON                         1.000000          0.344429   \n",
      "TRAF_PAYMENT_NUM                             0.344429          1.000000   \n",
      "ALL_TRAF_PAYMENT_AMT_WON                     0.448476          0.602218   \n",
      "ALL_TRAF_PAYMENT_AMT_WON_mean                0.220189         -0.044717   \n",
      "ACTI_PAYMENT_AMT_WON                         0.114238          0.279312   \n",
      "ACTI_PAYMENT_NUM                             0.278628          0.844289   \n",
      "ALL_ACTI_PAYMENT_AMT_WON                     0.222677          0.469150   \n",
      "ALL_ACTI_PAYMENT_AMT_WON_mean                0.100366          0.016801   \n",
      "ALL_PAYMENT_AMT_WON                          0.381977          0.607413   \n",
      "ALL_PAYMENT_AMT_WON_mean                     0.187299          0.009419   \n",
      "ALL_PAYMENT_AMT_WON_mean_by_day              0.203617         -0.004153   \n",
      "\n",
      "                                 ALL_TRAF_PAYMENT_AMT_WON  \\\n",
      "INCOME                                           0.134743   \n",
      "AGE_GRP                                          0.042711   \n",
      "TRAVEL_COMPANIONS_NUM                            0.614052   \n",
      "trip_day                                         0.245210   \n",
      "age_avg                                          0.142986   \n",
      "POST_PAYMENT_AMT_WON                             0.481686   \n",
      "POST_PAYMENT_NUM                                 0.360266   \n",
      "ALL_POST_PAYMENT_AMT_WON                         0.458634   \n",
      "ALL_POST_PAYMENT_AMT_WON_mean                    0.458589   \n",
      "LOD_PAYMENT_AMT_WON                              0.339138   \n",
      "LOD_PAYMENT_NUM                                  0.645312   \n",
      "ALL_LOD_PAYMENT_AMT_WON                          0.423196   \n",
      "ALL_LOD_PAYMENT_AMT_WON_mean                     0.120232   \n",
      "TRAF_PAYMENT_AMT_WON                             0.448476   \n",
      "TRAF_PAYMENT_NUM                                 0.602218   \n",
      "ALL_TRAF_PAYMENT_AMT_WON                         1.000000   \n",
      "ALL_TRAF_PAYMENT_AMT_WON_mean                    0.615744   \n",
      "ACTI_PAYMENT_AMT_WON                             0.286986   \n",
      "ACTI_PAYMENT_NUM                                 0.564176   \n",
      "ALL_ACTI_PAYMENT_AMT_WON                         0.558573   \n",
      "ALL_ACTI_PAYMENT_AMT_WON_mean                    0.246204   \n",
      "ALL_PAYMENT_AMT_WON                              0.856302   \n",
      "ALL_PAYMENT_AMT_WON_mean                         0.506480   \n",
      "ALL_PAYMENT_AMT_WON_mean_by_day                  0.469702   \n",
      "\n",
      "                                 ALL_TRAF_PAYMENT_AMT_WON_mean  \\\n",
      "INCOME                                                0.100260   \n",
      "AGE_GRP                                              -0.094100   \n",
      "TRAVEL_COMPANIONS_NUM                                 0.103482   \n",
      "trip_day                                              0.328278   \n",
      "age_avg                                               0.150719   \n",
      "POST_PAYMENT_AMT_WON                                  0.109761   \n",
      "POST_PAYMENT_NUM                                     -0.072431   \n",
      "ALL_POST_PAYMENT_AMT_WON                              0.109988   \n",
      "ALL_POST_PAYMENT_AMT_WON_mean                         0.155461   \n",
      "LOD_PAYMENT_AMT_WON                                   0.160718   \n",
      "LOD_PAYMENT_NUM                                       0.085791   \n",
      "ALL_LOD_PAYMENT_AMT_WON                               0.204241   \n",
      "ALL_LOD_PAYMENT_AMT_WON_mean                          0.198004   \n",
      "TRAF_PAYMENT_AMT_WON                                  0.220189   \n",
      "TRAF_PAYMENT_NUM                                     -0.044717   \n",
      "ALL_TRAF_PAYMENT_AMT_WON                              0.615744   \n",
      "ALL_TRAF_PAYMENT_AMT_WON_mean                         1.000000   \n",
      "ACTI_PAYMENT_AMT_WON                                  0.080301   \n",
      "ACTI_PAYMENT_NUM                                      0.054993   \n",
      "ALL_ACTI_PAYMENT_AMT_WON                              0.337586   \n",
      "ALL_ACTI_PAYMENT_AMT_WON_mean                         0.377268   \n",
      "ALL_PAYMENT_AMT_WON                                   0.510959   \n",
      "ALL_PAYMENT_AMT_WON_mean                              0.745427   \n",
      "ALL_PAYMENT_AMT_WON_mean_by_day                       0.677812   \n",
      "\n",
      "                                 ACTI_PAYMENT_AMT_WON  ACTI_PAYMENT_NUM  \\\n",
      "INCOME                                       0.076252          0.095074   \n",
      "AGE_GRP                                      0.020914          0.153235   \n",
      "TRAVEL_COMPANIONS_NUM                        0.280148          0.845716   \n",
      "trip_day                                     0.019992          0.047596   \n",
      "age_avg                                      0.048747         -0.030661   \n",
      "POST_PAYMENT_AMT_WON                         0.347702          0.405477   \n",
      "POST_PAYMENT_NUM                             0.469639          0.707567   \n",
      "ALL_POST_PAYMENT_AMT_WON                     0.326788          0.410015   \n",
      "ALL_POST_PAYMENT_AMT_WON_mean                0.153388          0.254525   \n",
      "LOD_PAYMENT_AMT_WON                          0.106106          0.323831   \n",
      "LOD_PAYMENT_NUM                              0.293774          0.878838   \n",
      "ALL_LOD_PAYMENT_AMT_WON                      0.240038          0.366752   \n",
      "ALL_LOD_PAYMENT_AMT_WON_mean                 0.026371         -0.054498   \n",
      "TRAF_PAYMENT_AMT_WON                         0.114238          0.278628   \n",
      "TRAF_PAYMENT_NUM                             0.279312          0.844289   \n",
      "ALL_TRAF_PAYMENT_AMT_WON                     0.286986          0.564176   \n",
      "ALL_TRAF_PAYMENT_AMT_WON_mean                0.080301          0.054993   \n",
      "ACTI_PAYMENT_AMT_WON                         1.000000          0.338612   \n",
      "ACTI_PAYMENT_NUM                             0.338612          1.000000   \n",
      "ALL_ACTI_PAYMENT_AMT_WON                     0.340201          0.457885   \n",
      "ALL_ACTI_PAYMENT_AMT_WON_mean                0.158141         -0.113693   \n",
      "ALL_PAYMENT_AMT_WON                          0.360069          0.567912   \n",
      "ALL_PAYMENT_AMT_WON_mean                     0.143671         -0.018040   \n",
      "ALL_PAYMENT_AMT_WON_mean_by_day              0.190907         -0.022842   \n",
      "\n",
      "                                 ALL_ACTI_PAYMENT_AMT_WON  \\\n",
      "INCOME                                           0.114816   \n",
      "AGE_GRP                                          0.010955   \n",
      "TRAVEL_COMPANIONS_NUM                            0.500334   \n",
      "trip_day                                         0.336383   \n",
      "age_avg                                          0.120774   \n",
      "POST_PAYMENT_AMT_WON                             0.294614   \n",
      "POST_PAYMENT_NUM                                 0.353548   \n",
      "ALL_POST_PAYMENT_AMT_WON                         0.308676   \n",
      "ALL_POST_PAYMENT_AMT_WON_mean                    0.175401   \n",
      "LOD_PAYMENT_AMT_WON                              0.266050   \n",
      "LOD_PAYMENT_NUM                                  0.491686   \n",
      "ALL_LOD_PAYMENT_AMT_WON                          0.365644   \n",
      "ALL_LOD_PAYMENT_AMT_WON_mean                     0.141189   \n",
      "TRAF_PAYMENT_AMT_WON                             0.222677   \n",
      "TRAF_PAYMENT_NUM                                 0.469150   \n",
      "ALL_TRAF_PAYMENT_AMT_WON                         0.558573   \n",
      "ALL_TRAF_PAYMENT_AMT_WON_mean                    0.337586   \n",
      "ACTI_PAYMENT_AMT_WON                             0.340201   \n",
      "ACTI_PAYMENT_NUM                                 0.457885   \n",
      "ALL_ACTI_PAYMENT_AMT_WON                         1.000000   \n",
      "ALL_ACTI_PAYMENT_AMT_WON_mean                    0.726299   \n",
      "ALL_PAYMENT_AMT_WON                              0.803002   \n",
      "ALL_PAYMENT_AMT_WON_mean                         0.616562   \n",
      "ALL_PAYMENT_AMT_WON_mean_by_day                  0.515750   \n",
      "\n",
      "                                 ALL_ACTI_PAYMENT_AMT_WON_mean  \\\n",
      "INCOME                                                0.077213   \n",
      "AGE_GRP                                              -0.073045   \n",
      "TRAVEL_COMPANIONS_NUM                                 0.071462   \n",
      "trip_day                                              0.353322   \n",
      "age_avg                                               0.097705   \n",
      "POST_PAYMENT_AMT_WON                                  0.074076   \n",
      "POST_PAYMENT_NUM                                     -0.022890   \n",
      "ALL_POST_PAYMENT_AMT_WON                              0.082745   \n",
      "ALL_POST_PAYMENT_AMT_WON_mean                         0.059589   \n",
      "LOD_PAYMENT_AMT_WON                                   0.108239   \n",
      "LOD_PAYMENT_NUM                                       0.017479   \n",
      "ALL_LOD_PAYMENT_AMT_WON                               0.165760   \n",
      "ALL_LOD_PAYMENT_AMT_WON_mean                          0.207357   \n",
      "TRAF_PAYMENT_AMT_WON                                  0.100366   \n",
      "TRAF_PAYMENT_NUM                                      0.016801   \n",
      "ALL_TRAF_PAYMENT_AMT_WON                              0.246204   \n",
      "ALL_TRAF_PAYMENT_AMT_WON_mean                         0.377268   \n",
      "ACTI_PAYMENT_AMT_WON                                  0.158141   \n",
      "ACTI_PAYMENT_NUM                                     -0.113693   \n",
      "ALL_ACTI_PAYMENT_AMT_WON                              0.726299   \n",
      "ALL_ACTI_PAYMENT_AMT_WON_mean                         1.000000   \n",
      "ALL_PAYMENT_AMT_WON                                   0.485913   \n",
      "ALL_PAYMENT_AMT_WON_mean                              0.781026   \n",
      "ALL_PAYMENT_AMT_WON_mean_by_day                       0.671536   \n",
      "\n",
      "                                 ALL_PAYMENT_AMT_WON  \\\n",
      "INCOME                                      0.151402   \n",
      "AGE_GRP                                     0.041290   \n",
      "TRAVEL_COMPANIONS_NUM                       0.627209   \n",
      "trip_day                                    0.373995   \n",
      "age_avg                                     0.146467   \n",
      "POST_PAYMENT_AMT_WON                        0.529963   \n",
      "POST_PAYMENT_NUM                            0.460991   \n",
      "ALL_POST_PAYMENT_AMT_WON                    0.530313   \n",
      "ALL_POST_PAYMENT_AMT_WON_mean               0.404004   \n",
      "LOD_PAYMENT_AMT_WON                         0.571641   \n",
      "LOD_PAYMENT_NUM                             0.671024   \n",
      "ALL_LOD_PAYMENT_AMT_WON                     0.737576   \n",
      "ALL_LOD_PAYMENT_AMT_WON_mean                0.391180   \n",
      "TRAF_PAYMENT_AMT_WON                        0.381977   \n",
      "TRAF_PAYMENT_NUM                            0.607413   \n",
      "ALL_TRAF_PAYMENT_AMT_WON                    0.856302   \n",
      "ALL_TRAF_PAYMENT_AMT_WON_mean               0.510959   \n",
      "ACTI_PAYMENT_AMT_WON                        0.360069   \n",
      "ACTI_PAYMENT_NUM                            0.567912   \n",
      "ALL_ACTI_PAYMENT_AMT_WON                    0.803002   \n",
      "ALL_ACTI_PAYMENT_AMT_WON_mean               0.485913   \n",
      "ALL_PAYMENT_AMT_WON                         1.000000   \n",
      "ALL_PAYMENT_AMT_WON_mean                    0.685407   \n",
      "ALL_PAYMENT_AMT_WON_mean_by_day             0.589362   \n",
      "\n",
      "                                 ALL_PAYMENT_AMT_WON_mean  \\\n",
      "INCOME                                           0.137503   \n",
      "AGE_GRP                                         -0.081304   \n",
      "TRAVEL_COMPANIONS_NUM                            0.107757   \n",
      "trip_day                                         0.483726   \n",
      "age_avg                                          0.155959   \n",
      "POST_PAYMENT_AMT_WON                             0.341300   \n",
      "POST_PAYMENT_NUM                                -0.075939   \n",
      "ALL_POST_PAYMENT_AMT_WON                         0.371705   \n",
      "ALL_POST_PAYMENT_AMT_WON_mean                    0.426064   \n",
      "LOD_PAYMENT_AMT_WON                              0.312368   \n",
      "LOD_PAYMENT_NUM                                  0.045342   \n",
      "ALL_LOD_PAYMENT_AMT_WON                          0.469724   \n",
      "ALL_LOD_PAYMENT_AMT_WON_mean                     0.610352   \n",
      "TRAF_PAYMENT_AMT_WON                             0.187299   \n",
      "TRAF_PAYMENT_NUM                                 0.009419   \n",
      "ALL_TRAF_PAYMENT_AMT_WON                         0.506480   \n",
      "ALL_TRAF_PAYMENT_AMT_WON_mean                    0.745427   \n",
      "ACTI_PAYMENT_AMT_WON                             0.143671   \n",
      "ACTI_PAYMENT_NUM                                -0.018040   \n",
      "ALL_ACTI_PAYMENT_AMT_WON                         0.616562   \n",
      "ALL_ACTI_PAYMENT_AMT_WON_mean                    0.781026   \n",
      "ALL_PAYMENT_AMT_WON                              0.685407   \n",
      "ALL_PAYMENT_AMT_WON_mean                         1.000000   \n",
      "ALL_PAYMENT_AMT_WON_mean_by_day                  0.857812   \n",
      "\n",
      "                                 ALL_PAYMENT_AMT_WON_mean_by_day  \n",
      "INCOME                                                  0.125803  \n",
      "AGE_GRP                                                -0.065766  \n",
      "TRAVEL_COMPANIONS_NUM                                   0.090549  \n",
      "trip_day                                                0.114349  \n",
      "age_avg                                                 0.164887  \n",
      "POST_PAYMENT_AMT_WON                                    0.357109  \n",
      "POST_PAYMENT_NUM                                       -0.070026  \n",
      "ALL_POST_PAYMENT_AMT_WON                                0.378877  \n",
      "ALL_POST_PAYMENT_AMT_WON_mean                           0.471267  \n",
      "LOD_PAYMENT_AMT_WON                                     0.309723  \n",
      "LOD_PAYMENT_NUM                                         0.048377  \n",
      "ALL_LOD_PAYMENT_AMT_WON                                 0.371033  \n",
      "ALL_LOD_PAYMENT_AMT_WON_mean                            0.454103  \n",
      "TRAF_PAYMENT_AMT_WON                                    0.203617  \n",
      "TRAF_PAYMENT_NUM                                       -0.004153  \n",
      "ALL_TRAF_PAYMENT_AMT_WON                                0.469702  \n",
      "ALL_TRAF_PAYMENT_AMT_WON_mean                           0.677812  \n",
      "ACTI_PAYMENT_AMT_WON                                    0.190907  \n",
      "ACTI_PAYMENT_NUM                                       -0.022842  \n",
      "ALL_ACTI_PAYMENT_AMT_WON                                0.515750  \n",
      "ALL_ACTI_PAYMENT_AMT_WON_mean                           0.671536  \n",
      "ALL_PAYMENT_AMT_WON                                     0.589362  \n",
      "ALL_PAYMENT_AMT_WON_mean                                0.857812  \n",
      "ALL_PAYMENT_AMT_WON_mean_by_day                         1.000000  \n"
     ]
    }
   ],
   "source": [
    "import seaborn as sns\n",
    "import matplotlib.pyplot as plt\n",
    "\n",
    "new_dataframe = combined_data.drop(['TRAVEL_ID','TRAVEL_STATUS_DESTINATION'], axis=1)\n",
    "\n",
    "correlation_matrix = new_dataframe.corr()\n",
    "\n",
    "# 히트맵 그리기\n",
    "plt.figure(figsize=(10, 8))\n",
    "sns.heatmap(correlation_matrix, annot=True, cmap='coolwarm', fmt=\".2f\", linewidths=.5)\n",
    "plt.title(\"Correlation Matrix\")\n",
    "plt.show()\n",
    "\n",
    "print(correlation_matrix)"
   ]
  },
  {
   "cell_type": "markdown",
   "id": "57e44443-ec5e-483e-a9c5-c47903631d12",
   "metadata": {},
   "source": [
    "## ALL_PAYMENT_AMT_WON_mean과 AGE_GRP을 이용해서 INCOME 예상하기"
   ]
  },
  {
   "cell_type": "markdown",
   "id": "9424c4e6-5602-4844-a49d-b34cb210ebaa",
   "metadata": {},
   "source": [
    "### ALL_PAYMENT_AMT_WON_mean으로 고지출, 저지출 분류"
   ]
  },
  {
   "cell_type": "code",
   "execution_count": 30,
   "id": "67f3397c-bd6c-437e-a137-31d224947c0b",
   "metadata": {},
   "outputs": [
    {
     "data": {
      "text/plain": [
       "count    2.803000e+03\n",
       "mean     4.392387e+05\n",
       "std      3.605911e+05\n",
       "min      0.000000e+00\n",
       "25%      1.652625e+05\n",
       "50%      3.957900e+05\n",
       "75%      5.999210e+05\n",
       "max      4.857000e+06\n",
       "Name: ALL_PAYMENT_AMT_WON_mean, dtype: float64"
      ]
     },
     "execution_count": 30,
     "metadata": {},
     "output_type": "execute_result"
    }
   ],
   "source": [
    "combined_data['ALL_PAYMENT_AMT_WON_mean'].describe()"
   ]
  },
  {
   "cell_type": "code",
   "execution_count": 31,
   "id": "e05ed39f-64e3-4869-baae-84917d1a053d",
   "metadata": {},
   "outputs": [
    {
     "data": {
      "image/png": "[encoded data removed]",
      "text/plain": [
       "<Figure size 1000x600 with 1 Axes>"
      ]
     },
     "metadata": {},
     "output_type": "display_data"
    }
   ],
   "source": [
    "import matplotlib.pyplot as plt\n",
    "\n",
    "# 'ALL_PAYMENT_AMT_WON'의 분포를 히스토그램으로 시각화\n",
    "plt.figure(figsize=(10, 6))\n",
    "plt.hist(combined_data['ALL_PAYMENT_AMT_WON_mean'], bins=30, color='blue', alpha=0.7)\n",
    "plt.title('Distribution of ALL_PAYMENT_AMT_WON_mean')\n",
    "plt.xlabel('ALL_PAYMENT_AMT_WON_mean')\n",
    "plt.ylabel('Frequency')\n",
    "plt.grid(True)\n",
    "plt.show()\n"
   ]
  },
  {
   "cell_type": "markdown",
   "id": "05216b6a-69a7-43cf-a89b-3421112c1e82",
   "metadata": {},
   "source": [
    "#### 100만원이하의 값 자세히 보기"
   ]
  },
  {
   "cell_type": "code",
   "execution_count": 32,
   "id": "2592690e-2949-4651-8131-f8217a789a31",
   "metadata": {},
   "outputs": [
    {
     "data": {
      "image/png": "[encoded data removed]",
      "text/plain": [
       "<Figure size 1000x600 with 1 Axes>"
      ]
     },
     "metadata": {},
     "output_type": "display_data"
    }
   ],
   "source": [
    "import matplotlib.pyplot as plt\n",
    "\n",
    "# 'ALL_PAYMENT_AMT_WON_mean'의 분포를 히스토그램으로 시각화\n",
    "plt.figure(figsize=(10, 6))\n",
    "plt.hist(combined_data['ALL_PAYMENT_AMT_WON_mean'], bins=100, color='blue', alpha=0.7)\n",
    "plt.title('Distribution of ALL_PAYMENT_AMT_WON_mean')\n",
    "plt.xlabel('ALL_PAYMENT_AMT_WON_mean')\n",
    "plt.ylabel('Frequency')\n",
    "plt.grid(True)\n",
    "\n",
    "# x축의 범위를 0부터 1000000까지로 설정\n",
    "plt.ticklabel_format(style='plain', axis='x')\n",
    "plt.xlim(0, 1000000)\n",
    "\n",
    "plt.show()"
   ]
  },
  {
   "cell_type": "code",
   "execution_count": 33,
   "id": "d1f3393b-473d-4234-bce4-e3f3be6af625",
   "metadata": {},
   "outputs": [
    {
     "name": "stdout",
     "output_type": "stream",
     "text": [
      "0.7502675704602212\n"
     ]
    }
   ],
   "source": [
    "tmplst = combined_data[combined_data['ALL_PAYMENT_AMT_WON_mean']<600000]\n",
    "print(len(tmplst)/len(combined_data['ALL_PAYMENT_AMT_WON_mean']))"
   ]
  },
  {
   "cell_type": "markdown",
   "id": "2b9c75db-4694-4a44-a858-8a535ac31eff",
   "metadata": {},
   "source": [
    "60만원 이상 지출한 사람의 비율 약 25%, 60만원 미만으로 지출한 사람의 비율 약 75%\n",
    "60만원을 기준으로 고지출, 저지출을 분류"
   ]
  },
  {
   "cell_type": "markdown",
   "id": "1737ce52-6860-4680-991f-57082dca17f9",
   "metadata": {},
   "source": [
    "#### 60만원이상이면 고지출, 60만원 이하면 저지출로 분류"
   ]
  },
  {
   "cell_type": "code",
   "execution_count": 34,
   "id": "67d5423e-0e83-438d-afbb-a8854ec2a5d5",
   "metadata": {},
   "outputs": [],
   "source": [
    "combined_data['ALL_PAYMENT_AMT_WON_mean_sep'] = np.where(combined_data['ALL_PAYMENT_AMT_WON_mean'] < 600000, 0, 1)"
   ]
  },
  {
   "cell_type": "markdown",
   "id": "f3e3520a-1bbf-41a5-9f0f-3f19ee82ad6b",
   "metadata": {},
   "source": [
    "### INCOME 고소득, 저소득으로 분류"
   ]
  },
  {
   "cell_type": "code",
   "execution_count": 35,
   "id": "705c84bc-2547-4e93-9a01-cb806b0cee1a",
   "metadata": {},
   "outputs": [
    {
     "name": "stdout",
     "output_type": "stream",
     "text": [
      "테스트 데이터의 클래스 분포:\n",
      " 0    384\n",
      "1    177\n",
      "dtype: int64\n",
      "\n",
      "훈련 데이터의 클래스 분포:\n",
      " 0    1592\n",
      "1     650\n",
      "dtype: int64\n"
     ]
    }
   ],
   "source": [
    "from sklearn.model_selection import train_test_split\n",
    "from sklearn.ensemble import RandomForestClassifier\n",
    "import joblib\n",
    "X = combined_data[['AGE_GRP','ALL_PAYMENT_AMT_WON_mean_sep']]\n",
    "y = combined_data['INCOME']\n",
    "\n",
    "X_train, X_test, y_train, y_test = train_test_split(X, y, test_size=0.2, random_state=42)\n",
    "\n",
    "y_train = np.where(y_train >= 5, 5, y_train)\n",
    "y_train = np.where(y_train <= 3, 3, y_train)\n",
    "y_train = np.where((y_train == 4), 4, y_train)\n",
    "\n",
    "y_test = np.where(y_test >= 5, 5, y_test)\n",
    "y_test = np.where(y_test <= 3, 3, y_test)\n",
    "y_test = np.where((y_test == 4), 4, y_test)\n",
    "\n",
    "y_train = np.where(y_train == 3, 0, y_train)\n",
    "y_train = np.where(y_train == 4, 0, y_train)\n",
    "y_train = np.where(y_train == 5, 1, y_train)\n",
    "\n",
    "y_test = np.where(y_test == 3, 0, y_test)\n",
    "y_test = np.where(y_test == 4, 0, y_test)\n",
    "y_test = np.where(y_test == 5, 1, y_test)\n",
    "\n",
    "# 훈련 데이터와 테스트 데이터에 대한 클래스 분포 확인\n",
    "y_test_series = pd.Series(y_test)\n",
    "value_counts_test = y_test_series.value_counts()\n",
    "print(\"테스트 데이터의 클래스 분포:\\n\", value_counts_test)\n",
    "\n",
    "y_train_series = pd.Series(y_train)\n",
    "value_counts_train = y_train_series.value_counts()\n",
    "print(\"\\n훈련 데이터의 클래스 분포:\\n\", value_counts_train)"
   ]
  },
  {
   "cell_type": "markdown",
   "id": "a26fa75a-6e34-4a0d-9002-f584016ab596",
   "metadata": {},
   "source": [
    "### INCOME의 분포"
   ]
  },
  {
   "cell_type": "code",
   "execution_count": 36,
   "id": "dd48bd14-70c8-4c21-9ef1-d0b3abc8d7c7",
   "metadata": {},
   "outputs": [
    {
     "data": {
      "image/png": "[encoded data removed]",
      "text/plain": [
       "<Figure size 800x500 with 1 Axes>"
      ]
     },
     "metadata": {},
     "output_type": "display_data"
    },
    {
     "data": {
      "text/plain": [
       "4     988\n",
       "5     456\n",
       "3     410\n",
       "2     300\n",
       "1     278\n",
       "6     168\n",
       "7      91\n",
       "8      41\n",
       "12     23\n",
       "9      21\n",
       "11     17\n",
       "10     10\n",
       "Name: INCOME, dtype: int64"
      ]
     },
     "execution_count": 36,
     "metadata": {},
     "output_type": "execute_result"
    }
   ],
   "source": [
    "# 'INCOME'의 분포를 히스토그램으로 시각화\n",
    "plt.figure(figsize=(8, 5))\n",
    "plt.hist(combined_data['INCOME'], bins=12, color='purple', alpha=0.7)\n",
    "plt.title('Distribution of INCOME')\n",
    "plt.xlabel('INCOME')\n",
    "plt.ylabel('Frequency')\n",
    "plt.grid(True)\n",
    "plt.show()\n",
    "\n",
    "combined_data['INCOME'].value_counts()"
   ]
  },
  {
   "cell_type": "markdown",
   "id": "441cc3ab-e64a-438d-9bf5-46c1188cff1e",
   "metadata": {},
   "source": [
    "1/3정도가 4에 분포, 4이하이면 저소득, 4이상이면 고소득으로 분류"
   ]
  },
  {
   "cell_type": "markdown",
   "id": "21f0a6b8-b64e-4c6e-a5a6-a56fbd495cb3",
   "metadata": {},
   "source": [
    "### 저소득, 고소득으로 분류한 INCOME 값의 분포"
   ]
  },
  {
   "cell_type": "code",
   "execution_count": 37,
   "id": "acdc3534-c575-40c0-9489-ea8e1f32adff",
   "metadata": {},
   "outputs": [
    {
     "data": {
      "image/png": "[encoded data removed]",
      "text/plain": [
       "<Figure size 1000x600 with 2 Axes>"
      ]
     },
     "metadata": {},
     "output_type": "display_data"
    }
   ],
   "source": [
    "plt.figure(figsize=(10, 6))\n",
    "\n",
    "plt.subplot(1, 2, 1)\n",
    "plt.bar(value_counts_test.index, value_counts_test.values, color='blue', alpha=0.7)\n",
    "plt.title('Test Data Class Distribution')\n",
    "plt.xlabel('Class')\n",
    "plt.ylabel('Frequency')\n",
    "\n",
    "plt.subplot(1, 2, 2)\n",
    "plt.bar(value_counts_train.index, value_counts_train.values, color='green', alpha=0.7)\n",
    "plt.title('Training Data Class Distribution')\n",
    "plt.xlabel('Class')\n",
    "plt.ylabel('Frequency')\n",
    "\n",
    "plt.tight_layout()\n",
    "plt.show()"
   ]
  },
  {
   "cell_type": "markdown",
   "id": "dddce177-a2dd-467a-b380-608c8e7c9b16",
   "metadata": {},
   "source": [
    "### 예측모델 RandomForestClassifier을 사용한 결과"
   ]
  },
  {
   "cell_type": "code",
   "execution_count": 38,
   "id": "84648926-6809-484d-b1ec-b443ec0a1abe",
   "metadata": {},
   "outputs": [
    {
     "name": "stdout",
     "output_type": "stream",
     "text": [
      "Best Parameters:  {'max_depth': None, 'min_samples_leaf': 1, 'min_samples_split': 2, 'n_estimators': 50}\n",
      "Accuracy: 0.70\n",
      "\n",
      "Classification Report:\n",
      "              precision    recall  f1-score   support\n",
      "\n",
      "           0       0.70      0.98      0.82       384\n",
      "           1       0.68      0.08      0.15       177\n",
      "\n",
      "    accuracy                           0.70       561\n",
      "   macro avg       0.69      0.53      0.48       561\n",
      "weighted avg       0.69      0.70      0.61       561\n",
      "\n",
      "\n",
      "Confusion Matrix:\n",
      "[[377   7]\n",
      " [162  15]]\n"
     ]
    }
   ],
   "source": [
    "from sklearn.model_selection import GridSearchCV\n",
    "from sklearn.ensemble import RandomForestClassifier\n",
    "from sklearn.metrics import accuracy_score, classification_report, confusion_matrix\n",
    "\n",
    "rf_model = RandomForestClassifier(random_state=42)\n",
    "param_grid = {\n",
    "    'n_estimators': [50, 100, 200, 300],\n",
    "    'max_depth': [None, 10, 20],\n",
    "    'min_samples_split': [2, 5, 10],\n",
    "    'min_samples_leaf': [1, 2, 4]\n",
    "}\n",
    "\n",
    "grid_search = GridSearchCV(estimator=rf_model, param_grid=param_grid, cv=5, scoring='accuracy', n_jobs=-1)\n",
    "\n",
    "\n",
    "grid_search.fit(X_train, y_train)\n",
    "print(\"Best Parameters: \", grid_search.best_params_)\n",
    "\n",
    "best_rf_model = grid_search.best_estimator_\n",
    "\n",
    "predictions = best_rf_model.predict(X_test)\n",
    "\n",
    "accuracy = accuracy_score(y_test, predictions)\n",
    "print(f'Accuracy: {accuracy:.2f}')\n",
    "\n",
    "print('\\nClassification Report:')\n",
    "print(classification_report(y_test, predictions))\n",
    "\n",
    "print('\\nConfusion Matrix:')\n",
    "print(confusion_matrix(y_test, predictions))"
   ]
  },
  {
   "cell_type": "markdown",
   "id": "d3eb6d0b-5253-4d59-a97d-b61900f5d51d",
   "metadata": {},
   "source": [
    "### 예측모델 XGBoostClassifier을 사용한 결과"
   ]
  },
  {
   "cell_type": "code",
   "execution_count": 39,
   "id": "c5de13ed-7e7b-4382-9dcd-bad5ef3ad3b6",
   "metadata": {},
   "outputs": [
    {
     "name": "stdout",
     "output_type": "stream",
     "text": [
      "Best Parameters (XGBoost):  {'learning_rate': 0.01, 'max_depth': 3, 'n_estimators': 100}\n",
      "Accuracy (XGBoost): 0.70\n",
      "\n",
      "Classification Report (XGBoost):\n",
      "              precision    recall  f1-score   support\n",
      "\n",
      "           0       0.70      0.98      0.82       384\n",
      "           1       0.68      0.08      0.15       177\n",
      "\n",
      "    accuracy                           0.70       561\n",
      "   macro avg       0.69      0.53      0.48       561\n",
      "weighted avg       0.69      0.70      0.61       561\n",
      "\n",
      "\n",
      "Confusion Matrix (XGBoost):\n",
      "[[377   7]\n",
      " [162  15]]\n"
     ]
    }
   ],
   "source": [
    "from xgboost import XGBClassifier\n",
    "\n",
    "xgb_model = XGBClassifier()\n",
    "\n",
    "param_grid_xgb = {\n",
    "    'n_estimators': [50, 100, 200],\n",
    "    'max_depth': [3, 5, 7],\n",
    "    'learning_rate': [0.01, 0.1, 0.2],\n",
    "}\n",
    "\n",
    "grid_search_xgb = GridSearchCV(estimator=xgb_model, param_grid=param_grid_xgb, cv=5, scoring='accuracy', n_jobs=-1)\n",
    "\n",
    "grid_search_xgb.fit(X_train, y_train)\n",
    "\n",
    "print(\"Best Parameters (XGBoost): \", grid_search_xgb.best_params_)\n",
    "\n",
    "best_xgb_model = grid_search_xgb.best_estimator_\n",
    "\n",
    "predictions_xgb = best_xgb_model.predict(X_test)\n",
    "\n",
    "accuracy_xgb = accuracy_score(y_test, predictions_xgb)\n",
    "print(f'Accuracy (XGBoost): {accuracy_xgb:.2f}')\n",
    "\n",
    "print('\\nClassification Report (XGBoost):')\n",
    "print(classification_report(y_test, predictions_xgb))\n",
    "\n",
    "print('\\nConfusion Matrix (XGBoost):')\n",
    "print(confusion_matrix(y_test, predictions_xgb))"
   ]
  },
  {
   "cell_type": "markdown",
   "id": "91789449-6115-41d9-805e-99c9916e6ee4",
   "metadata": {},
   "source": [
    "두 분류모델의 결과가 같다. RandomForestClassifier을 선택하여 pkl파일로 저장"
   ]
  },
  {
   "cell_type": "markdown",
   "id": "ff64fffe-9bae-4be3-93a5-9a1f2abdda99",
   "metadata": {},
   "source": [
    "### 분류모델로 RandomForestClassifier 선택 및 저장"
   ]
  },
  {
   "cell_type": "code",
   "execution_count": 40,
   "id": "35fd2ae5-e7e2-45c4-8996-4da09c7a00e1",
   "metadata": {},
   "outputs": [
    {
     "data": {
      "text/plain": [
       "['rf_model_for_income.pkl']"
      ]
     },
     "execution_count": 40,
     "metadata": {},
     "output_type": "execute_result"
    }
   ],
   "source": [
    "import joblib\n",
    "joblib.dump(best_rf_model,'rf_model_for_income.pkl')"
   ]
  },
  {
   "cell_type": "code",
   "execution_count": null,
   "id": "cdeef921-8a2c-4b2c-88c4-f3a18bc1cee0",
   "metadata": {},
   "outputs": [],
   "source": []
  },
  {
   "cell_type": "code",
   "execution_count": null,
   "id": "b0dd7b3d-c53c-4a8a-ab4a-e5a7ff56906f",
   "metadata": {},
   "outputs": [],
   "source": []
  },
  {
   "cell_type": "code",
   "execution_count": null,
   "id": "e89207a0-5fb9-4f6a-b4d6-a691be760ad0",
   "metadata": {},
   "outputs": [],
   "source": []
  }
 ],
 "metadata": {
  "kernelspec": {
   "display_name": "old_pandas",
   "language": "python",
   "name": "old_pandas"
  },
  "language_info": {
   "codemirror_mode": {
    "name": "ipython",
    "version": 3
   },
   "file_extension": ".py",
   "mimetype": "text/x-python",
   "name": "python",
   "nbconvert_exporter": "python",
   "pygments_lexer": "ipython3",
   "version": "3.11.5"
  }
 },
 "nbformat": 4,
 "nbformat_minor": 5
}
