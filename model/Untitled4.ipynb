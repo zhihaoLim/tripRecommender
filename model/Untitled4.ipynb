{
 "cells": [
  {
   "cell_type": "code",
   "execution_count": 142,
   "id": "ccad9008-0cb6-4314-9dc7-0c2e935d4a74",
   "metadata": {},
   "outputs": [],
   "source": [
    "import pandas as pd\n",
    "\n",
    "traveler_data=pd.read_csv('tn_traveller_master_여행객 Master.csv')\n",
    "post_data=pd.read_csv('tn_adv_consume_his_사전소비내역.csv')\n",
    "lod_data=pd.read_csv('tn_lodge_consume_his_숙박소비내역.csv')\n",
    "traf_data=pd.read_csv('tn_mvmn_consume_his_이동수단소비내역.csv')\n",
    "acti_data=pd.read_csv('tn_activity_consume_his_활동소비내역.csv')\n",
    "companicon_data=pd.read_csv('tn_companion_info_동반자정보.csv')"
   ]
  },
  {
   "cell_type": "code",
   "execution_count": 143,
   "id": "a892a283-dc28-4537-98d9-465d66482a24",
   "metadata": {},
   "outputs": [
    {
     "name": "stdout",
     "output_type": "stream",
     "text": [
      "<class 'pandas.core.frame.DataFrame'>\n",
      "RangeIndex: 14400 entries, 0 to 14399\n",
      "Data columns (total 36 columns):\n",
      " #   Column                     Non-Null Count  Dtype  \n",
      "---  ------                     --------------  -----  \n",
      " 0   TRAVELER_ID                14400 non-null  object \n",
      " 1   RESIDENCE_SGG_CD           14400 non-null  int64  \n",
      " 2   GENDER                     14400 non-null  object \n",
      " 3   AGE_GRP                    14400 non-null  int64  \n",
      " 4   EDU_NM                     14400 non-null  int64  \n",
      " 5   EDU_FNSH_SE                14399 non-null  float64\n",
      " 6   MARR_STTS                  14398 non-null  float64\n",
      " 7   FAMILY_MEMB                14400 non-null  int64  \n",
      " 8   JOB_NM                     13753 non-null  float64\n",
      " 9   JOB_ETC                    647 non-null    float64\n",
      " 10  INCOME                     14400 non-null  int64  \n",
      " 11  HOUSE_INCOME               10716 non-null  float64\n",
      " 12  TRAVEL_TERM                14400 non-null  int64  \n",
      " 13  TRAVEL_NUM                 14400 non-null  int64  \n",
      " 14  TRAVEL_LIKE_SIDO_1         14400 non-null  int64  \n",
      " 15  TRAVEL_LIKE_SGG_1          14400 non-null  int64  \n",
      " 16  TRAVEL_LIKE_SIDO_2         14400 non-null  int64  \n",
      " 17  TRAVEL_LIKE_SGG_2          14400 non-null  int64  \n",
      " 18  TRAVEL_LIKE_SIDO_3         14400 non-null  int64  \n",
      " 19  TRAVEL_LIKE_SGG_3          14400 non-null  int64  \n",
      " 20  TRAVEL_STYL_1              14400 non-null  int64  \n",
      " 21  TRAVEL_STYL_2              14400 non-null  int64  \n",
      " 22  TRAVEL_STYL_3              14400 non-null  int64  \n",
      " 23  TRAVEL_STYL_4              14400 non-null  int64  \n",
      " 24  TRAVEL_STYL_5              14400 non-null  int64  \n",
      " 25  TRAVEL_STYL_6              14400 non-null  int64  \n",
      " 26  TRAVEL_STYL_7              14400 non-null  int64  \n",
      " 27  TRAVEL_STYL_8              14400 non-null  int64  \n",
      " 28  TRAVEL_STATUS_RESIDENCE    14400 non-null  object \n",
      " 29  TRAVEL_STATUS_DESTINATION  14400 non-null  object \n",
      " 30  TRAVEL_STATUS_ACCOMPANY    14400 non-null  object \n",
      " 31  TRAVEL_STATUS_YMD          14400 non-null  object \n",
      " 32  TRAVEL_MOTIVE_1            14399 non-null  float64\n",
      " 33  TRAVEL_MOTIVE_2            13864 non-null  float64\n",
      " 34  TRAVEL_MOTIVE_3            13234 non-null  float64\n",
      " 35  TRAVEL_COMPANIONS_NUM      14400 non-null  int64  \n",
      "dtypes: float64(8), int64(22), object(6)\n",
      "memory usage: 4.0+ MB\n"
     ]
    }
   ],
   "source": [
    "traveler_data.info()"
   ]
  },
  {
   "cell_type": "code",
   "execution_count": 144,
   "id": "295b5ea6-4214-47ab-b52b-3ba532ae600d",
   "metadata": {},
   "outputs": [],
   "source": [
    "traveler_data['TRAVEL_ID'] = traveler_data['TRAVELER_ID'].apply(lambda x: x[0] + '_' + x)"
   ]
  },
  {
   "cell_type": "code",
   "execution_count": 145,
   "id": "290d20a6-aa01-437b-ad01-e2f00f5d37c5",
   "metadata": {},
   "outputs": [],
   "source": [
    "import datetime\n",
    "traveler_data['start_day'] = traveler_data.TRAVEL_STATUS_YMD.str.split('~').str[0]\n",
    "traveler_data['end_day'] = traveler_data.TRAVEL_STATUS_YMD.str.split('~').str[1]\n",
    "traveler_data['start_day'] = pd.to_datetime(traveler_data['start_day'])\n",
    "traveler_data['end_day'] = pd.to_datetime(traveler_data['end_day'])\n",
    "trip_day_raw=traveler_data['end_day']-traveler_data['start_day']\n",
    "\n",
    "traveler_data['trip_day']=trip_day_raw.dt.days + 1"
   ]
  },
  {
   "cell_type": "code",
   "execution_count": 146,
   "id": "7ac40a80-265d-4fd7-a550-8440b6e98fcb",
   "metadata": {},
   "outputs": [
    {
     "data": {
      "text/plain": [
       "1     5834\n",
       "2     4722\n",
       "3     2518\n",
       "4      873\n",
       "5      287\n",
       "6       73\n",
       "7       44\n",
       "8       22\n",
       "9        7\n",
       "10       6\n",
       "11       3\n",
       "16       3\n",
       "15       2\n",
       "12       1\n",
       "14       1\n",
       "17       1\n",
       "27       1\n",
       "33       1\n",
       "23       1\n",
       "Name: trip_day, dtype: int64"
      ]
     },
     "execution_count": 146,
     "metadata": {},
     "output_type": "execute_result"
    }
   ],
   "source": [
    "traveler_data['trip_day'].value_counts()"
   ]
  },
  {
   "cell_type": "code",
   "execution_count": 147,
   "id": "665f3253-0c81-4c3b-baf6-5b25340b0d19",
   "metadata": {},
   "outputs": [
    {
     "name": "stdout",
     "output_type": "stream",
     "text": [
      "<class 'pandas.core.frame.DataFrame'>\n",
      "RangeIndex: 14400 entries, 0 to 14399\n",
      "Data columns (total 40 columns):\n",
      " #   Column                     Non-Null Count  Dtype         \n",
      "---  ------                     --------------  -----         \n",
      " 0   TRAVELER_ID                14400 non-null  object        \n",
      " 1   RESIDENCE_SGG_CD           14400 non-null  int64         \n",
      " 2   GENDER                     14400 non-null  object        \n",
      " 3   AGE_GRP                    14400 non-null  int64         \n",
      " 4   EDU_NM                     14400 non-null  int64         \n",
      " 5   EDU_FNSH_SE                14399 non-null  float64       \n",
      " 6   MARR_STTS                  14398 non-null  float64       \n",
      " 7   FAMILY_MEMB                14400 non-null  int64         \n",
      " 8   JOB_NM                     13753 non-null  float64       \n",
      " 9   JOB_ETC                    647 non-null    float64       \n",
      " 10  INCOME                     14400 non-null  int64         \n",
      " 11  HOUSE_INCOME               10716 non-null  float64       \n",
      " 12  TRAVEL_TERM                14400 non-null  int64         \n",
      " 13  TRAVEL_NUM                 14400 non-null  int64         \n",
      " 14  TRAVEL_LIKE_SIDO_1         14400 non-null  int64         \n",
      " 15  TRAVEL_LIKE_SGG_1          14400 non-null  int64         \n",
      " 16  TRAVEL_LIKE_SIDO_2         14400 non-null  int64         \n",
      " 17  TRAVEL_LIKE_SGG_2          14400 non-null  int64         \n",
      " 18  TRAVEL_LIKE_SIDO_3         14400 non-null  int64         \n",
      " 19  TRAVEL_LIKE_SGG_3          14400 non-null  int64         \n",
      " 20  TRAVEL_STYL_1              14400 non-null  int64         \n",
      " 21  TRAVEL_STYL_2              14400 non-null  int64         \n",
      " 22  TRAVEL_STYL_3              14400 non-null  int64         \n",
      " 23  TRAVEL_STYL_4              14400 non-null  int64         \n",
      " 24  TRAVEL_STYL_5              14400 non-null  int64         \n",
      " 25  TRAVEL_STYL_6              14400 non-null  int64         \n",
      " 26  TRAVEL_STYL_7              14400 non-null  int64         \n",
      " 27  TRAVEL_STYL_8              14400 non-null  int64         \n",
      " 28  TRAVEL_STATUS_RESIDENCE    14400 non-null  object        \n",
      " 29  TRAVEL_STATUS_DESTINATION  14400 non-null  object        \n",
      " 30  TRAVEL_STATUS_ACCOMPANY    14400 non-null  object        \n",
      " 31  TRAVEL_STATUS_YMD          14400 non-null  object        \n",
      " 32  TRAVEL_MOTIVE_1            14399 non-null  float64       \n",
      " 33  TRAVEL_MOTIVE_2            13864 non-null  float64       \n",
      " 34  TRAVEL_MOTIVE_3            13234 non-null  float64       \n",
      " 35  TRAVEL_COMPANIONS_NUM      14400 non-null  int64         \n",
      " 36  TRAVEL_ID                  14400 non-null  object        \n",
      " 37  start_day                  14400 non-null  datetime64[ns]\n",
      " 38  end_day                    14400 non-null  datetime64[ns]\n",
      " 39  trip_day                   14400 non-null  int64         \n",
      "dtypes: datetime64[ns](2), float64(8), int64(23), object(7)\n",
      "memory usage: 4.4+ MB\n"
     ]
    }
   ],
   "source": [
    "traveler_data.info()"
   ]
  },
  {
   "cell_type": "code",
   "execution_count": 148,
   "id": "da9027d2-c1da-4cc3-a638-67c53c9438d1",
   "metadata": {},
   "outputs": [
    {
     "name": "stdout",
     "output_type": "stream",
     "text": [
      "<class 'pandas.core.frame.DataFrame'>\n",
      "RangeIndex: 3615 entries, 0 to 3614\n",
      "Data columns (total 15 columns):\n",
      " #   Column           Non-Null Count  Dtype  \n",
      "---  ------           --------------  -----  \n",
      " 0   TRAVEL_ID        3615 non-null   object \n",
      " 1   ADV_NM           3615 non-null   object \n",
      " 2   ADV_SEQ          3615 non-null   int64  \n",
      " 3   PAYMENT_NUM      3615 non-null   int64  \n",
      " 4   BRNO             1705 non-null   float64\n",
      " 5   STORE_NM         3543 non-null   object \n",
      " 6   ROAD_NM_ADDR     1869 non-null   object \n",
      " 7   LOTNO_ADDR       1318 non-null   object \n",
      " 8   ROAD_NM_CD       1744 non-null   float64\n",
      " 9   LOTNO_CD         1744 non-null   float64\n",
      " 10  PAYMENT_DT       2110 non-null   object \n",
      " 11  PAYMENT_MTHD_SE  3602 non-null   float64\n",
      " 12  PAYMENT_AMT_WON  3615 non-null   int64  \n",
      " 13  PAYMENT_ETC      3337 non-null   object \n",
      " 14  SGG_CD           1414 non-null   float64\n",
      "dtypes: float64(5), int64(3), object(7)\n",
      "memory usage: 423.8+ KB\n"
     ]
    }
   ],
   "source": [
    "post_data.info()"
   ]
  },
  {
   "cell_type": "code",
   "execution_count": 149,
   "id": "a41e993b-6b57-415c-b257-f2937eea1335",
   "metadata": {},
   "outputs": [
    {
     "name": "stdout",
     "output_type": "stream",
     "text": [
      "<class 'pandas.core.frame.DataFrame'>\n",
      "RangeIndex: 11311 entries, 0 to 11310\n",
      "Data columns (total 18 columns):\n",
      " #   Column               Non-Null Count  Dtype  \n",
      "---  ------               --------------  -----  \n",
      " 0   TRAVEL_ID            11311 non-null  object \n",
      " 1   LODGING_NM           11311 non-null  object \n",
      " 2   LODGING_PAYMENT_SEQ  11311 non-null  int64  \n",
      " 3   LODGING_TYPE_CD      11311 non-null  int64  \n",
      " 4   RSVT_YN              10693 non-null  object \n",
      " 5   CHK_IN_DT_MIN        10693 non-null  object \n",
      " 6   CHK_OUT_DT_MIN       10693 non-null  object \n",
      " 7   PAYMENT_NUM          11311 non-null  int64  \n",
      " 8   BRNO                 3429 non-null   float64\n",
      " 9   STORE_NM             5586 non-null   object \n",
      " 10  ROAD_NM_ADDR         9737 non-null   object \n",
      " 11  LOTNO_ADDR           7774 non-null   object \n",
      " 12  ROAD_NM_CD           4340 non-null   float64\n",
      " 13  LOTNO_CD             4340 non-null   float64\n",
      " 14  PAYMENT_DT           5278 non-null   object \n",
      " 15  PAYMENT_MTHD_SE      10717 non-null  float64\n",
      " 16  PAYMENT_AMT_WON      11311 non-null  int64  \n",
      " 17  PAYMENT_ETC          4622 non-null   object \n",
      "dtypes: float64(4), int64(4), object(10)\n",
      "memory usage: 1.6+ MB\n"
     ]
    }
   ],
   "source": [
    "lod_data.info()"
   ]
  },
  {
   "cell_type": "code",
   "execution_count": 150,
   "id": "0be8fb1f-6044-48f8-b987-7254685a75bf",
   "metadata": {},
   "outputs": [
    {
     "name": "stdout",
     "output_type": "stream",
     "text": [
      "<class 'pandas.core.frame.DataFrame'>\n",
      "RangeIndex: 38551 entries, 0 to 38550\n",
      "Data columns (total 12 columns):\n",
      " #   Column           Non-Null Count  Dtype  \n",
      "---  ------           --------------  -----  \n",
      " 0   TRAVEL_ID        38551 non-null  object \n",
      " 1   MVMN_SE          38551 non-null  int64  \n",
      " 2   PAYMENT_SE       38551 non-null  object \n",
      " 3   PAYMENT_SEQ      38551 non-null  int64  \n",
      " 4   MVMN_SE_NM       38551 non-null  object \n",
      " 5   PAYMENT_NUM      38551 non-null  int64  \n",
      " 6   BRNO             6906 non-null   float64\n",
      " 7   STORE_NM         7161 non-null   object \n",
      " 8   PAYMENT_DT       8531 non-null   object \n",
      " 9   PAYMENT_MTHD_SE  8930 non-null   float64\n",
      " 10  PAYMENT_AMT_WON  38549 non-null  float64\n",
      " 11  PAYMENT_ETC      10851 non-null  object \n",
      "dtypes: float64(3), int64(3), object(6)\n",
      "memory usage: 3.5+ MB\n"
     ]
    }
   ],
   "source": [
    "traf_data.info()"
   ]
  },
  {
   "cell_type": "code",
   "execution_count": 151,
   "id": "dd0007fd-d1a3-4673-8109-c2da999aac10",
   "metadata": {},
   "outputs": [
    {
     "name": "stdout",
     "output_type": "stream",
     "text": [
      "<class 'pandas.core.frame.DataFrame'>\n",
      "RangeIndex: 97460 entries, 0 to 97459\n",
      "Data columns (total 18 columns):\n",
      " #   Column             Non-Null Count  Dtype  \n",
      "---  ------             --------------  -----  \n",
      " 0   TRAVEL_ID          97460 non-null  object \n",
      " 1   VISIT_AREA_ID      97460 non-null  int64  \n",
      " 2   ACTIVITY_TYPE_CD   97460 non-null  int64  \n",
      " 3   ACTIVITY_TYPE_SEQ  97460 non-null  int64  \n",
      " 4   CONSUME_HIS_SEQ    97460 non-null  int64  \n",
      " 5   CONSUME_HIS_SNO    97460 non-null  int64  \n",
      " 6   PAYMENT_NUM        97460 non-null  int64  \n",
      " 7   BRNO               74965 non-null  float64\n",
      " 8   STORE_NM           96587 non-null  object \n",
      " 9   ROAD_NM_ADDR       86664 non-null  object \n",
      " 10  LOTNO_ADDR         59868 non-null  object \n",
      " 11  ROAD_NM_CD         78609 non-null  float64\n",
      " 12  LOTNO_CD           78609 non-null  float64\n",
      " 13  PAYMENT_DT         81572 non-null  object \n",
      " 14  PAYMENT_MTHD_SE    96996 non-null  float64\n",
      " 15  PAYMENT_AMT_WON    97428 non-null  float64\n",
      " 16  PAYMENT_ETC        59714 non-null  object \n",
      " 17  SGG_CD             15094 non-null  float64\n",
      "dtypes: float64(6), int64(6), object(6)\n",
      "memory usage: 13.4+ MB\n"
     ]
    }
   ],
   "source": [
    "acti_data.info()"
   ]
  },
  {
   "cell_type": "code",
   "execution_count": 152,
   "id": "5a3a174b-d06a-4bb8-923b-213dd925b3b5",
   "metadata": {},
   "outputs": [
    {
     "name": "stdout",
     "output_type": "stream",
     "text": [
      "<class 'pandas.core.frame.DataFrame'>\n",
      "RangeIndex: 21056 entries, 0 to 21055\n",
      "Data columns (total 6 columns):\n",
      " #   Column               Non-Null Count  Dtype \n",
      "---  ------               --------------  ----- \n",
      " 0   COMPANION_SEQ        21056 non-null  int64 \n",
      " 1   TRAVEL_ID            21056 non-null  object\n",
      " 2   REL_CD               21056 non-null  int64 \n",
      " 3   COMPANION_GENDER     21056 non-null  int64 \n",
      " 4   COMPANION_AGE_GRP    21056 non-null  int64 \n",
      " 5   COMPANION_SITUATION  21056 non-null  int64 \n",
      "dtypes: int64(5), object(1)\n",
      "memory usage: 987.1+ KB\n"
     ]
    }
   ],
   "source": [
    "#companicon_data=pd.read_csv('tn_companion_info_동반자정보.csv')\n",
    "companicon_data.info()"
   ]
  },
  {
   "cell_type": "code",
   "execution_count": 153,
   "id": "e571b36c-6641-44b0-8cb4-696de9c76bac",
   "metadata": {},
   "outputs": [
    {
     "name": "stdout",
     "output_type": "stream",
     "text": [
      "<class 'pandas.core.frame.DataFrame'>\n",
      "Index: 11009 entries, a_a000007 to d_d012491\n",
      "Data columns (total 1 columns):\n",
      " #   Column             Non-Null Count  Dtype \n",
      "---  ------             --------------  ----- \n",
      " 0   COMPANION_AGE_avg  11009 non-null  object\n",
      "dtypes: object(1)\n",
      "memory usage: 172.0+ KB\n",
      "None\n"
     ]
    },
    {
     "name": "stderr",
     "output_type": "stream",
     "text": [
      "C:\\Users\\401-6\\AppData\\Local\\Temp\\ipykernel_5564\\1705617916.py:22: SettingWithCopyWarning: \n",
      "A value is trying to be set on a copy of a slice from a DataFrame\n",
      "\n",
      "See the caveats in the documentation: https://pandas.pydata.org/pandas-docs/stable/user_guide/indexing.html#returning-a-view-versus-a-copy\n",
      "  companicon_data['age_avg'][i]=mean(companicon_data['COMPANION_AGE_avg'][i])\n"
     ]
    }
   ],
   "source": [
    "import numpy as np\n",
    "companicon_data['COMPANION_AGE_avg']=10*(companicon_data['COMPANION_AGE_GRP']-1)+5\n",
    "\n",
    "companicon_data['COMPANION_AGE_avg'] = companicon_data['COMPANION_AGE_avg'].apply(lambda x: [x])\n",
    "companicon_data=companicon_data.groupby('TRAVEL_ID').agg({'COMPANION_AGE_avg': 'sum'})\n",
    "#comp_age=companicon_data.groupby('TRAVELER_ID').agg({'COMPANION_AGE_avg': 'sum'})\n",
    "print(companicon_data.info())\n",
    "\n",
    "  #동반자 연령 평균\n",
    "s=0\n",
    "l=0\n",
    "for i in companicon_data['COMPANION_AGE_avg']:\n",
    "    l+=len(i)\n",
    "    for j in i:\n",
    "      s+=j\n",
    "avg=s/l\n",
    "\n",
    "from statistics import mean\n",
    "companicon_data['age_avg']=np.nan\n",
    "for i in range(len(companicon_data)):\n",
    "    if len(companicon_data['COMPANION_AGE_avg'][i])>0:\n",
    "        companicon_data['age_avg'][i]=mean(companicon_data['COMPANION_AGE_avg'][i])\n",
    "    else:\n",
    "        companicon_data['age_avg'][i]=np.nan\n",
    "\n",
    "companicon_data=companicon_data.drop('COMPANION_AGE_avg',axis=1)"
   ]
  },
  {
   "cell_type": "code",
   "execution_count": 154,
   "id": "4e56cabe-f37b-4101-be88-e9a72e985298",
   "metadata": {},
   "outputs": [
    {
     "name": "stdout",
     "output_type": "stream",
     "text": [
      "<class 'pandas.core.frame.DataFrame'>\n",
      "RangeIndex: 11009 entries, 0 to 11008\n",
      "Data columns (total 2 columns):\n",
      " #   Column     Non-Null Count  Dtype  \n",
      "---  ------     --------------  -----  \n",
      " 0   TRAVEL_ID  11009 non-null  object \n",
      " 1   age_avg    11009 non-null  float64\n",
      "dtypes: float64(1), object(1)\n",
      "memory usage: 172.1+ KB\n"
     ]
    }
   ],
   "source": [
    "companicon_data = companicon_data.reset_index()\n",
    "companicon_data.info()"
   ]
  },
  {
   "cell_type": "code",
   "execution_count": 155,
   "id": "3cad0169-a1c5-4336-9836-d9a0c6b87a2b",
   "metadata": {},
   "outputs": [
    {
     "data": {
      "text/html": [
       "<div>\n",
       "<style scoped>\n",
       "    .dataframe tbody tr th:only-of-type {\n",
       "        vertical-align: middle;\n",
       "    }\n",
       "\n",
       "    .dataframe tbody tr th {\n",
       "        vertical-align: top;\n",
       "    }\n",
       "\n",
       "    .dataframe thead th {\n",
       "        text-align: right;\n",
       "    }\n",
       "</style>\n",
       "<table border=\"1\" class=\"dataframe\">\n",
       "  <thead>\n",
       "    <tr style=\"text-align: right;\">\n",
       "      <th></th>\n",
       "      <th>TRAVEL_ID</th>\n",
       "      <th>age_avg</th>\n",
       "    </tr>\n",
       "  </thead>\n",
       "  <tbody>\n",
       "    <tr>\n",
       "      <th>0</th>\n",
       "      <td>a_a000007</td>\n",
       "      <td>37.000000</td>\n",
       "    </tr>\n",
       "    <tr>\n",
       "      <th>1</th>\n",
       "      <td>a_a000011</td>\n",
       "      <td>29.000000</td>\n",
       "    </tr>\n",
       "    <tr>\n",
       "      <th>2</th>\n",
       "      <td>a_a000013</td>\n",
       "      <td>25.000000</td>\n",
       "    </tr>\n",
       "    <tr>\n",
       "      <th>3</th>\n",
       "      <td>a_a000014</td>\n",
       "      <td>56.666667</td>\n",
       "    </tr>\n",
       "    <tr>\n",
       "      <th>4</th>\n",
       "      <td>a_a000018</td>\n",
       "      <td>21.666667</td>\n",
       "    </tr>\n",
       "    <tr>\n",
       "      <th>...</th>\n",
       "      <td>...</td>\n",
       "      <td>...</td>\n",
       "    </tr>\n",
       "    <tr>\n",
       "      <th>11004</th>\n",
       "      <td>d_d012443</td>\n",
       "      <td>20.000000</td>\n",
       "    </tr>\n",
       "    <tr>\n",
       "      <th>11005</th>\n",
       "      <td>d_d012446</td>\n",
       "      <td>10.000000</td>\n",
       "    </tr>\n",
       "    <tr>\n",
       "      <th>11006</th>\n",
       "      <td>d_d012472</td>\n",
       "      <td>40.000000</td>\n",
       "    </tr>\n",
       "    <tr>\n",
       "      <th>11007</th>\n",
       "      <td>d_d012487</td>\n",
       "      <td>35.000000</td>\n",
       "    </tr>\n",
       "    <tr>\n",
       "      <th>11008</th>\n",
       "      <td>d_d012491</td>\n",
       "      <td>35.000000</td>\n",
       "    </tr>\n",
       "  </tbody>\n",
       "</table>\n",
       "<p>11009 rows × 2 columns</p>\n",
       "</div>"
      ],
      "text/plain": [
       "       TRAVEL_ID    age_avg\n",
       "0      a_a000007  37.000000\n",
       "1      a_a000011  29.000000\n",
       "2      a_a000013  25.000000\n",
       "3      a_a000014  56.666667\n",
       "4      a_a000018  21.666667\n",
       "...          ...        ...\n",
       "11004  d_d012443  20.000000\n",
       "11005  d_d012446  10.000000\n",
       "11006  d_d012472  40.000000\n",
       "11007  d_d012487  35.000000\n",
       "11008  d_d012491  35.000000\n",
       "\n",
       "[11009 rows x 2 columns]"
      ]
     },
     "execution_count": 155,
     "metadata": {},
     "output_type": "execute_result"
    }
   ],
   "source": [
    "companicon_data"
   ]
  },
  {
   "cell_type": "code",
   "execution_count": null,
   "id": "a19d7b98-67d1-4595-a814-6c52ef5a7a7c",
   "metadata": {},
   "outputs": [],
   "source": []
  },
  {
   "cell_type": "code",
   "execution_count": null,
   "id": "1f4a73ee-9b2c-4396-9dc8-856e4bfbabd5",
   "metadata": {},
   "outputs": [],
   "source": []
  },
  {
   "cell_type": "code",
   "execution_count": 156,
   "id": "5b9b74ce-6d2a-4576-97e5-6a52726df4e3",
   "metadata": {},
   "outputs": [],
   "source": [
    "traveler_data_puri = traveler_data[['TRAVEL_ID', 'INCOME', 'AGE_GRP', 'TRAVEL_COMPANIONS_NUM','TRAVEL_STATUS_DESTINATION','trip_day']]\n",
    "post_data_puri = post_data[['TRAVEL_ID', 'PAYMENT_AMT_WON', 'PAYMENT_NUM']]\n",
    "lod_data_puri = lod_data[['TRAVEL_ID', 'PAYMENT_AMT_WON', 'PAYMENT_NUM']]\n",
    "traf_data_puri = traf_data[['TRAVEL_ID', 'PAYMENT_AMT_WON', 'PAYMENT_NUM']]\n",
    "acti_data_puri = acti_data[['TRAVEL_ID', 'PAYMENT_AMT_WON', 'PAYMENT_NUM']]\n",
    "companicon_data_puri = companicon_data[['TRAVEL_ID', 'age_avg']]"
   ]
  },
  {
   "cell_type": "code",
   "execution_count": 157,
   "id": "5ee53b7e-5d53-4a77-ad38-85b9a4ebb19c",
   "metadata": {
    "scrolled": true
   },
   "outputs": [
    {
     "name": "stderr",
     "output_type": "stream",
     "text": [
      "C:\\Users\\401-6\\AppData\\Local\\Temp\\ipykernel_5564\\469639654.py:1: SettingWithCopyWarning: \n",
      "A value is trying to be set on a copy of a slice from a DataFrame\n",
      "\n",
      "See the caveats in the documentation: https://pandas.pydata.org/pandas-docs/stable/user_guide/indexing.html#returning-a-view-versus-a-copy\n",
      "  post_data_puri.rename(columns={'PAYMENT_AMT_WON': 'POST_PAYMENT_AMT_WON', 'PAYMENT_NUM': 'POST_PAYMENT_NUM'}, inplace=True)\n",
      "C:\\Users\\401-6\\AppData\\Local\\Temp\\ipykernel_5564\\469639654.py:2: SettingWithCopyWarning: \n",
      "A value is trying to be set on a copy of a slice from a DataFrame\n",
      "\n",
      "See the caveats in the documentation: https://pandas.pydata.org/pandas-docs/stable/user_guide/indexing.html#returning-a-view-versus-a-copy\n",
      "  lod_data_puri.rename(columns={'PAYMENT_AMT_WON': 'LOD_PAYMENT_AMT_WON', 'PAYMENT_NUM': 'LOD_PAYMENT_NUM'}, inplace=True)\n",
      "C:\\Users\\401-6\\AppData\\Local\\Temp\\ipykernel_5564\\469639654.py:3: SettingWithCopyWarning: \n",
      "A value is trying to be set on a copy of a slice from a DataFrame\n",
      "\n",
      "See the caveats in the documentation: https://pandas.pydata.org/pandas-docs/stable/user_guide/indexing.html#returning-a-view-versus-a-copy\n",
      "  traf_data_puri.rename(columns={'PAYMENT_AMT_WON': 'TRAF_PAYMENT_AMT_WON', 'PAYMENT_NUM': 'TRAF_PAYMENT_NUM'}, inplace=True)\n",
      "C:\\Users\\401-6\\AppData\\Local\\Temp\\ipykernel_5564\\469639654.py:4: SettingWithCopyWarning: \n",
      "A value is trying to be set on a copy of a slice from a DataFrame\n",
      "\n",
      "See the caveats in the documentation: https://pandas.pydata.org/pandas-docs/stable/user_guide/indexing.html#returning-a-view-versus-a-copy\n",
      "  acti_data_puri.rename(columns={'PAYMENT_AMT_WON': 'ACTI_PAYMENT_AMT_WON', 'PAYMENT_NUM': 'ACTI_PAYMENT_NUM'}, inplace=True)\n"
     ]
    }
   ],
   "source": [
    "post_data_puri.rename(columns={'PAYMENT_AMT_WON': 'POST_PAYMENT_AMT_WON', 'PAYMENT_NUM': 'POST_PAYMENT_NUM'}, inplace=True)\n",
    "lod_data_puri.rename(columns={'PAYMENT_AMT_WON': 'LOD_PAYMENT_AMT_WON', 'PAYMENT_NUM': 'LOD_PAYMENT_NUM'}, inplace=True)\n",
    "traf_data_puri.rename(columns={'PAYMENT_AMT_WON': 'TRAF_PAYMENT_AMT_WON', 'PAYMENT_NUM': 'TRAF_PAYMENT_NUM'}, inplace=True)\n",
    "acti_data_puri.rename(columns={'PAYMENT_AMT_WON': 'ACTI_PAYMENT_AMT_WON', 'PAYMENT_NUM': 'ACTI_PAYMENT_NUM'}, inplace=True)"
   ]
  },
  {
   "cell_type": "code",
   "execution_count": 158,
   "id": "8b26dc62-96d7-45eb-a9d3-173d626bf93a",
   "metadata": {
    "scrolled": true
   },
   "outputs": [
    {
     "name": "stderr",
     "output_type": "stream",
     "text": [
      "C:\\Users\\401-6\\AppData\\Local\\Temp\\ipykernel_5564\\2089803447.py:3: SettingWithCopyWarning: \n",
      "A value is trying to be set on a copy of a slice from a DataFrame.\n",
      "Try using .loc[row_indexer,col_indexer] = value instead\n",
      "\n",
      "See the caveats in the documentation: https://pandas.pydata.org/pandas-docs/stable/user_guide/indexing.html#returning-a-view-versus-a-copy\n",
      "  globals()[f'{tmp.lower()}_data_puri'][f'ALL_{tmp}_PAYMENT_AMT_WON'] = globals()[f'{tmp.lower()}_data_puri'].groupby('TRAVEL_ID')[f'{tmp}_PAYMENT_AMT_WON'].transform('sum')\n",
      "C:\\Users\\401-6\\AppData\\Local\\Temp\\ipykernel_5564\\2089803447.py:4: SettingWithCopyWarning: \n",
      "A value is trying to be set on a copy of a slice from a DataFrame.\n",
      "Try using .loc[row_indexer,col_indexer] = value instead\n",
      "\n",
      "See the caveats in the documentation: https://pandas.pydata.org/pandas-docs/stable/user_guide/indexing.html#returning-a-view-versus-a-copy\n",
      "  globals()[f'{tmp.lower()}_data_puri'][f'ALL_{tmp}_PAYMENT_AMT_WON_mean'] = globals()[f'{tmp.lower()}_data_puri'].groupby('TRAVEL_ID')[f'{tmp}_PAYMENT_AMT_WON'].transform('sum')/globals()[f'{tmp.lower()}_data_puri'][f'{tmp}_PAYMENT_NUM']\n",
      "C:\\Users\\401-6\\AppData\\Local\\Temp\\ipykernel_5564\\2089803447.py:3: SettingWithCopyWarning: \n",
      "A value is trying to be set on a copy of a slice from a DataFrame.\n",
      "Try using .loc[row_indexer,col_indexer] = value instead\n",
      "\n",
      "See the caveats in the documentation: https://pandas.pydata.org/pandas-docs/stable/user_guide/indexing.html#returning-a-view-versus-a-copy\n",
      "  globals()[f'{tmp.lower()}_data_puri'][f'ALL_{tmp}_PAYMENT_AMT_WON'] = globals()[f'{tmp.lower()}_data_puri'].groupby('TRAVEL_ID')[f'{tmp}_PAYMENT_AMT_WON'].transform('sum')\n",
      "C:\\Users\\401-6\\AppData\\Local\\Temp\\ipykernel_5564\\2089803447.py:4: SettingWithCopyWarning: \n",
      "A value is trying to be set on a copy of a slice from a DataFrame.\n",
      "Try using .loc[row_indexer,col_indexer] = value instead\n",
      "\n",
      "See the caveats in the documentation: https://pandas.pydata.org/pandas-docs/stable/user_guide/indexing.html#returning-a-view-versus-a-copy\n",
      "  globals()[f'{tmp.lower()}_data_puri'][f'ALL_{tmp}_PAYMENT_AMT_WON_mean'] = globals()[f'{tmp.lower()}_data_puri'].groupby('TRAVEL_ID')[f'{tmp}_PAYMENT_AMT_WON'].transform('sum')/globals()[f'{tmp.lower()}_data_puri'][f'{tmp}_PAYMENT_NUM']\n",
      "C:\\Users\\401-6\\AppData\\Local\\Temp\\ipykernel_5564\\2089803447.py:3: SettingWithCopyWarning: \n",
      "A value is trying to be set on a copy of a slice from a DataFrame.\n",
      "Try using .loc[row_indexer,col_indexer] = value instead\n",
      "\n",
      "See the caveats in the documentation: https://pandas.pydata.org/pandas-docs/stable/user_guide/indexing.html#returning-a-view-versus-a-copy\n",
      "  globals()[f'{tmp.lower()}_data_puri'][f'ALL_{tmp}_PAYMENT_AMT_WON'] = globals()[f'{tmp.lower()}_data_puri'].groupby('TRAVEL_ID')[f'{tmp}_PAYMENT_AMT_WON'].transform('sum')\n",
      "C:\\Users\\401-6\\AppData\\Local\\Temp\\ipykernel_5564\\2089803447.py:4: SettingWithCopyWarning: \n",
      "A value is trying to be set on a copy of a slice from a DataFrame.\n",
      "Try using .loc[row_indexer,col_indexer] = value instead\n",
      "\n",
      "See the caveats in the documentation: https://pandas.pydata.org/pandas-docs/stable/user_guide/indexing.html#returning-a-view-versus-a-copy\n",
      "  globals()[f'{tmp.lower()}_data_puri'][f'ALL_{tmp}_PAYMENT_AMT_WON_mean'] = globals()[f'{tmp.lower()}_data_puri'].groupby('TRAVEL_ID')[f'{tmp}_PAYMENT_AMT_WON'].transform('sum')/globals()[f'{tmp.lower()}_data_puri'][f'{tmp}_PAYMENT_NUM']\n",
      "C:\\Users\\401-6\\AppData\\Local\\Temp\\ipykernel_5564\\2089803447.py:3: SettingWithCopyWarning: \n",
      "A value is trying to be set on a copy of a slice from a DataFrame.\n",
      "Try using .loc[row_indexer,col_indexer] = value instead\n",
      "\n",
      "See the caveats in the documentation: https://pandas.pydata.org/pandas-docs/stable/user_guide/indexing.html#returning-a-view-versus-a-copy\n",
      "  globals()[f'{tmp.lower()}_data_puri'][f'ALL_{tmp}_PAYMENT_AMT_WON'] = globals()[f'{tmp.lower()}_data_puri'].groupby('TRAVEL_ID')[f'{tmp}_PAYMENT_AMT_WON'].transform('sum')\n",
      "C:\\Users\\401-6\\AppData\\Local\\Temp\\ipykernel_5564\\2089803447.py:4: SettingWithCopyWarning: \n",
      "A value is trying to be set on a copy of a slice from a DataFrame.\n",
      "Try using .loc[row_indexer,col_indexer] = value instead\n",
      "\n",
      "See the caveats in the documentation: https://pandas.pydata.org/pandas-docs/stable/user_guide/indexing.html#returning-a-view-versus-a-copy\n",
      "  globals()[f'{tmp.lower()}_data_puri'][f'ALL_{tmp}_PAYMENT_AMT_WON_mean'] = globals()[f'{tmp.lower()}_data_puri'].groupby('TRAVEL_ID')[f'{tmp}_PAYMENT_AMT_WON'].transform('sum')/globals()[f'{tmp.lower()}_data_puri'][f'{tmp}_PAYMENT_NUM']\n"
     ]
    }
   ],
   "source": [
    "tmplst = ['POST','LOD','TRAF','ACTI']\n",
    "for tmp in tmplst:\n",
    "    globals()[f'{tmp.lower()}_data_puri'][f'ALL_{tmp}_PAYMENT_AMT_WON'] = globals()[f'{tmp.lower()}_data_puri'].groupby('TRAVEL_ID')[f'{tmp}_PAYMENT_AMT_WON'].transform('sum')\n",
    "    globals()[f'{tmp.lower()}_data_puri'][f'ALL_{tmp}_PAYMENT_AMT_WON_mean'] = globals()[f'{tmp.lower()}_data_puri'].groupby('TRAVEL_ID')[f'{tmp}_PAYMENT_AMT_WON'].transform('sum')/globals()[f'{tmp.lower()}_data_puri'][f'{tmp}_PAYMENT_NUM']\n"
   ]
  },
  {
   "cell_type": "code",
   "execution_count": 159,
   "id": "db95aa59-9a9f-473e-a26b-2f0fbd2ea2f2",
   "metadata": {},
   "outputs": [
    {
     "name": "stdout",
     "output_type": "stream",
     "text": [
      "<class 'pandas.core.frame.DataFrame'>\n",
      "RangeIndex: 3615 entries, 0 to 3614\n",
      "Data columns (total 5 columns):\n",
      " #   Column                         Non-Null Count  Dtype  \n",
      "---  ------                         --------------  -----  \n",
      " 0   TRAVEL_ID                      3615 non-null   object \n",
      " 1   POST_PAYMENT_AMT_WON           3615 non-null   int64  \n",
      " 2   POST_PAYMENT_NUM               3615 non-null   int64  \n",
      " 3   ALL_POST_PAYMENT_AMT_WON       3615 non-null   int64  \n",
      " 4   ALL_POST_PAYMENT_AMT_WON_mean  3615 non-null   float64\n",
      "dtypes: float64(1), int64(3), object(1)\n",
      "memory usage: 141.3+ KB\n",
      "None\n",
      "<class 'pandas.core.frame.DataFrame'>\n",
      "RangeIndex: 11311 entries, 0 to 11310\n",
      "Data columns (total 5 columns):\n",
      " #   Column                        Non-Null Count  Dtype  \n",
      "---  ------                        --------------  -----  \n",
      " 0   TRAVEL_ID                     11311 non-null  object \n",
      " 1   LOD_PAYMENT_AMT_WON           11311 non-null  int64  \n",
      " 2   LOD_PAYMENT_NUM               11311 non-null  int64  \n",
      " 3   ALL_LOD_PAYMENT_AMT_WON       11311 non-null  int64  \n",
      " 4   ALL_LOD_PAYMENT_AMT_WON_mean  11311 non-null  float64\n",
      "dtypes: float64(1), int64(3), object(1)\n",
      "memory usage: 442.0+ KB\n",
      "None\n",
      "<class 'pandas.core.frame.DataFrame'>\n",
      "RangeIndex: 38551 entries, 0 to 38550\n",
      "Data columns (total 5 columns):\n",
      " #   Column                         Non-Null Count  Dtype  \n",
      "---  ------                         --------------  -----  \n",
      " 0   TRAVEL_ID                      38551 non-null  object \n",
      " 1   TRAF_PAYMENT_AMT_WON           38549 non-null  float64\n",
      " 2   TRAF_PAYMENT_NUM               38551 non-null  int64  \n",
      " 3   ALL_TRAF_PAYMENT_AMT_WON       38551 non-null  float64\n",
      " 4   ALL_TRAF_PAYMENT_AMT_WON_mean  38551 non-null  float64\n",
      "dtypes: float64(3), int64(1), object(1)\n",
      "memory usage: 1.5+ MB\n",
      "None\n",
      "<class 'pandas.core.frame.DataFrame'>\n",
      "RangeIndex: 97460 entries, 0 to 97459\n",
      "Data columns (total 5 columns):\n",
      " #   Column                         Non-Null Count  Dtype  \n",
      "---  ------                         --------------  -----  \n",
      " 0   TRAVEL_ID                      97460 non-null  object \n",
      " 1   ACTI_PAYMENT_AMT_WON           97428 non-null  float64\n",
      " 2   ACTI_PAYMENT_NUM               97460 non-null  int64  \n",
      " 3   ALL_ACTI_PAYMENT_AMT_WON       97460 non-null  float64\n",
      " 4   ALL_ACTI_PAYMENT_AMT_WON_mean  97460 non-null  float64\n",
      "dtypes: float64(3), int64(1), object(1)\n",
      "memory usage: 3.7+ MB\n",
      "None\n"
     ]
    }
   ],
   "source": [
    "for tmp in tmplst:\n",
    "    print(globals()[f'{tmp.lower()}_data_puri'].info())"
   ]
  },
  {
   "cell_type": "code",
   "execution_count": null,
   "id": "636c3770-9b97-48eb-a121-3eba989ecd52",
   "metadata": {},
   "outputs": [],
   "source": []
  },
  {
   "cell_type": "code",
   "execution_count": 160,
   "id": "ef778700-6f5b-4fea-a171-db2e755969f8",
   "metadata": {
    "scrolled": true
   },
   "outputs": [
    {
     "name": "stdout",
     "output_type": "stream",
     "text": [
      "        TRAVEL_ID  INCOME  AGE_GRP  TRAVEL_COMPANIONS_NUM  \\\n",
      "0       b_b015583       3       20                      1   \n",
      "4       a_a001105       4       30                      7   \n",
      "20      a_a001673       5       30                      2   \n",
      "44      a_a017690       5       30                      3   \n",
      "46      c_c006666       3       30                      0   \n",
      "...           ...     ...      ...                    ...   \n",
      "470856  d_d012387       4       40                      0   \n",
      "470857  d_d004823       5       40                      0   \n",
      "470865  d_d006166       2       50                      2   \n",
      "470955  d_d011757       3       20                      1   \n",
      "471123  d_d006693       3       20                      0   \n",
      "\n",
      "       TRAVEL_STATUS_DESTINATION  trip_day  age_avg  POST_PAYMENT_AMT_WON  \\\n",
      "0                             충남         2     25.0               24000.0   \n",
      "4                             경기         2     31.0                   NaN   \n",
      "20                            서울         2     20.0               55000.0   \n",
      "44                            서울         1     35.0                   0.0   \n",
      "46                            경기         1      NaN                   NaN   \n",
      "...                          ...       ...      ...                   ...   \n",
      "470856                        제주         1      NaN                   NaN   \n",
      "470857                        제주         3      NaN                   NaN   \n",
      "470865                        제주         4     20.0                   NaN   \n",
      "470955                        제주         3     25.0                   NaN   \n",
      "471123                        제주         3      NaN               19600.0   \n",
      "\n",
      "        POST_PAYMENT_NUM  ALL_POST_PAYMENT_AMT_WON  ...  \\\n",
      "0                    2.0                   50000.0  ...   \n",
      "4                    NaN                       NaN  ...   \n",
      "20                   3.0                   55000.0  ...   \n",
      "44                   4.0                       0.0  ...   \n",
      "46                   NaN                       NaN  ...   \n",
      "...                  ...                       ...  ...   \n",
      "470856               NaN                       NaN  ...   \n",
      "470857               NaN                       NaN  ...   \n",
      "470865               NaN                       NaN  ...   \n",
      "470955               NaN                       NaN  ...   \n",
      "471123               1.0                   19600.0  ...   \n",
      "\n",
      "        ALL_LOD_PAYMENT_AMT_WON  ALL_LOD_PAYMENT_AMT_WON_mean  \\\n",
      "0                           NaN                           NaN   \n",
      "4                      530000.0                  75714.285714   \n",
      "20                     165000.0                  55000.000000   \n",
      "44                          NaN                           NaN   \n",
      "46                          NaN                           NaN   \n",
      "...                         ...                           ...   \n",
      "470856                      NaN                           NaN   \n",
      "470857                      0.0                      0.000000   \n",
      "470865                 264000.0                  88000.000000   \n",
      "470955                 154716.0                  77358.000000   \n",
      "471123                 147110.0                 147110.000000   \n",
      "\n",
      "        TRAF_PAYMENT_AMT_WON  TRAF_PAYMENT_NUM  ALL_TRAF_PAYMENT_AMT_WON  \\\n",
      "0                    50000.0               2.0                   50000.0   \n",
      "4                    70000.0               2.0                   88000.0   \n",
      "20                   22700.0               1.0                   64500.0   \n",
      "44                    3700.0               1.0                    3700.0   \n",
      "46                    4000.0               2.0                    7240.0   \n",
      "...                      ...               ...                       ...   \n",
      "470856                   NaN               NaN                       NaN   \n",
      "470857               61321.0               1.0                  122642.0   \n",
      "470865              172000.0               2.0                  267000.0   \n",
      "470955               43900.0               2.0                  253852.0   \n",
      "471123               53400.0               1.0                  214200.0   \n",
      "\n",
      "        ALL_TRAF_PAYMENT_AMT_WON_mean  ACTI_PAYMENT_AMT_WON  ACTI_PAYMENT_NUM  \\\n",
      "0                             25000.0               40000.0               2.0   \n",
      "4                             44000.0               32000.0               6.0   \n",
      "20                            64500.0               42000.0               1.0   \n",
      "44                             3700.0               34000.0               3.0   \n",
      "46                             3620.0               26000.0               2.0   \n",
      "...                               ...                   ...               ...   \n",
      "470856                            NaN                4500.0               1.0   \n",
      "470857                       122642.0                2900.0               1.0   \n",
      "470865                       133500.0               21000.0               3.0   \n",
      "470955                       126926.0               21000.0               2.0   \n",
      "471123                       214200.0               10000.0               1.0   \n",
      "\n",
      "        ALL_ACTI_PAYMENT_AMT_WON  ALL_ACTI_PAYMENT_AMT_WON_mean  \n",
      "0                        42000.0                   21000.000000  \n",
      "4                        91200.0                   15200.000000  \n",
      "20                      201200.0                  201200.000000  \n",
      "44                       56800.0                   18933.333333  \n",
      "46                       26000.0                   13000.000000  \n",
      "...                          ...                            ...  \n",
      "470856                    4500.0                    4500.000000  \n",
      "470857                   66900.0                   66900.000000  \n",
      "470865                  625310.0                  208436.666667  \n",
      "470955                  300000.0                  150000.000000  \n",
      "471123                  122900.0                  122900.000000  \n",
      "\n",
      "[14395 rows x 23 columns]\n"
     ]
    }
   ],
   "source": [
    "import numpy as np\n",
    "combined_data = pd.merge(post_data_puri, lod_data_puri, on='TRAVEL_ID', how='outer')\n",
    "combined_data = pd.merge(combined_data, traf_data_puri, on='TRAVEL_ID', how='outer')\n",
    "combined_data = pd.merge(combined_data, acti_data_puri, on='TRAVEL_ID', how='outer')\n",
    "combined_data = pd.merge(companicon_data_puri, combined_data, on='TRAVEL_ID', how='outer')\n",
    "combined_data = pd.merge(traveler_data_puri, combined_data, on='TRAVEL_ID', how='inner')\n",
    "\n",
    "\n",
    "combined_data.reset_index(drop = True, inplace = True)\n",
    "combined_data.drop_duplicates(['TRAVEL_ID'], inplace = True)\n",
    "print(combined_data)"
   ]
  },
  {
   "cell_type": "code",
   "execution_count": 161,
   "id": "edb4a2cb-42a0-42af-badb-11a861f8a46b",
   "metadata": {},
   "outputs": [
    {
     "name": "stdout",
     "output_type": "stream",
     "text": [
      "<class 'pandas.core.frame.DataFrame'>\n",
      "Int64Index: 14395 entries, 0 to 471123\n",
      "Data columns (total 23 columns):\n",
      " #   Column                         Non-Null Count  Dtype  \n",
      "---  ------                         --------------  -----  \n",
      " 0   TRAVEL_ID                      14395 non-null  object \n",
      " 1   INCOME                         14395 non-null  int64  \n",
      " 2   AGE_GRP                        14395 non-null  int64  \n",
      " 3   TRAVEL_COMPANIONS_NUM          14395 non-null  int64  \n",
      " 4   TRAVEL_STATUS_DESTINATION      14395 non-null  object \n",
      " 5   trip_day                       14395 non-null  int64  \n",
      " 6   age_avg                        9909 non-null   float64\n",
      " 7   POST_PAYMENT_AMT_WON           2879 non-null   float64\n",
      " 8   POST_PAYMENT_NUM               2879 non-null   float64\n",
      " 9   ALL_POST_PAYMENT_AMT_WON       2879 non-null   float64\n",
      " 10  ALL_POST_PAYMENT_AMT_WON_mean  2879 non-null   float64\n",
      " 11  LOD_PAYMENT_AMT_WON            7198 non-null   float64\n",
      " 12  LOD_PAYMENT_NUM                7198 non-null   float64\n",
      " 13  ALL_LOD_PAYMENT_AMT_WON        7198 non-null   float64\n",
      " 14  ALL_LOD_PAYMENT_AMT_WON_mean   7198 non-null   float64\n",
      " 15  TRAF_PAYMENT_AMT_WON           13436 non-null  float64\n",
      " 16  TRAF_PAYMENT_NUM               13436 non-null  float64\n",
      " 17  ALL_TRAF_PAYMENT_AMT_WON       13436 non-null  float64\n",
      " 18  ALL_TRAF_PAYMENT_AMT_WON_mean  13436 non-null  float64\n",
      " 19  ACTI_PAYMENT_AMT_WON           14059 non-null  float64\n",
      " 20  ACTI_PAYMENT_NUM               14060 non-null  float64\n",
      " 21  ALL_ACTI_PAYMENT_AMT_WON       14060 non-null  float64\n",
      " 22  ALL_ACTI_PAYMENT_AMT_WON_mean  14060 non-null  float64\n",
      "dtypes: float64(17), int64(4), object(2)\n",
      "memory usage: 2.6+ MB\n"
     ]
    }
   ],
   "source": [
    "combined_data.info()"
   ]
  },
  {
   "cell_type": "code",
   "execution_count": 162,
   "id": "61318a09-a6e7-4b1e-afe5-a04210f55d91",
   "metadata": {},
   "outputs": [
    {
     "name": "stdout",
     "output_type": "stream",
     "text": [
      "제주       2803\n",
      "경기       2155\n",
      "강원       1408\n",
      "서울       1248\n",
      "전남       1010\n",
      "충남        938\n",
      "경북        865\n",
      "전북        740\n",
      "경남        652\n",
      "충북        572\n",
      "인천        523\n",
      "부산        518\n",
      "대전        307\n",
      "대구        215\n",
      "울산        149\n",
      "광주        132\n",
      "세종         97\n",
      "도서 지역      63\n",
      "Name: TRAVEL_STATUS_DESTINATION, dtype: int64\n"
     ]
    }
   ],
   "source": [
    "unique_counts = combined_data['TRAVEL_STATUS_DESTINATION'].value_counts()\n",
    "print(unique_counts)"
   ]
  },
  {
   "cell_type": "code",
   "execution_count": 163,
   "id": "552f8117-30af-4a0b-9548-cdf6ce26561b",
   "metadata": {},
   "outputs": [],
   "source": [
    "combined_data = combined_data[combined_data['TRAVEL_STATUS_DESTINATION'] == '제주']"
   ]
  },
  {
   "cell_type": "code",
   "execution_count": 164,
   "id": "dd4902e1-be52-4272-959f-d0c66ab0c080",
   "metadata": {},
   "outputs": [
    {
     "data": {
      "text/plain": [
       "2803"
      ]
     },
     "execution_count": 164,
     "metadata": {},
     "output_type": "execute_result"
    }
   ],
   "source": [
    "len(combined_data['TRAVEL_ID'].unique())"
   ]
  },
  {
   "cell_type": "code",
   "execution_count": 165,
   "id": "48157ffb-e010-4240-84c0-89bb86c93306",
   "metadata": {},
   "outputs": [
    {
     "data": {
      "text/plain": [
       "Index(['TRAVEL_ID', 'INCOME', 'AGE_GRP', 'TRAVEL_COMPANIONS_NUM',\n",
       "       'TRAVEL_STATUS_DESTINATION', 'trip_day', 'age_avg',\n",
       "       'POST_PAYMENT_AMT_WON', 'POST_PAYMENT_NUM', 'ALL_POST_PAYMENT_AMT_WON',\n",
       "       'ALL_POST_PAYMENT_AMT_WON_mean', 'LOD_PAYMENT_AMT_WON',\n",
       "       'LOD_PAYMENT_NUM', 'ALL_LOD_PAYMENT_AMT_WON',\n",
       "       'ALL_LOD_PAYMENT_AMT_WON_mean', 'TRAF_PAYMENT_AMT_WON',\n",
       "       'TRAF_PAYMENT_NUM', 'ALL_TRAF_PAYMENT_AMT_WON',\n",
       "       'ALL_TRAF_PAYMENT_AMT_WON_mean', 'ACTI_PAYMENT_AMT_WON',\n",
       "       'ACTI_PAYMENT_NUM', 'ALL_ACTI_PAYMENT_AMT_WON',\n",
       "       'ALL_ACTI_PAYMENT_AMT_WON_mean'],\n",
       "      dtype='object')"
      ]
     },
     "execution_count": 165,
     "metadata": {},
     "output_type": "execute_result"
    }
   ],
   "source": [
    "combined_data.columns"
   ]
  },
  {
   "cell_type": "code",
   "execution_count": 166,
   "id": "56e1f800-d6cc-4968-9d18-7e84b0a6c09b",
   "metadata": {},
   "outputs": [],
   "source": [
    "combined_data['ALL_PAYMENT_AMT_WON'] = combined_data[[f'ALL_{tmp}_PAYMENT_AMT_WON' for tmp in tmplst]].sum(axis=1)\n",
    "combined_data['ALL_PAYMENT_AMT_WON_mean'] = combined_data[[f'ALL_{tmp}_PAYMENT_AMT_WON_mean' for tmp in tmplst]].sum(axis=1)"
   ]
  },
  {
   "cell_type": "code",
   "execution_count": 169,
   "id": "f2f96f1f-0fdc-4fbc-9866-29b3d7d6683d",
   "metadata": {},
   "outputs": [
    {
     "name": "stdout",
     "output_type": "stream",
     "text": [
      "<class 'pandas.core.frame.DataFrame'>\n",
      "Int64Index: 2803 entries, 1483 to 471123\n",
      "Data columns (total 25 columns):\n",
      " #   Column                         Non-Null Count  Dtype  \n",
      "---  ------                         --------------  -----  \n",
      " 0   TRAVEL_ID                      2803 non-null   object \n",
      " 1   INCOME                         2803 non-null   int64  \n",
      " 2   AGE_GRP                        2803 non-null   int64  \n",
      " 3   TRAVEL_COMPANIONS_NUM          2803 non-null   int64  \n",
      " 4   TRAVEL_STATUS_DESTINATION      2803 non-null   object \n",
      " 5   trip_day                       2803 non-null   int64  \n",
      " 6   age_avg                        1884 non-null   float64\n",
      " 7   POST_PAYMENT_AMT_WON           497 non-null    float64\n",
      " 8   POST_PAYMENT_NUM               497 non-null    float64\n",
      " 9   ALL_POST_PAYMENT_AMT_WON       497 non-null    float64\n",
      " 10  ALL_POST_PAYMENT_AMT_WON_mean  497 non-null    float64\n",
      " 11  LOD_PAYMENT_AMT_WON            2220 non-null   float64\n",
      " 12  LOD_PAYMENT_NUM                2220 non-null   float64\n",
      " 13  ALL_LOD_PAYMENT_AMT_WON        2220 non-null   float64\n",
      " 14  ALL_LOD_PAYMENT_AMT_WON_mean   2220 non-null   float64\n",
      " 15  TRAF_PAYMENT_AMT_WON           2619 non-null   float64\n",
      " 16  TRAF_PAYMENT_NUM               2619 non-null   float64\n",
      " 17  ALL_TRAF_PAYMENT_AMT_WON       2619 non-null   float64\n",
      " 18  ALL_TRAF_PAYMENT_AMT_WON_mean  2619 non-null   float64\n",
      " 19  ACTI_PAYMENT_AMT_WON           2778 non-null   float64\n",
      " 20  ACTI_PAYMENT_NUM               2778 non-null   float64\n",
      " 21  ALL_ACTI_PAYMENT_AMT_WON       2778 non-null   float64\n",
      " 22  ALL_ACTI_PAYMENT_AMT_WON_mean  2778 non-null   float64\n",
      " 23  ALL_PAYMENT_AMT_WON            2803 non-null   float64\n",
      " 24  ALL_PAYMENT_AMT_WON_mean       2803 non-null   float64\n",
      "dtypes: float64(19), int64(4), object(2)\n",
      "memory usage: 569.4+ KB\n"
     ]
    }
   ],
   "source": [
    "combined_data.info()"
   ]
  },
  {
   "cell_type": "code",
   "execution_count": 235,
   "id": "5c8b1a2f-d9ad-4fb8-bc39-b4ce9fedf720",
   "metadata": {},
   "outputs": [],
   "source": [
    "combined_data['ALL_PAYMENT_AMT_WON_mean_by_day'] = combined_data['ALL_PAYMENT_AMT_WON_mean']/combined_data['trip_day']\n",
    "#combined_data= combined_data.reset_index()"
   ]
  },
  {
   "cell_type": "code",
   "execution_count": 236,
   "id": "599005a1-6a97-4387-aa75-8ff0fcf0074e",
   "metadata": {},
   "outputs": [
    {
     "data": {
      "text/plain": [
       "Index(['index', 'TRAVEL_ID', 'INCOME', 'AGE_GRP', 'TRAVEL_COMPANIONS_NUM',\n",
       "       'TRAVEL_STATUS_DESTINATION', 'trip_day', 'age_avg',\n",
       "       'POST_PAYMENT_AMT_WON', 'POST_PAYMENT_NUM', 'ALL_POST_PAYMENT_AMT_WON',\n",
       "       'ALL_POST_PAYMENT_AMT_WON_mean', 'LOD_PAYMENT_AMT_WON',\n",
       "       'LOD_PAYMENT_NUM', 'ALL_LOD_PAYMENT_AMT_WON',\n",
       "       'ALL_LOD_PAYMENT_AMT_WON_mean', 'TRAF_PAYMENT_AMT_WON',\n",
       "       'TRAF_PAYMENT_NUM', 'ALL_TRAF_PAYMENT_AMT_WON',\n",
       "       'ALL_TRAF_PAYMENT_AMT_WON_mean', 'ACTI_PAYMENT_AMT_WON',\n",
       "       'ACTI_PAYMENT_NUM', 'ALL_ACTI_PAYMENT_AMT_WON',\n",
       "       'ALL_ACTI_PAYMENT_AMT_WON_mean', 'ALL_PAYMENT_AMT_WON',\n",
       "       'ALL_PAYMENT_AMT_WON_mean', 'ALL_PAYMENT_AMT_WON_mean_by_day'],\n",
       "      dtype='object')"
      ]
     },
     "execution_count": 236,
     "metadata": {},
     "output_type": "execute_result"
    }
   ],
   "source": [
    "combined_data.columns"
   ]
  },
  {
   "cell_type": "code",
   "execution_count": 238,
   "id": "73f466c2-0ffe-4e93-bb0d-e4668f8ede73",
   "metadata": {},
   "outputs": [
    {
     "name": "stderr",
     "output_type": "stream",
     "text": [
      "C:\\Users\\401-6\\AppData\\Local\\Temp\\ipykernel_5564\\2480430628.py:5: FutureWarning: The default value of numeric_only in DataFrame.corr is deprecated. In a future version, it will default to False. Select only valid columns or specify the value of numeric_only to silence this warning.\n",
      "  correlation_matrix = combined_data.corr()\n"
     ]
    },
    {
     "data": {
      "image/png": "[encoded data removed]",
      "text/plain": [
       "<Figure size 1000x800 with 2 Axes>"
      ]
     },
     "metadata": {},
     "output_type": "display_data"
    },
    {
     "name": "stdout",
     "output_type": "stream",
     "text": [
      "                                    index    INCOME   AGE_GRP  \\\n",
      "index                            1.000000 -0.012035  0.020794   \n",
      "INCOME                          -0.012035  1.000000  0.256184   \n",
      "AGE_GRP                          0.020794  0.256184  1.000000   \n",
      "TRAVEL_COMPANIONS_NUM           -0.002960  0.083940  0.170338   \n",
      "trip_day                         0.011756  0.060668 -0.069945   \n",
      "age_avg                          0.031311  0.100803  0.209452   \n",
      "POST_PAYMENT_AMT_WON            -0.032784  0.164022  0.006050   \n",
      "POST_PAYMENT_NUM                 0.018181  0.109262  0.158115   \n",
      "ALL_POST_PAYMENT_AMT_WON        -0.027011  0.164941  0.026427   \n",
      "ALL_POST_PAYMENT_AMT_WON_mean   -0.056088  0.138300 -0.004186   \n",
      "LOD_PAYMENT_AMT_WON              0.028153  0.107215  0.099140   \n",
      "LOD_PAYMENT_NUM                  0.004327  0.080644  0.190265   \n",
      "ALL_LOD_PAYMENT_AMT_WON         -0.000960  0.116442  0.103896   \n",
      "ALL_LOD_PAYMENT_AMT_WON_mean    -0.019444  0.127814  0.035078   \n",
      "TRAF_PAYMENT_AMT_WON             0.038443  0.089120  0.079636   \n",
      "TRAF_PAYMENT_NUM                -0.018112  0.095016  0.179788   \n",
      "ALL_TRAF_PAYMENT_AMT_WON         0.005383  0.134743  0.042711   \n",
      "ALL_TRAF_PAYMENT_AMT_WON_mean    0.041369  0.100260 -0.094100   \n",
      "ACTI_PAYMENT_AMT_WON             0.006079  0.076252  0.020914   \n",
      "ACTI_PAYMENT_NUM                -0.004560  0.095074  0.153235   \n",
      "ALL_ACTI_PAYMENT_AMT_WON         0.022955  0.114816  0.010955   \n",
      "ALL_ACTI_PAYMENT_AMT_WON_mean    0.019504  0.077213 -0.073045   \n",
      "ALL_PAYMENT_AMT_WON              0.014844  0.151402  0.041290   \n",
      "ALL_PAYMENT_AMT_WON_mean         0.023655  0.137503 -0.081304   \n",
      "ALL_PAYMENT_AMT_WON_mean_by_day  0.018687  0.125803 -0.065766   \n",
      "\n",
      "                                 TRAVEL_COMPANIONS_NUM  trip_day   age_avg  \\\n",
      "index                                        -0.002960  0.011756  0.031311   \n",
      "INCOME                                        0.083940  0.060668  0.100803   \n",
      "AGE_GRP                                       0.170338 -0.069945  0.209452   \n",
      "TRAVEL_COMPANIONS_NUM                         1.000000  0.068457 -0.020181   \n",
      "trip_day                                      0.068457  1.000000  0.050761   \n",
      "age_avg                                      -0.020181  0.050761  1.000000   \n",
      "POST_PAYMENT_AMT_WON                          0.380887  0.128599  0.151253   \n",
      "POST_PAYMENT_NUM                              0.690667 -0.023037 -0.077257   \n",
      "ALL_POST_PAYMENT_AMT_WON                      0.386008  0.139592  0.131151   \n",
      "ALL_POST_PAYMENT_AMT_WON_mean                 0.225503  0.098094  0.150004   \n",
      "LOD_PAYMENT_AMT_WON                           0.399295  0.076823  0.065767   \n",
      "LOD_PAYMENT_NUM                               0.929741  0.019901 -0.001936   \n",
      "ALL_LOD_PAYMENT_AMT_WON                       0.441483  0.227208  0.069163   \n",
      "ALL_LOD_PAYMENT_AMT_WON_mean                 -0.010511  0.282695  0.065088   \n",
      "TRAF_PAYMENT_AMT_WON                          0.324440  0.090261  0.074424   \n",
      "TRAF_PAYMENT_NUM                              0.885961  0.041140 -0.042932   \n",
      "ALL_TRAF_PAYMENT_AMT_WON                      0.614052  0.245210  0.142986   \n",
      "ALL_TRAF_PAYMENT_AMT_WON_mean                 0.103482  0.328278  0.150719   \n",
      "ACTI_PAYMENT_AMT_WON                          0.280148  0.019992  0.048747   \n",
      "ACTI_PAYMENT_NUM                              0.845716  0.047596 -0.030661   \n",
      "ALL_ACTI_PAYMENT_AMT_WON                      0.500334  0.336383  0.120774   \n",
      "ALL_ACTI_PAYMENT_AMT_WON_mean                 0.071462  0.353322  0.097705   \n",
      "ALL_PAYMENT_AMT_WON                           0.627209  0.373995  0.146467   \n",
      "ALL_PAYMENT_AMT_WON_mean                      0.107757  0.483726  0.155959   \n",
      "ALL_PAYMENT_AMT_WON_mean_by_day               0.090549  0.114349  0.164887   \n",
      "\n",
      "                                 POST_PAYMENT_AMT_WON  POST_PAYMENT_NUM  \\\n",
      "index                                       -0.032784          0.018181   \n",
      "INCOME                                       0.164022          0.109262   \n",
      "AGE_GRP                                      0.006050          0.158115   \n",
      "TRAVEL_COMPANIONS_NUM                        0.380887          0.690667   \n",
      "trip_day                                     0.128599         -0.023037   \n",
      "age_avg                                      0.151253         -0.077257   \n",
      "POST_PAYMENT_AMT_WON                         1.000000          0.225903   \n",
      "POST_PAYMENT_NUM                             0.225903          1.000000   \n",
      "ALL_POST_PAYMENT_AMT_WON                     0.931106          0.273595   \n",
      "ALL_POST_PAYMENT_AMT_WON_mean                0.771925         -0.096657   \n",
      "LOD_PAYMENT_AMT_WON                          0.178502          0.330679   \n",
      "LOD_PAYMENT_NUM                              0.405821          0.677519   \n",
      "ALL_LOD_PAYMENT_AMT_WON                      0.294510          0.495349   \n",
      "ALL_LOD_PAYMENT_AMT_WON_mean                 0.108847         -0.047892   \n",
      "TRAF_PAYMENT_AMT_WON                         0.105919          0.322285   \n",
      "TRAF_PAYMENT_NUM                             0.386091          0.694033   \n",
      "ALL_TRAF_PAYMENT_AMT_WON                     0.481686          0.360266   \n",
      "ALL_TRAF_PAYMENT_AMT_WON_mean                0.109761         -0.072431   \n",
      "ACTI_PAYMENT_AMT_WON                         0.347702          0.469639   \n",
      "ACTI_PAYMENT_NUM                             0.405477          0.707567   \n",
      "ALL_ACTI_PAYMENT_AMT_WON                     0.294614          0.353548   \n",
      "ALL_ACTI_PAYMENT_AMT_WON_mean                0.074076         -0.022890   \n",
      "ALL_PAYMENT_AMT_WON                          0.529963          0.460991   \n",
      "ALL_PAYMENT_AMT_WON_mean                     0.341300         -0.075939   \n",
      "ALL_PAYMENT_AMT_WON_mean_by_day              0.357109         -0.070026   \n",
      "\n",
      "                                 ALL_POST_PAYMENT_AMT_WON  \\\n",
      "index                                           -0.027011   \n",
      "INCOME                                           0.164941   \n",
      "AGE_GRP                                          0.026427   \n",
      "TRAVEL_COMPANIONS_NUM                            0.386008   \n",
      "trip_day                                         0.139592   \n",
      "age_avg                                          0.131151   \n",
      "POST_PAYMENT_AMT_WON                             0.931106   \n",
      "POST_PAYMENT_NUM                                 0.273595   \n",
      "ALL_POST_PAYMENT_AMT_WON                         1.000000   \n",
      "ALL_POST_PAYMENT_AMT_WON_mean                    0.819504   \n",
      "LOD_PAYMENT_AMT_WON                              0.148498   \n",
      "LOD_PAYMENT_NUM                                  0.378147   \n",
      "ALL_LOD_PAYMENT_AMT_WON                          0.290260   \n",
      "ALL_LOD_PAYMENT_AMT_WON_mean                     0.159650   \n",
      "TRAF_PAYMENT_AMT_WON                             0.091954   \n",
      "TRAF_PAYMENT_NUM                                 0.387617   \n",
      "ALL_TRAF_PAYMENT_AMT_WON                         0.458634   \n",
      "ALL_TRAF_PAYMENT_AMT_WON_mean                    0.109988   \n",
      "ACTI_PAYMENT_AMT_WON                             0.326788   \n",
      "ACTI_PAYMENT_NUM                                 0.410015   \n",
      "ALL_ACTI_PAYMENT_AMT_WON                         0.308676   \n",
      "ALL_ACTI_PAYMENT_AMT_WON_mean                    0.082745   \n",
      "ALL_PAYMENT_AMT_WON                              0.530313   \n",
      "ALL_PAYMENT_AMT_WON_mean                         0.371705   \n",
      "ALL_PAYMENT_AMT_WON_mean_by_day                  0.378877   \n",
      "\n",
      "                                 ALL_POST_PAYMENT_AMT_WON_mean  ...  \\\n",
      "index                                                -0.056088  ...   \n",
      "INCOME                                                0.138300  ...   \n",
      "AGE_GRP                                              -0.004186  ...   \n",
      "TRAVEL_COMPANIONS_NUM                                 0.225503  ...   \n",
      "trip_day                                              0.098094  ...   \n",
      "age_avg                                               0.150004  ...   \n",
      "POST_PAYMENT_AMT_WON                                  0.771925  ...   \n",
      "POST_PAYMENT_NUM                                     -0.096657  ...   \n",
      "ALL_POST_PAYMENT_AMT_WON                              0.819504  ...   \n",
      "ALL_POST_PAYMENT_AMT_WON_mean                         1.000000  ...   \n",
      "LOD_PAYMENT_AMT_WON                                   0.073739  ...   \n",
      "LOD_PAYMENT_NUM                                       0.242455  ...   \n",
      "ALL_LOD_PAYMENT_AMT_WON                               0.097251  ...   \n",
      "ALL_LOD_PAYMENT_AMT_WON_mean                          0.175389  ...   \n",
      "TRAF_PAYMENT_AMT_WON                                 -0.011975  ...   \n",
      "TRAF_PAYMENT_NUM                                      0.232831  ...   \n",
      "ALL_TRAF_PAYMENT_AMT_WON                              0.458589  ...   \n",
      "ALL_TRAF_PAYMENT_AMT_WON_mean                         0.155461  ...   \n",
      "ACTI_PAYMENT_AMT_WON                                  0.153388  ...   \n",
      "ACTI_PAYMENT_NUM                                      0.254525  ...   \n",
      "ALL_ACTI_PAYMENT_AMT_WON                              0.175401  ...   \n",
      "ALL_ACTI_PAYMENT_AMT_WON_mean                         0.059589  ...   \n",
      "ALL_PAYMENT_AMT_WON                                   0.404004  ...   \n",
      "ALL_PAYMENT_AMT_WON_mean                              0.426064  ...   \n",
      "ALL_PAYMENT_AMT_WON_mean_by_day                       0.471267  ...   \n",
      "\n",
      "                                 TRAF_PAYMENT_NUM  ALL_TRAF_PAYMENT_AMT_WON  \\\n",
      "index                                   -0.018112                  0.005383   \n",
      "INCOME                                   0.095016                  0.134743   \n",
      "AGE_GRP                                  0.179788                  0.042711   \n",
      "TRAVEL_COMPANIONS_NUM                    0.885961                  0.614052   \n",
      "trip_day                                 0.041140                  0.245210   \n",
      "age_avg                                 -0.042932                  0.142986   \n",
      "POST_PAYMENT_AMT_WON                     0.386091                  0.481686   \n",
      "POST_PAYMENT_NUM                         0.694033                  0.360266   \n",
      "ALL_POST_PAYMENT_AMT_WON                 0.387617                  0.458634   \n",
      "ALL_POST_PAYMENT_AMT_WON_mean            0.232831                  0.458589   \n",
      "LOD_PAYMENT_AMT_WON                      0.329055                  0.339138   \n",
      "LOD_PAYMENT_NUM                          0.894903                  0.645312   \n",
      "ALL_LOD_PAYMENT_AMT_WON                  0.395214                  0.423196   \n",
      "ALL_LOD_PAYMENT_AMT_WON_mean            -0.025159                  0.120232   \n",
      "TRAF_PAYMENT_AMT_WON                     0.344429                  0.448476   \n",
      "TRAF_PAYMENT_NUM                         1.000000                  0.602218   \n",
      "ALL_TRAF_PAYMENT_AMT_WON                 0.602218                  1.000000   \n",
      "ALL_TRAF_PAYMENT_AMT_WON_mean           -0.044717                  0.615744   \n",
      "ACTI_PAYMENT_AMT_WON                     0.279312                  0.286986   \n",
      "ACTI_PAYMENT_NUM                         0.844289                  0.564176   \n",
      "ALL_ACTI_PAYMENT_AMT_WON                 0.469150                  0.558573   \n",
      "ALL_ACTI_PAYMENT_AMT_WON_mean            0.016801                  0.246204   \n",
      "ALL_PAYMENT_AMT_WON                      0.607413                  0.856302   \n",
      "ALL_PAYMENT_AMT_WON_mean                 0.009419                  0.506480   \n",
      "ALL_PAYMENT_AMT_WON_mean_by_day         -0.004153                  0.469702   \n",
      "\n",
      "                                 ALL_TRAF_PAYMENT_AMT_WON_mean  \\\n",
      "index                                                 0.041369   \n",
      "INCOME                                                0.100260   \n",
      "AGE_GRP                                              -0.094100   \n",
      "TRAVEL_COMPANIONS_NUM                                 0.103482   \n",
      "trip_day                                              0.328278   \n",
      "age_avg                                               0.150719   \n",
      "POST_PAYMENT_AMT_WON                                  0.109761   \n",
      "POST_PAYMENT_NUM                                     -0.072431   \n",
      "ALL_POST_PAYMENT_AMT_WON                              0.109988   \n",
      "ALL_POST_PAYMENT_AMT_WON_mean                         0.155461   \n",
      "LOD_PAYMENT_AMT_WON                                   0.160718   \n",
      "LOD_PAYMENT_NUM                                       0.085791   \n",
      "ALL_LOD_PAYMENT_AMT_WON                               0.204241   \n",
      "ALL_LOD_PAYMENT_AMT_WON_mean                          0.198004   \n",
      "TRAF_PAYMENT_AMT_WON                                  0.220189   \n",
      "TRAF_PAYMENT_NUM                                     -0.044717   \n",
      "ALL_TRAF_PAYMENT_AMT_WON                              0.615744   \n",
      "ALL_TRAF_PAYMENT_AMT_WON_mean                         1.000000   \n",
      "ACTI_PAYMENT_AMT_WON                                  0.080301   \n",
      "ACTI_PAYMENT_NUM                                      0.054993   \n",
      "ALL_ACTI_PAYMENT_AMT_WON                              0.337586   \n",
      "ALL_ACTI_PAYMENT_AMT_WON_mean                         0.377268   \n",
      "ALL_PAYMENT_AMT_WON                                   0.510959   \n",
      "ALL_PAYMENT_AMT_WON_mean                              0.745427   \n",
      "ALL_PAYMENT_AMT_WON_mean_by_day                       0.677812   \n",
      "\n",
      "                                 ACTI_PAYMENT_AMT_WON  ACTI_PAYMENT_NUM  \\\n",
      "index                                        0.006079         -0.004560   \n",
      "INCOME                                       0.076252          0.095074   \n",
      "AGE_GRP                                      0.020914          0.153235   \n",
      "TRAVEL_COMPANIONS_NUM                        0.280148          0.845716   \n",
      "trip_day                                     0.019992          0.047596   \n",
      "age_avg                                      0.048747         -0.030661   \n",
      "POST_PAYMENT_AMT_WON                         0.347702          0.405477   \n",
      "POST_PAYMENT_NUM                             0.469639          0.707567   \n",
      "ALL_POST_PAYMENT_AMT_WON                     0.326788          0.410015   \n",
      "ALL_POST_PAYMENT_AMT_WON_mean                0.153388          0.254525   \n",
      "LOD_PAYMENT_AMT_WON                          0.106106          0.323831   \n",
      "LOD_PAYMENT_NUM                              0.293774          0.878838   \n",
      "ALL_LOD_PAYMENT_AMT_WON                      0.240038          0.366752   \n",
      "ALL_LOD_PAYMENT_AMT_WON_mean                 0.026371         -0.054498   \n",
      "TRAF_PAYMENT_AMT_WON                         0.114238          0.278628   \n",
      "TRAF_PAYMENT_NUM                             0.279312          0.844289   \n",
      "ALL_TRAF_PAYMENT_AMT_WON                     0.286986          0.564176   \n",
      "ALL_TRAF_PAYMENT_AMT_WON_mean                0.080301          0.054993   \n",
      "ACTI_PAYMENT_AMT_WON                         1.000000          0.338612   \n",
      "ACTI_PAYMENT_NUM                             0.338612          1.000000   \n",
      "ALL_ACTI_PAYMENT_AMT_WON                     0.340201          0.457885   \n",
      "ALL_ACTI_PAYMENT_AMT_WON_mean                0.158141         -0.113693   \n",
      "ALL_PAYMENT_AMT_WON                          0.360069          0.567912   \n",
      "ALL_PAYMENT_AMT_WON_mean                     0.143671         -0.018040   \n",
      "ALL_PAYMENT_AMT_WON_mean_by_day              0.190907         -0.022842   \n",
      "\n",
      "                                 ALL_ACTI_PAYMENT_AMT_WON  \\\n",
      "index                                            0.022955   \n",
      "INCOME                                           0.114816   \n",
      "AGE_GRP                                          0.010955   \n",
      "TRAVEL_COMPANIONS_NUM                            0.500334   \n",
      "trip_day                                         0.336383   \n",
      "age_avg                                          0.120774   \n",
      "POST_PAYMENT_AMT_WON                             0.294614   \n",
      "POST_PAYMENT_NUM                                 0.353548   \n",
      "ALL_POST_PAYMENT_AMT_WON                         0.308676   \n",
      "ALL_POST_PAYMENT_AMT_WON_mean                    0.175401   \n",
      "LOD_PAYMENT_AMT_WON                              0.266050   \n",
      "LOD_PAYMENT_NUM                                  0.491686   \n",
      "ALL_LOD_PAYMENT_AMT_WON                          0.365644   \n",
      "ALL_LOD_PAYMENT_AMT_WON_mean                     0.141189   \n",
      "TRAF_PAYMENT_AMT_WON                             0.222677   \n",
      "TRAF_PAYMENT_NUM                                 0.469150   \n",
      "ALL_TRAF_PAYMENT_AMT_WON                         0.558573   \n",
      "ALL_TRAF_PAYMENT_AMT_WON_mean                    0.337586   \n",
      "ACTI_PAYMENT_AMT_WON                             0.340201   \n",
      "ACTI_PAYMENT_NUM                                 0.457885   \n",
      "ALL_ACTI_PAYMENT_AMT_WON                         1.000000   \n",
      "ALL_ACTI_PAYMENT_AMT_WON_mean                    0.726299   \n",
      "ALL_PAYMENT_AMT_WON                              0.803002   \n",
      "ALL_PAYMENT_AMT_WON_mean                         0.616562   \n",
      "ALL_PAYMENT_AMT_WON_mean_by_day                  0.515750   \n",
      "\n",
      "                                 ALL_ACTI_PAYMENT_AMT_WON_mean  \\\n",
      "index                                                 0.019504   \n",
      "INCOME                                                0.077213   \n",
      "AGE_GRP                                              -0.073045   \n",
      "TRAVEL_COMPANIONS_NUM                                 0.071462   \n",
      "trip_day                                              0.353322   \n",
      "age_avg                                               0.097705   \n",
      "POST_PAYMENT_AMT_WON                                  0.074076   \n",
      "POST_PAYMENT_NUM                                     -0.022890   \n",
      "ALL_POST_PAYMENT_AMT_WON                              0.082745   \n",
      "ALL_POST_PAYMENT_AMT_WON_mean                         0.059589   \n",
      "LOD_PAYMENT_AMT_WON                                   0.108239   \n",
      "LOD_PAYMENT_NUM                                       0.017479   \n",
      "ALL_LOD_PAYMENT_AMT_WON                               0.165760   \n",
      "ALL_LOD_PAYMENT_AMT_WON_mean                          0.207357   \n",
      "TRAF_PAYMENT_AMT_WON                                  0.100366   \n",
      "TRAF_PAYMENT_NUM                                      0.016801   \n",
      "ALL_TRAF_PAYMENT_AMT_WON                              0.246204   \n",
      "ALL_TRAF_PAYMENT_AMT_WON_mean                         0.377268   \n",
      "ACTI_PAYMENT_AMT_WON                                  0.158141   \n",
      "ACTI_PAYMENT_NUM                                     -0.113693   \n",
      "ALL_ACTI_PAYMENT_AMT_WON                              0.726299   \n",
      "ALL_ACTI_PAYMENT_AMT_WON_mean                         1.000000   \n",
      "ALL_PAYMENT_AMT_WON                                   0.485913   \n",
      "ALL_PAYMENT_AMT_WON_mean                              0.781026   \n",
      "ALL_PAYMENT_AMT_WON_mean_by_day                       0.671536   \n",
      "\n",
      "                                 ALL_PAYMENT_AMT_WON  \\\n",
      "index                                       0.014844   \n",
      "INCOME                                      0.151402   \n",
      "AGE_GRP                                     0.041290   \n",
      "TRAVEL_COMPANIONS_NUM                       0.627209   \n",
      "trip_day                                    0.373995   \n",
      "age_avg                                     0.146467   \n",
      "POST_PAYMENT_AMT_WON                        0.529963   \n",
      "POST_PAYMENT_NUM                            0.460991   \n",
      "ALL_POST_PAYMENT_AMT_WON                    0.530313   \n",
      "ALL_POST_PAYMENT_AMT_WON_mean               0.404004   \n",
      "LOD_PAYMENT_AMT_WON                         0.571641   \n",
      "LOD_PAYMENT_NUM                             0.671024   \n",
      "ALL_LOD_PAYMENT_AMT_WON                     0.737576   \n",
      "ALL_LOD_PAYMENT_AMT_WON_mean                0.391180   \n",
      "TRAF_PAYMENT_AMT_WON                        0.381977   \n",
      "TRAF_PAYMENT_NUM                            0.607413   \n",
      "ALL_TRAF_PAYMENT_AMT_WON                    0.856302   \n",
      "ALL_TRAF_PAYMENT_AMT_WON_mean               0.510959   \n",
      "ACTI_PAYMENT_AMT_WON                        0.360069   \n",
      "ACTI_PAYMENT_NUM                            0.567912   \n",
      "ALL_ACTI_PAYMENT_AMT_WON                    0.803002   \n",
      "ALL_ACTI_PAYMENT_AMT_WON_mean               0.485913   \n",
      "ALL_PAYMENT_AMT_WON                         1.000000   \n",
      "ALL_PAYMENT_AMT_WON_mean                    0.685407   \n",
      "ALL_PAYMENT_AMT_WON_mean_by_day             0.589362   \n",
      "\n",
      "                                 ALL_PAYMENT_AMT_WON_mean  \\\n",
      "index                                            0.023655   \n",
      "INCOME                                           0.137503   \n",
      "AGE_GRP                                         -0.081304   \n",
      "TRAVEL_COMPANIONS_NUM                            0.107757   \n",
      "trip_day                                         0.483726   \n",
      "age_avg                                          0.155959   \n",
      "POST_PAYMENT_AMT_WON                             0.341300   \n",
      "POST_PAYMENT_NUM                                -0.075939   \n",
      "ALL_POST_PAYMENT_AMT_WON                         0.371705   \n",
      "ALL_POST_PAYMENT_AMT_WON_mean                    0.426064   \n",
      "LOD_PAYMENT_AMT_WON                              0.312368   \n",
      "LOD_PAYMENT_NUM                                  0.045342   \n",
      "ALL_LOD_PAYMENT_AMT_WON                          0.469724   \n",
      "ALL_LOD_PAYMENT_AMT_WON_mean                     0.610352   \n",
      "TRAF_PAYMENT_AMT_WON                             0.187299   \n",
      "TRAF_PAYMENT_NUM                                 0.009419   \n",
      "ALL_TRAF_PAYMENT_AMT_WON                         0.506480   \n",
      "ALL_TRAF_PAYMENT_AMT_WON_mean                    0.745427   \n",
      "ACTI_PAYMENT_AMT_WON                             0.143671   \n",
      "ACTI_PAYMENT_NUM                                -0.018040   \n",
      "ALL_ACTI_PAYMENT_AMT_WON                         0.616562   \n",
      "ALL_ACTI_PAYMENT_AMT_WON_mean                    0.781026   \n",
      "ALL_PAYMENT_AMT_WON                              0.685407   \n",
      "ALL_PAYMENT_AMT_WON_mean                         1.000000   \n",
      "ALL_PAYMENT_AMT_WON_mean_by_day                  0.857812   \n",
      "\n",
      "                                 ALL_PAYMENT_AMT_WON_mean_by_day  \n",
      "index                                                   0.018687  \n",
      "INCOME                                                  0.125803  \n",
      "AGE_GRP                                                -0.065766  \n",
      "TRAVEL_COMPANIONS_NUM                                   0.090549  \n",
      "trip_day                                                0.114349  \n",
      "age_avg                                                 0.164887  \n",
      "POST_PAYMENT_AMT_WON                                    0.357109  \n",
      "POST_PAYMENT_NUM                                       -0.070026  \n",
      "ALL_POST_PAYMENT_AMT_WON                                0.378877  \n",
      "ALL_POST_PAYMENT_AMT_WON_mean                           0.471267  \n",
      "LOD_PAYMENT_AMT_WON                                     0.309723  \n",
      "LOD_PAYMENT_NUM                                         0.048377  \n",
      "ALL_LOD_PAYMENT_AMT_WON                                 0.371033  \n",
      "ALL_LOD_PAYMENT_AMT_WON_mean                            0.454103  \n",
      "TRAF_PAYMENT_AMT_WON                                    0.203617  \n",
      "TRAF_PAYMENT_NUM                                       -0.004153  \n",
      "ALL_TRAF_PAYMENT_AMT_WON                                0.469702  \n",
      "ALL_TRAF_PAYMENT_AMT_WON_mean                           0.677812  \n",
      "ACTI_PAYMENT_AMT_WON                                    0.190907  \n",
      "ACTI_PAYMENT_NUM                                       -0.022842  \n",
      "ALL_ACTI_PAYMENT_AMT_WON                                0.515750  \n",
      "ALL_ACTI_PAYMENT_AMT_WON_mean                           0.671536  \n",
      "ALL_PAYMENT_AMT_WON                                     0.589362  \n",
      "ALL_PAYMENT_AMT_WON_mean                                0.857812  \n",
      "ALL_PAYMENT_AMT_WON_mean_by_day                         1.000000  \n",
      "\n",
      "[25 rows x 25 columns]\n"
     ]
    }
   ],
   "source": [
    "import seaborn as sns\n",
    "import matplotlib.pyplot as plt\n",
    "\n",
    "# 상관 행렬 생성\n",
    "correlation_matrix = combined_data.corr()\n",
    "\n",
    "# 히트맵 그리기\n",
    "plt.figure(figsize=(10, 8))\n",
    "sns.heatmap(correlation_matrix, annot=True, cmap='coolwarm', fmt=\".2f\", linewidths=.5)\n",
    "plt.title(\"Correlation Matrix\")\n",
    "plt.show()\n",
    "\n",
    "print(correlation_matrix)"
   ]
  },
  {
   "cell_type": "code",
   "execution_count": 214,
   "id": "f4706ece-d843-4c91-8572-d710171d5c36",
   "metadata": {},
   "outputs": [],
   "source": [
    "########################## 1"
   ]
  },
  {
   "cell_type": "code",
   "execution_count": 219,
   "id": "67f3397c-bd6c-437e-a137-31d224947c0b",
   "metadata": {},
   "outputs": [
    {
     "data": {
      "text/plain": [
       "count    2.803000e+03\n",
       "mean     9.625916e+05\n",
       "std      9.953060e+05\n",
       "min      0.000000e+00\n",
       "25%      2.817750e+05\n",
       "50%      7.150380e+05\n",
       "75%      1.317384e+06\n",
       "max      1.494223e+07\n",
       "Name: ALL_PAYMENT_AMT_WON, dtype: float64"
      ]
     },
     "execution_count": 219,
     "metadata": {},
     "output_type": "execute_result"
    }
   ],
   "source": [
    "combined_data['ALL_PAYMENT_AMT_WON'].describe()"
   ]
  },
  {
   "cell_type": "code",
   "execution_count": 244,
   "id": "e05ed39f-64e3-4869-baae-84917d1a053d",
   "metadata": {},
   "outputs": [
    {
     "data": {
      "image/png": "[encoded data removed]",
      "text/plain": [
       "<Figure size 1000x600 with 1 Axes>"
      ]
     },
     "metadata": {},
     "output_type": "display_data"
    }
   ],
   "source": [
    "import matplotlib.pyplot as plt\n",
    "\n",
    "# 'ALL_PAYMENT_AMT_WON'의 분포를 히스토그램으로 시각화\n",
    "plt.figure(figsize=(10, 6))\n",
    "plt.hist(combined_data['ALL_PAYMENT_AMT_WON_mean'], bins=30, color='blue', alpha=0.7)\n",
    "plt.title('Distribution of ALL_PAYMENT_AMT_WON')\n",
    "plt.xlabel('ALL_PAYMENT_AMT_WON')\n",
    "plt.ylabel('Frequency')\n",
    "plt.grid(True)\n",
    "plt.show()\n"
   ]
  },
  {
   "cell_type": "code",
   "execution_count": 251,
   "id": "d1f3393b-473d-4234-bce4-e3f3be6af625",
   "metadata": {},
   "outputs": [
    {
     "name": "stdout",
     "output_type": "stream",
     "text": [
      "0.7502675704602212\n"
     ]
    }
   ],
   "source": [
    "tmplst = combined_data[combined_data['ALL_PAYMENT_AMT_WON_mean']<600000]\n",
    "print(len(tmplst)/len(combined_data['ALL_PAYMENT_AMT_WON_mean']))"
   ]
  },
  {
   "cell_type": "code",
   "execution_count": 252,
   "id": "67d5423e-0e83-438d-afbb-a8854ec2a5d5",
   "metadata": {},
   "outputs": [],
   "source": [
    "# 'ALL_PAYMENT_AMT_WON_mean' 값에 따라 'ALL_PAYMENT_AMT_WON_mean_sep' 생성\n",
    "combined_data['ALL_PAYMENT_AMT_WON_mean_sep'] = np.where(combined_data['ALL_PAYMENT_AMT_WON_mean'] < 600000, 0, 1)\n"
   ]
  },
  {
   "cell_type": "code",
   "execution_count": null,
   "id": "1b60f2ca-ed07-4b5d-9581-affbfd15160b",
   "metadata": {},
   "outputs": [],
   "source": []
  },
  {
   "cell_type": "code",
   "execution_count": null,
   "id": "a556724a-38ad-47ea-9ddb-07f0f2e55efc",
   "metadata": {},
   "outputs": [],
   "source": []
  },
  {
   "cell_type": "code",
   "execution_count": null,
   "id": "f8ac4739-10e2-40d2-a716-89153357339b",
   "metadata": {},
   "outputs": [],
   "source": []
  },
  {
   "cell_type": "code",
   "execution_count": 174,
   "id": "d6d20ca9-7c55-4b9d-935f-5eec92c122f2",
   "metadata": {},
   "outputs": [
    {
     "data": {
      "image/png": "[encoded data removed]",
      "text/plain": [
       "<Figure size 1000x600 with 1 Axes>"
      ]
     },
     "metadata": {},
     "output_type": "display_data"
    }
   ],
   "source": [
    "import seaborn as sns\n",
    "import matplotlib.pyplot as plt\n",
    "\n",
    "# 산점도 그리기\n",
    "plt.figure(figsize=(10, 6))\n",
    "sns.scatterplot(x='AGE_GRP', y='INCOME', data=combined_data, alpha=0.5)\n",
    "plt.title('Scatter Plot of INCOME and AGE_GRP')\n",
    "plt.xlabel('AGE_GRP')\n",
    "plt.ylabel('INCOME')\n",
    "plt.show()\n"
   ]
  },
  {
   "cell_type": "code",
   "execution_count": 256,
   "id": "705c84bc-2547-4e93-9a01-cb806b0cee1a",
   "metadata": {},
   "outputs": [
    {
     "name": "stdout",
     "output_type": "stream",
     "text": [
      "1    373\n",
      "0    188\n",
      "dtype: int64\n",
      "1    1442\n",
      "0     800\n",
      "dtype: int64\n"
     ]
    }
   ],
   "source": [
    "X = combined_data[['AGE_GRP','ALL_PAYMENT_AMT_WON_mean_sep']]\n",
    "y = combined_data['INCOME']\n",
    "\n",
    "# 데이터 분할\n",
    "X_train, X_test, y_train, y_test = train_test_split(X, y, test_size=0.2, random_state=42)\n",
    "\n",
    "y_train = np.where(y_train >= 5, 5, y_train)\n",
    "y_train = np.where(y_train <= 3, 3, y_train)\n",
    "y_train = np.where((y_train == 4), 4, y_train)\n",
    "y_test = np.where(y_test >= 5, 5, y_test)\n",
    "y_test = np.where(y_test <= 3, 3, y_test)\n",
    "y_test = np.where((y_test == 4), 4, y_test)\n",
    "\n",
    "y_train = np.where(y_train == 3, 0, y_train)\n",
    "y_train = np.where(y_train == 4, 1, y_train)\n",
    "y_train = np.where(y_train == 5, 1, y_train)\n",
    "y_test = np.where(y_test == 3, 0, y_test)\n",
    "y_test = np.where(y_test == 4, 1, y_test)\n",
    "y_test = np.where(y_test == 5, 1, y_test)\n",
    "\n",
    "# Convert NumPy array to Pandas Series\n",
    "y_test_series = pd.Series(y_test)\n",
    "\n",
    "# Now you can use value_counts()\n",
    "value_counts = y_test_series.value_counts()\n",
    "print(value_counts)\n",
    "\n",
    "y_train_series = pd.Series(y_train)\n",
    "\n",
    "# Now you can use value_counts()\n",
    "value_counts = y_train_series.value_counts()\n",
    "print(value_counts)"
   ]
  },
  {
   "cell_type": "code",
   "execution_count": 257,
   "id": "84648926-6809-484d-b1ec-b443ec0a1abe",
   "metadata": {},
   "outputs": [
    {
     "name": "stdout",
     "output_type": "stream",
     "text": [
      "Best Parameters:  {'max_depth': None, 'min_samples_leaf': 1, 'min_samples_split': 2, 'n_estimators': 50}\n",
      "Accuracy: 0.68\n",
      "\n",
      "Classification Report:\n",
      "              precision    recall  f1-score   support\n",
      "\n",
      "           0       0.53      0.45      0.48       188\n",
      "           1       0.74      0.80      0.77       373\n",
      "\n",
      "    accuracy                           0.68       561\n",
      "   macro avg       0.63      0.62      0.63       561\n",
      "weighted avg       0.67      0.68      0.67       561\n",
      "\n",
      "\n",
      "Confusion Matrix:\n",
      "[[ 84 104]\n",
      " [ 75 298]]\n"
     ]
    }
   ],
   "source": [
    "from sklearn.model_selection import GridSearchCV\n",
    "\n",
    "# RandomForest 모델 초기화\n",
    "rf_model = RandomForestClassifier(random_state=42)\n",
    "\n",
    "# 탐색할 하이퍼파라미터 그리드 설정\n",
    "param_grid = {\n",
    "    'n_estimators': [50, 100, 200, 300],\n",
    "    'max_depth': [None, 10, 20],\n",
    "    'min_samples_split': [2, 5, 10],\n",
    "    'min_samples_leaf': [1, 2, 4]\n",
    "}\n",
    "\n",
    "# GridSearchCV 객체 생성\n",
    "grid_search = GridSearchCV(estimator=rf_model, param_grid=param_grid, cv=5, scoring='accuracy', n_jobs=-1)\n",
    "\n",
    "# Grid Search 실행\n",
    "grid_search.fit(X_train, y_train)\n",
    "\n",
    "# 최적의 하이퍼파라미터 출력\n",
    "print(\"Best Parameters: \", grid_search.best_params_)\n",
    "\n",
    "# 최적의 모델 사용\n",
    "best_rf_model = grid_search.best_estimator_\n",
    "\n",
    "# 테스트 데이터에 대한 예측\n",
    "predictions = best_rf_model.predict(X_test)\n",
    "\n",
    "# 정확도 및 기타 평가 지표 출력\n",
    "accuracy = accuracy_score(y_test, predictions)\n",
    "print(f'Accuracy: {accuracy:.2f}')\n",
    "\n",
    "# 분류 보고서 출력\n",
    "print('\\nClassification Report:')\n",
    "print(classification_report(y_test, predictions))\n",
    "\n",
    "# 혼동 행렬 출력\n",
    "print('\\nConfusion Matrix:')\n",
    "print(confusion_matrix(y_test, predictions))\n",
    "\n"
   ]
  },
  {
   "cell_type": "code",
   "execution_count": 258,
   "id": "c5de13ed-7e7b-4382-9dcd-bad5ef3ad3b6",
   "metadata": {},
   "outputs": [
    {
     "name": "stdout",
     "output_type": "stream",
     "text": [
      "Best Parameters (XGBoost):  {'learning_rate': 0.01, 'max_depth': 3, 'n_estimators': 50}\n",
      "Accuracy (XGBoost): 0.66\n",
      "\n",
      "Classification Report (XGBoost):\n",
      "              precision    recall  f1-score   support\n",
      "\n",
      "           0       0.50      0.02      0.03       188\n",
      "           1       0.67      0.99      0.80       373\n",
      "\n",
      "    accuracy                           0.66       561\n",
      "   macro avg       0.58      0.50      0.41       561\n",
      "weighted avg       0.61      0.66      0.54       561\n",
      "\n",
      "\n",
      "Confusion Matrix (XGBoost):\n",
      "[[  3 185]\n",
      " [  3 370]]\n"
     ]
    }
   ],
   "source": [
    "from xgboost import XGBClassifier\n",
    "\n",
    "# XGBoost 모델 초기화\n",
    "xgb_model = XGBClassifier()\n",
    "\n",
    "# 탐색할 하이퍼파라미터 그리드 설정\n",
    "param_grid_xgb = {\n",
    "    'n_estimators': [50, 100, 200],\n",
    "    'max_depth': [3, 5, 7],\n",
    "    'learning_rate': [0.01, 0.1, 0.2],\n",
    "}\n",
    "\n",
    "# GridSearchCV 객체 생성\n",
    "grid_search_xgb = GridSearchCV(estimator=xgb_model, param_grid=param_grid_xgb, cv=5, scoring='accuracy', n_jobs=-1)\n",
    "\n",
    "# Grid Search 실행\n",
    "grid_search_xgb.fit(X_train, y_train)\n",
    "\n",
    "# 최적의 하이퍼파라미터 출력\n",
    "print(\"Best Parameters (XGBoost): \", grid_search_xgb.best_params_)\n",
    "\n",
    "# 최적의 모델 사용\n",
    "best_xgb_model = grid_search_xgb.best_estimator_\n",
    "\n",
    "# 테스트 데이터에 대한 예측\n",
    "predictions_xgb = best_xgb_model.predict(X_test)\n",
    "\n",
    "# 정확도 및 기타 평가 지표 출력\n",
    "accuracy_xgb = accuracy_score(y_test, predictions_xgb)\n",
    "print(f'Accuracy (XGBoost): {accuracy_xgb:.2f}')\n",
    "\n",
    "# 분류 보고서 출력\n",
    "print('\\nClassification Report (XGBoost):')\n",
    "print(classification_report(y_test, predictions_xgb))\n",
    "\n",
    "# 혼동 행렬 출력\n",
    "print('\\nConfusion Matrix (XGBoost):')\n",
    "print(confusion_matrix(y_test, predictions_xgb))\n"
   ]
  },
  {
   "cell_type": "code",
   "execution_count": 259,
   "id": "35fd2ae5-e7e2-45c4-8996-4da09c7a00e1",
   "metadata": {},
   "outputs": [
    {
     "data": {
      "text/plain": [
       "['rf_model_for_income.pkl']"
      ]
     },
     "execution_count": 259,
     "metadata": {},
     "output_type": "execute_result"
    }
   ],
   "source": [
    "import joblib\n",
    "joblib.dump(best_rf_model,'rf_model_for_income.pkl')"
   ]
  },
  {
   "cell_type": "code",
   "execution_count": null,
   "id": "5c1a01f1-42f9-4e3d-b316-c4361509bc8e",
   "metadata": {},
   "outputs": [],
   "source": []
  },
  {
   "cell_type": "code",
   "execution_count": null,
   "id": "da5f8c46-81ec-4783-8c1a-53b1dd94417d",
   "metadata": {},
   "outputs": [],
   "source": []
  },
  {
   "cell_type": "code",
   "execution_count": null,
   "id": "70c2d2c2-e29d-4cf2-91b1-73396e24fc98",
   "metadata": {},
   "outputs": [],
   "source": []
  },
  {
   "cell_type": "code",
   "execution_count": null,
   "id": "903aed31-cdc8-49c4-bb1b-748c40eb7d38",
   "metadata": {},
   "outputs": [],
   "source": []
  },
  {
   "cell_type": "code",
   "execution_count": null,
   "id": "e0c0541f-3e04-4654-acf1-9676e8d17c26",
   "metadata": {},
   "outputs": [],
   "source": []
  },
  {
   "cell_type": "code",
   "execution_count": null,
   "id": "defd20b8-bfeb-4b57-81a6-e4bd5f59843b",
   "metadata": {},
   "outputs": [],
   "source": []
  },
  {
   "cell_type": "code",
   "execution_count": null,
   "id": "d6eef007-c3db-4afe-945e-93684420dab3",
   "metadata": {},
   "outputs": [],
   "source": []
  },
  {
   "cell_type": "code",
   "execution_count": null,
   "id": "2c8d70bc-d11f-456a-99fe-33dbd67da194",
   "metadata": {},
   "outputs": [],
   "source": []
  },
  {
   "cell_type": "code",
   "execution_count": null,
   "id": "9474ab11-e3d7-4b4e-ade0-7449d5391d35",
   "metadata": {},
   "outputs": [],
   "source": []
  },
  {
   "cell_type": "code",
   "execution_count": null,
   "id": "b5d96847-8de9-4a36-85b2-930edc91e74b",
   "metadata": {},
   "outputs": [],
   "source": []
  },
  {
   "cell_type": "code",
   "execution_count": null,
   "id": "d790f2a9-c7de-473f-b380-1a7382f2c141",
   "metadata": {},
   "outputs": [],
   "source": []
  },
  {
   "cell_type": "code",
   "execution_count": null,
   "id": "defe59d5-2079-48d4-b26c-cd56aa77458b",
   "metadata": {},
   "outputs": [],
   "source": []
  },
  {
   "cell_type": "code",
   "execution_count": null,
   "id": "865edcf3-c289-4d34-b12d-2c2515fece0c",
   "metadata": {},
   "outputs": [],
   "source": []
  },
  {
   "cell_type": "code",
   "execution_count": null,
   "id": "1c933f75-f234-436c-a39c-6ebc0cbc9137",
   "metadata": {},
   "outputs": [],
   "source": []
  },
  {
   "cell_type": "code",
   "execution_count": null,
   "id": "f7c1beb9-3a81-4036-b693-ba5df18fee46",
   "metadata": {},
   "outputs": [],
   "source": []
  },
  {
   "cell_type": "code",
   "execution_count": null,
   "id": "c3f50267-f440-4d11-97bb-8979e2c42b71",
   "metadata": {},
   "outputs": [],
   "source": []
  },
  {
   "cell_type": "code",
   "execution_count": null,
   "id": "49ed75d0-638b-45ea-96fb-9a5ba6a9bb9c",
   "metadata": {},
   "outputs": [],
   "source": []
  },
  {
   "cell_type": "code",
   "execution_count": null,
   "id": "66aa2d7b-cd3f-4f10-9be6-613238fe5ced",
   "metadata": {},
   "outputs": [],
   "source": []
  },
  {
   "cell_type": "code",
   "execution_count": null,
   "id": "1337b975-1893-4161-bbb5-0b6349f0685c",
   "metadata": {},
   "outputs": [],
   "source": []
  },
  {
   "cell_type": "code",
   "execution_count": null,
   "id": "c6631e4a-24d0-4a0b-95b1-e791d63cb752",
   "metadata": {},
   "outputs": [],
   "source": []
  },
  {
   "cell_type": "code",
   "execution_count": null,
   "id": "f9132bbf-5460-47c5-822c-83c3363cd0d0",
   "metadata": {},
   "outputs": [],
   "source": []
  },
  {
   "cell_type": "code",
   "execution_count": null,
   "id": "f5f7241a-c224-4b2d-9c0c-0f1921da303a",
   "metadata": {},
   "outputs": [],
   "source": []
  },
  {
   "cell_type": "code",
   "execution_count": null,
   "id": "0b408a41-920a-415e-8cd1-30cee6b602ec",
   "metadata": {},
   "outputs": [],
   "source": [
    "################################# 2"
   ]
  },
  {
   "cell_type": "code",
   "execution_count": 121,
   "id": "8210a50e-fe99-4d46-90b9-ee82ebd5e50b",
   "metadata": {},
   "outputs": [],
   "source": [
    "final_data=combined_data.drop(['TRAVEL_STATUS_DESTINATION', 'POST_PAYMENT_AMT_WON', 'POST_PAYMENT_NUM', 'LOD_PAYMENT_AMT_WON', 'LOD_PAYMENT_NUM',\n",
    "                              'TRAF_PAYMENT_AMT_WON', 'TRAF_PAYMENT_NUM', 'ACTI_PAYMENT_AMT_WON', 'ACTI_PAYMENT_NUM',],axis=1)"
   ]
  },
  {
   "cell_type": "code",
   "execution_count": 122,
   "id": "8de2a2bc-0599-4409-82e9-a48243c40fa3",
   "metadata": {},
   "outputs": [],
   "source": [
    "final_data.to_csv('for_income_final_data.csv', index = False)"
   ]
  },
  {
   "cell_type": "code",
   "execution_count": 123,
   "id": "e6a89c85-7254-4d6f-9db1-e7dd27de1234",
   "metadata": {},
   "outputs": [
    {
     "data": {
      "text/plain": [
       "Index(['TRAVEL_ID', 'INCOME', 'AGE_GRP', 'TRAVEL_COMPANIONS_NUM', 'trip_day',\n",
       "       'age_avg', 'ALL_POST_PAYMENT_AMT_WON', 'ALL_POST_PAYMENT_AMT_WON_mean',\n",
       "       'ALL_LOD_PAYMENT_AMT_WON', 'ALL_LOD_PAYMENT_AMT_WON_mean',\n",
       "       'ALL_TRAF_PAYMENT_AMT_WON', 'ALL_TRAF_PAYMENT_AMT_WON_mean',\n",
       "       'ALL_ACTI_PAYMENT_AMT_WON', 'ALL_ACTI_PAYMENT_AMT_WON_mean',\n",
       "       'ALL_PAYMENT_AMT_WON', 'ALL_PAYMENT_AMT_WON_mean',\n",
       "       'ALL_PAYMENT_AMT_WON_mean_by_day'],\n",
       "      dtype='object')"
      ]
     },
     "execution_count": 123,
     "metadata": {},
     "output_type": "execute_result"
    }
   ],
   "source": [
    "final_data.columns"
   ]
  },
  {
   "cell_type": "code",
   "execution_count": 124,
   "id": "b6e169cd-fa24-4910-b8f3-644edbaeb4ef",
   "metadata": {},
   "outputs": [
    {
     "name": "stdout",
     "output_type": "stream",
     "text": [
      "Missing values by column:\n",
      "age_avg                           919\n",
      "ALL_POST_PAYMENT_AMT_WON         2306\n",
      "ALL_POST_PAYMENT_AMT_WON_mean    2306\n",
      "ALL_LOD_PAYMENT_AMT_WON           583\n",
      "ALL_LOD_PAYMENT_AMT_WON_mean      583\n",
      "ALL_TRAF_PAYMENT_AMT_WON          184\n",
      "ALL_TRAF_PAYMENT_AMT_WON_mean     184\n",
      "ALL_ACTI_PAYMENT_AMT_WON           25\n",
      "ALL_ACTI_PAYMENT_AMT_WON_mean      25\n",
      "dtype: int64\n"
     ]
    }
   ],
   "source": [
    "# 누락된 값 확인\n",
    "final_data_1 = final_data\n",
    "missing_values = final_data.isnull().sum()\n",
    "\n",
    "# 누락된 값이 있는 열 확인\n",
    "columns_with_missing_values = missing_values[missing_values > 0].index\n",
    "\n",
    "# 각 열의 누락된 값 개수 출력\n",
    "print(\"Missing values by column:\")\n",
    "print(missing_values[columns_with_missing_values])\n",
    "\n",
    "# 누락된 값을 0으로 대체\n",
    "final_data = final_data.fillna(0)\n"
   ]
  },
  {
   "cell_type": "code",
   "execution_count": null,
   "id": "bedfe1e6-b380-4223-a220-aaa6e6787ca9",
   "metadata": {},
   "outputs": [],
   "source": []
  },
  {
   "cell_type": "code",
   "execution_count": 125,
   "id": "efdef107-6d35-46a2-963b-2001d2ab72c9",
   "metadata": {},
   "outputs": [],
   "source": [
    "from sklearn.model_selection import train_test_split\n",
    "x = final_data.drop(['TRAVEL_ID','ALL_POST_PAYMENT_AMT_WON', 'ALL_POST_PAYMENT_AMT_WON_mean',\n",
    "       'ALL_LOD_PAYMENT_AMT_WON', 'ALL_LOD_PAYMENT_AMT_WON_mean',\n",
    "       'ALL_TRAF_PAYMENT_AMT_WON', 'ALL_TRAF_PAYMENT_AMT_WON_mean',\n",
    "       'ALL_ACTI_PAYMENT_AMT_WON', 'ALL_ACTI_PAYMENT_AMT_WON_mean',\n",
    "       'ALL_PAYMENT_AMT_WON', 'ALL_PAYMENT_AMT_WON_mean','INCOME','trip_day'],axis=1)\n",
    "y = final_data['INCOME']\n",
    "X_train,X_test, y_train, y_test = train_test_split(x, y,test_size=0.2, shuffle=True, random_state=42)"
   ]
  },
  {
   "cell_type": "code",
   "execution_count": 126,
   "id": "a3626120-5e34-4e9e-ba7d-204ed5ddaf47",
   "metadata": {},
   "outputs": [
    {
     "name": "stdout",
     "output_type": "stream",
     "text": [
      "<class 'pandas.core.frame.DataFrame'>\n",
      "Int64Index: 2803 entries, 1483 to 471123\n",
      "Data columns (total 4 columns):\n",
      " #   Column                           Non-Null Count  Dtype  \n",
      "---  ------                           --------------  -----  \n",
      " 0   AGE_GRP                          2803 non-null   int64  \n",
      " 1   TRAVEL_COMPANIONS_NUM            2803 non-null   int64  \n",
      " 2   age_avg                          2803 non-null   float64\n",
      " 3   ALL_PAYMENT_AMT_WON_mean_by_day  2803 non-null   float64\n",
      "dtypes: float64(2), int64(2)\n",
      "memory usage: 109.5 KB\n",
      "None\n",
      "1483      3\n",
      "3451      1\n",
      "9829      4\n",
      "15363     4\n",
      "16019     5\n",
      "         ..\n",
      "470856    4\n",
      "470857    5\n",
      "470865    2\n",
      "470955    3\n",
      "471123    3\n",
      "Name: INCOME, Length: 2803, dtype: int64\n"
     ]
    }
   ],
   "source": [
    "print(x.info())\n",
    "print(y)"
   ]
  },
  {
   "cell_type": "code",
   "execution_count": 127,
   "id": "c480a07d-488c-49af-a686-f7c5e170d1b5",
   "metadata": {},
   "outputs": [],
   "source": [
    "X_train.to_csv(\"for_income_total_X_train_new.csv\", index=False)\n",
    "y_train.to_csv(\"for_income_total_y_train_new.csv\", index=False)"
   ]
  },
  {
   "cell_type": "code",
   "execution_count": 135,
   "id": "229d09e0-97ed-4715-ab97-1b951bb08867",
   "metadata": {},
   "outputs": [],
   "source": [
    "X_train= pd.read_csv('for_income_total_X_train_new.csv')\n",
    "y_train= pd.read_csv('for_income_total_y_train_new.csv')"
   ]
  },
  {
   "cell_type": "code",
   "execution_count": 136,
   "id": "77c5787d-8ec9-4f36-a690-cdd8b049560a",
   "metadata": {},
   "outputs": [
    {
     "name": "stdout",
     "output_type": "stream",
     "text": [
      "<class 'pandas.core.frame.DataFrame'>\n",
      "RangeIndex: 2242 entries, 0 to 2241\n",
      "Data columns (total 1 columns):\n",
      " #   Column  Non-Null Count  Dtype\n",
      "---  ------  --------------  -----\n",
      " 0   INCOME  2242 non-null   int64\n",
      "dtypes: int64(1)\n",
      "memory usage: 17.6 KB\n",
      "None\n",
      "[6 6 6 6 4 2 5 4 3 5 4 3 2 5 2 4 6 6 4 4 4 1 4 5 3 3 6 5 4 4 5 2 4 3 2 3 6\n",
      " 1 5 1 5 3 4 4 4 5 5 4 4 4 4 5 4 2 2 5 6 4 1 4 5 4 4 4 2 4 4 5 5 1 3 4 3 4\n",
      " 4 4 3 5 4 2 4 4 4 1 5 3 6 3 5 5 4 4 3 1 6 5 1 4 4 4 4 5 4 4 6 4 4 3 5 4 2\n",
      " 4 4 4 2 6 4 3 4 3 4 6 5 6 4 4 4 3 3 4 2 5 4 5 4 4 4 3 4 3 3 2 4 6 4 6 6 6\n",
      " 4 5 5 6 4 4 6 4 4 5 5 3 2 1 3 4 6 3 4 3 6 4 4 4 5 4 4 4 4 4 6 4 3 5 4 3 6\n",
      " 4 3 1 4 5 4 4 3 6 6 4 3 6 5 4 5 4 4 6 3 4 4 4 4 6 5 5 4 5 4 6 5 1 1 3 6 5\n",
      " 5 5 3 3 6 3 6 3 6 3 4 3 4 5 6 6 4 2 6 5 4 3 5 3 4 4 5 2 6 5 4 3 6 6 2 4 5\n",
      " 3 5 4 4 4 5 4 3 1 4 4 4 2 2 6 1 4 1 1 4 6 5 2 2 6 5 3 4 4 2 4 2 6 6 4 6 2\n",
      " 4 4 2 4 2 2 5 4 4 6 4 4 3 5 6 5 2 5 6 1 3 3 5 5 1 5 1 4 4 2 4 2 3 2 4 4 6\n",
      " 4 4 2 4 4 6 2 3 1 4 5 6 3 2 6 4 2 1 4 3 5 5 4 5 2 4 1 2 3 6 4 1 6 3 6 3 3\n",
      " 5 4 4 2 5 4 3 2 2 4 4 1 4 6 6 5 2 2 4 1 3 1 1 3 1 3 3 3 6 3 4 4 4 4 4 4 4\n",
      " 1 4 6 3 4 4 3 3 6 5 6 6 3 6 1 3 4 6 2 5 4 3 6 6 4 5 5 5 3 1 4 6 4 4 6 1 5\n",
      " 2 5 1 4 4 1 5 3 3 4 3 3 5 4 3 6 1 1 1 6 4 4 6 4 3 4 6 4 2 5 4 5 1 6 2 4 4\n",
      " 5 5 4 6 2 2 4 2 6 1 5 6 2 5 6 4 1 2 5 4 4 3 3 1 3 3 4 1 4 5 4 1 5 6 4 2 4\n",
      " 4 5 2 6 4 4 6 3 4 4 5 6 4 3 5 1 5 4 1 5 3 3 1 4 2 6 2 4 4 3 4 5 5 4 4 4 1\n",
      " 5 4 5 6 1 1]\n"
     ]
    }
   ],
   "source": [
    "#unique_counts = X_train['INCOME'].value_counts()\n",
    "#print(unique_counts)\n",
    "#unique_counts = X_test['INCOME'].value_counts()\n",
    "#print(unique_counts)\n",
    "print(y_train.info())\n",
    "print(y_test)"
   ]
  },
  {
   "cell_type": "code",
   "execution_count": 137,
   "id": "83483490-d195-4c3e-9b24-b24477525cf7",
   "metadata": {},
   "outputs": [
    {
     "name": "stdout",
     "output_type": "stream",
     "text": [
      "INCOME\n",
      "4         792\n",
      "5         364\n",
      "3         326\n",
      "2         245\n",
      "1         229\n",
      "6         131\n",
      "7          68\n",
      "8          35\n",
      "12         18\n",
      "9          15\n",
      "11         13\n",
      "10          6\n",
      "dtype: int64\n"
     ]
    }
   ],
   "source": [
    "unique_counts = y_train.value_counts()\n",
    "print(unique_counts)"
   ]
  },
  {
   "cell_type": "code",
   "execution_count": 139,
   "id": "3599f8f0-5610-401a-afbe-419b5a02f6c7",
   "metadata": {},
   "outputs": [],
   "source": [
    "import numpy as np\n",
    "\n",
    "y_train = np.where(y_train > 6, 6, y_train)\n",
    "y_train = np.where(y_train < 3 ,3, y_train)\n",
    "y_train = np.where((y_train == 4) | (y_train == 5), 4, y_train)\n",
    "y_test = np.where(y_test > 6, 6, y_test)\n",
    "y_test = np.where(y_test < 3 ,3, y_test)\n",
    "y_test = np.where((y_test == 4) | (y_test == 5), 4, y_test)"
   ]
  },
  {
   "cell_type": "code",
   "execution_count": 141,
   "id": "b49f703c-4f99-4526-94f9-0e0e49af26c6",
   "metadata": {
    "scrolled": true
   },
   "outputs": [
    {
     "name": "stdout",
     "output_type": "stream",
     "text": [
      "0:\tlearn: 1.0751678\ttotal: 6.37ms\tremaining: 630ms\n",
      "1:\tlearn: 1.0566740\ttotal: 12.1ms\tremaining: 592ms\n",
      "2:\tlearn: 1.0400188\ttotal: 18.5ms\tremaining: 597ms\n",
      "3:\tlearn: 1.0273372\ttotal: 22.8ms\tremaining: 548ms\n",
      "4:\tlearn: 1.0162777\ttotal: 29ms\tremaining: 551ms\n",
      "5:\tlearn: 1.0069886\ttotal: 35.2ms\tremaining: 551ms\n",
      "6:\tlearn: 0.9933788\ttotal: 40.5ms\tremaining: 538ms\n",
      "7:\tlearn: 0.9799170\ttotal: 46.6ms\tremaining: 536ms\n",
      "8:\tlearn: 0.9692172\ttotal: 52.9ms\tremaining: 535ms\n",
      "9:\tlearn: 0.9602531\ttotal: 58.8ms\tremaining: 529ms\n",
      "10:\tlearn: 0.9529253\ttotal: 65ms\tremaining: 526ms\n",
      "11:\tlearn: 0.9460077\ttotal: 70.9ms\tremaining: 520ms\n",
      "12:\tlearn: 0.9407845\ttotal: 77.9ms\tremaining: 521ms\n",
      "13:\tlearn: 0.9346738\ttotal: 85ms\tremaining: 522ms\n",
      "14:\tlearn: 0.9295816\ttotal: 91.3ms\tremaining: 517ms\n",
      "15:\tlearn: 0.9248733\ttotal: 98ms\tremaining: 514ms\n",
      "16:\tlearn: 0.9217291\ttotal: 104ms\tremaining: 508ms\n",
      "17:\tlearn: 0.9188473\ttotal: 110ms\tremaining: 502ms\n",
      "18:\tlearn: 0.9170339\ttotal: 116ms\tremaining: 496ms\n",
      "19:\tlearn: 0.9143899\ttotal: 122ms\tremaining: 490ms\n",
      "20:\tlearn: 0.9137902\ttotal: 127ms\tremaining: 477ms\n",
      "21:\tlearn: 0.9120668\ttotal: 133ms\tremaining: 470ms\n",
      "22:\tlearn: 0.9102198\ttotal: 139ms\tremaining: 465ms\n",
      "23:\tlearn: 0.9082259\ttotal: 145ms\tremaining: 459ms\n",
      "24:\tlearn: 0.9060507\ttotal: 151ms\tremaining: 453ms\n",
      "25:\tlearn: 0.9039492\ttotal: 157ms\tremaining: 447ms\n",
      "26:\tlearn: 0.9027719\ttotal: 163ms\tremaining: 441ms\n",
      "27:\tlearn: 0.9010212\ttotal: 169ms\tremaining: 435ms\n",
      "28:\tlearn: 0.8997545\ttotal: 175ms\tremaining: 429ms\n",
      "29:\tlearn: 0.8986127\ttotal: 182ms\tremaining: 424ms\n",
      "30:\tlearn: 0.8973258\ttotal: 188ms\tremaining: 417ms\n",
      "31:\tlearn: 0.8969655\ttotal: 194ms\tremaining: 411ms\n",
      "32:\tlearn: 0.8957976\ttotal: 200ms\tremaining: 406ms\n",
      "33:\tlearn: 0.8954203\ttotal: 206ms\tremaining: 399ms\n",
      "34:\tlearn: 0.8945113\ttotal: 212ms\tremaining: 395ms\n",
      "35:\tlearn: 0.8940435\ttotal: 220ms\tremaining: 391ms\n",
      "36:\tlearn: 0.8929116\ttotal: 228ms\tremaining: 388ms\n",
      "37:\tlearn: 0.8928813\ttotal: 233ms\tremaining: 380ms\n",
      "38:\tlearn: 0.8923235\ttotal: 239ms\tremaining: 375ms\n",
      "39:\tlearn: 0.8921224\ttotal: 246ms\tremaining: 369ms\n",
      "40:\tlearn: 0.8918563\ttotal: 254ms\tremaining: 365ms\n",
      "41:\tlearn: 0.8912681\ttotal: 263ms\tremaining: 363ms\n",
      "42:\tlearn: 0.8905680\ttotal: 269ms\tremaining: 357ms\n",
      "43:\tlearn: 0.8898741\ttotal: 276ms\tremaining: 351ms\n",
      "44:\tlearn: 0.8894807\ttotal: 282ms\tremaining: 344ms\n",
      "45:\tlearn: 0.8887032\ttotal: 289ms\tremaining: 339ms\n",
      "46:\tlearn: 0.8885826\ttotal: 295ms\tremaining: 333ms\n",
      "47:\tlearn: 0.8876699\ttotal: 301ms\tremaining: 326ms\n",
      "48:\tlearn: 0.8875248\ttotal: 307ms\tremaining: 320ms\n",
      "49:\tlearn: 0.8870162\ttotal: 313ms\tremaining: 313ms\n",
      "50:\tlearn: 0.8866350\ttotal: 319ms\tremaining: 307ms\n",
      "51:\tlearn: 0.8862865\ttotal: 326ms\tremaining: 301ms\n",
      "52:\tlearn: 0.8859114\ttotal: 332ms\tremaining: 294ms\n",
      "53:\tlearn: 0.8855020\ttotal: 338ms\tremaining: 288ms\n",
      "54:\tlearn: 0.8849879\ttotal: 344ms\tremaining: 282ms\n",
      "55:\tlearn: 0.8847401\ttotal: 350ms\tremaining: 275ms\n",
      "56:\tlearn: 0.8844029\ttotal: 356ms\tremaining: 269ms\n",
      "57:\tlearn: 0.8837006\ttotal: 364ms\tremaining: 264ms\n",
      "58:\tlearn: 0.8831155\ttotal: 370ms\tremaining: 257ms\n",
      "59:\tlearn: 0.8827885\ttotal: 376ms\tremaining: 251ms\n",
      "60:\tlearn: 0.8824345\ttotal: 382ms\tremaining: 244ms\n",
      "61:\tlearn: 0.8821062\ttotal: 389ms\tremaining: 238ms\n",
      "62:\tlearn: 0.8813848\ttotal: 395ms\tremaining: 232ms\n",
      "63:\tlearn: 0.8811698\ttotal: 401ms\tremaining: 226ms\n",
      "64:\tlearn: 0.8810156\ttotal: 407ms\tremaining: 219ms\n",
      "65:\tlearn: 0.8806058\ttotal: 413ms\tremaining: 213ms\n",
      "66:\tlearn: 0.8804164\ttotal: 421ms\tremaining: 207ms\n",
      "67:\tlearn: 0.8803300\ttotal: 428ms\tremaining: 201ms\n",
      "68:\tlearn: 0.8802111\ttotal: 435ms\tremaining: 196ms\n",
      "69:\tlearn: 0.8800927\ttotal: 442ms\tremaining: 190ms\n",
      "70:\tlearn: 0.8797438\ttotal: 449ms\tremaining: 183ms\n",
      "71:\tlearn: 0.8794169\ttotal: 455ms\tremaining: 177ms\n",
      "72:\tlearn: 0.8793944\ttotal: 462ms\tremaining: 171ms\n",
      "73:\tlearn: 0.8792373\ttotal: 468ms\tremaining: 164ms\n",
      "74:\tlearn: 0.8791205\ttotal: 474ms\tremaining: 158ms\n",
      "75:\tlearn: 0.8788723\ttotal: 481ms\tremaining: 152ms\n",
      "76:\tlearn: 0.8786930\ttotal: 487ms\tremaining: 145ms\n",
      "77:\tlearn: 0.8784776\ttotal: 493ms\tremaining: 139ms\n",
      "78:\tlearn: 0.8781611\ttotal: 499ms\tremaining: 133ms\n",
      "79:\tlearn: 0.8779208\ttotal: 505ms\tremaining: 126ms\n",
      "80:\tlearn: 0.8777864\ttotal: 511ms\tremaining: 120ms\n",
      "81:\tlearn: 0.8775289\ttotal: 517ms\tremaining: 114ms\n",
      "82:\tlearn: 0.8773488\ttotal: 524ms\tremaining: 107ms\n",
      "83:\tlearn: 0.8770441\ttotal: 529ms\tremaining: 101ms\n",
      "84:\tlearn: 0.8767202\ttotal: 536ms\tremaining: 94.5ms\n",
      "85:\tlearn: 0.8764536\ttotal: 542ms\tremaining: 88.2ms\n",
      "86:\tlearn: 0.8759562\ttotal: 548ms\tremaining: 81.8ms\n",
      "87:\tlearn: 0.8757392\ttotal: 554ms\tremaining: 75.5ms\n",
      "88:\tlearn: 0.8755416\ttotal: 560ms\tremaining: 69.2ms\n",
      "89:\tlearn: 0.8753409\ttotal: 566ms\tremaining: 62.9ms\n",
      "90:\tlearn: 0.8752628\ttotal: 572ms\tremaining: 56.6ms\n",
      "91:\tlearn: 0.8750217\ttotal: 578ms\tremaining: 50.3ms\n",
      "92:\tlearn: 0.8748928\ttotal: 584ms\tremaining: 44ms\n",
      "93:\tlearn: 0.8745995\ttotal: 590ms\tremaining: 37.7ms\n",
      "94:\tlearn: 0.8740109\ttotal: 596ms\tremaining: 31.4ms\n",
      "95:\tlearn: 0.8732827\ttotal: 602ms\tremaining: 25.1ms\n",
      "96:\tlearn: 0.8730788\ttotal: 609ms\tremaining: 18.8ms\n",
      "97:\tlearn: 0.8729678\ttotal: 614ms\tremaining: 12.5ms\n",
      "98:\tlearn: 0.8728789\ttotal: 621ms\tremaining: 6.27ms\n",
      "99:\tlearn: 0.8723478\ttotal: 628ms\tremaining: 0us\n",
      "Best Parameters:  {'cat_features': ['AGE_GRP'], 'depth': 3, 'iterations': 100, 'learning_rate': 0.1}\n",
      "Accuracy: 45.78%\n"
     ]
    }
   ],
   "source": [
    "from sklearn.model_selection import train_test_split\n",
    "from catboost import CatBoostClassifier\n",
    "from sklearn.model_selection import GridSearchCV\n",
    "import numpy as np\n",
    "\n",
    "# CatBoost 모델 초기화\n",
    "catboost_model = CatBoostClassifier()\n",
    "\n",
    "# 탐색할 하이퍼파라미터 그리드 설정\n",
    "param_grid = {\n",
    "    'iterations': [50,70,80,100, 200, 300],\n",
    "    'depth': [2,3,4, 6, 8],\n",
    "    'learning_rate': [0.01, 0.05, 0.1,0.15,0.2],\n",
    "    'cat_features': [['AGE_GRP']],  # 'AGE_GRP'는 카테고리형 변수이므로 리스트로 변환하여 지정\n",
    "}\n",
    "\n",
    "# 그리드 서치 객체 생성\n",
    "grid_search = GridSearchCV(estimator=catboost_model, param_grid=param_grid, cv=5, scoring='accuracy', n_jobs=-1)\n",
    "\n",
    "# 그리드 서치 실행\n",
    "grid_search.fit(X_train, y_train)\n",
    "\n",
    "# 최적의 하이퍼파라미터 출력\n",
    "print(\"Best Parameters: \", grid_search.best_params_)\n",
    "\n",
    "# 최적의 모델 사용\n",
    "best_model = grid_search.best_estimator_\n",
    "\n",
    "# 테스트 데이터에 대한 예측\n",
    "predictions = best_model.predict(X_test)\n",
    "\n",
    "# 모델 평가\n",
    "accuracy = (predictions == y_test).mean()\n",
    "print(\"Accuracy: {:.2f}%\".format(accuracy * 100))\n"
   ]
  },
  {
   "cell_type": "code",
   "execution_count": 131,
   "id": "34991f93-3971-41b1-85eb-b6306b863123",
   "metadata": {},
   "outputs": [
    {
     "name": "stdout",
     "output_type": "stream",
     "text": [
      "                                  AGE_GRP  TRAVEL_COMPANIONS_NUM   age_avg  \\\n",
      "AGE_GRP                          1.000000               0.170338  0.138341   \n",
      "TRAVEL_COMPANIONS_NUM            0.170338               1.000000  0.478634   \n",
      "age_avg                          0.138341               0.478634  1.000000   \n",
      "ALL_PAYMENT_AMT_WON_mean_by_day -0.065766               0.090549  0.123235   \n",
      "INCOME                           0.256184               0.083940  0.075277   \n",
      "\n",
      "                                 ALL_PAYMENT_AMT_WON_mean_by_day    INCOME  \n",
      "AGE_GRP                                                -0.065766  0.256184  \n",
      "TRAVEL_COMPANIONS_NUM                                   0.090549  0.083940  \n",
      "age_avg                                                 0.123235  0.075277  \n",
      "ALL_PAYMENT_AMT_WON_mean_by_day                         1.000000  0.125803  \n",
      "INCOME                                                  0.125803  1.000000  \n",
      "AGE_GRP                            0.256184\n",
      "TRAVEL_COMPANIONS_NUM              0.083940\n",
      "age_avg                            0.075277\n",
      "ALL_PAYMENT_AMT_WON_mean_by_day    0.125803\n",
      "INCOME                             1.000000\n",
      "Name: INCOME, dtype: float64\n"
     ]
    }
   ],
   "source": [
    "# Concatenate x and y along columns\n",
    "combined_data = pd.concat([x, y], axis=1)\n",
    "\n",
    "# Calculate the correlation matrix\n",
    "correlation_matrix = combined_data.corr()\n",
    "\n",
    "# Display the correlation matrix\n",
    "print(correlation_matrix)\n",
    "\n",
    "# If you are interested in the correlation of 'INCOME' with other features only:\n",
    "income_correlation = combined_data.corr()['INCOME']\n",
    "print(income_correlation)\n",
    "\n"
   ]
  },
  {
   "cell_type": "code",
   "execution_count": 132,
   "id": "87fc9909-c112-4172-a765-9e611f9290db",
   "metadata": {},
   "outputs": [
    {
     "name": "stdout",
     "output_type": "stream",
     "text": [
      "                                  AGE_GRP  TRAVEL_COMPANIONS_NUM   age_avg  \\\n",
      "AGE_GRP                          1.000000               0.170338  0.138341   \n",
      "TRAVEL_COMPANIONS_NUM            0.170338               1.000000  0.478634   \n",
      "age_avg                          0.138341               0.478634  1.000000   \n",
      "ALL_PAYMENT_AMT_WON_mean_by_day -0.065766               0.090549  0.123235   \n",
      "\n",
      "                                 ALL_PAYMENT_AMT_WON_mean_by_day  \n",
      "AGE_GRP                                                -0.065766  \n",
      "TRAVEL_COMPANIONS_NUM                                   0.090549  \n",
      "age_avg                                                 0.123235  \n",
      "ALL_PAYMENT_AMT_WON_mean_by_day                         1.000000  \n"
     ]
    }
   ],
   "source": [
    "correlation_matrix = x.corr()\n",
    "print(correlation_matrix)\n"
   ]
  },
  {
   "cell_type": "code",
   "execution_count": null,
   "id": "2a8d9183-c546-478d-b735-f1c3bcffce3e",
   "metadata": {},
   "outputs": [],
   "source": []
  },
  {
   "cell_type": "code",
   "execution_count": null,
   "id": "5eb5b563-3ce6-406e-85ec-4316bb3e0fbb",
   "metadata": {},
   "outputs": [],
   "source": []
  },
  {
   "cell_type": "code",
   "execution_count": null,
   "id": "333c730a-28b6-44b1-89be-a24effb43fa5",
   "metadata": {},
   "outputs": [],
   "source": []
  },
  {
   "cell_type": "code",
   "execution_count": null,
   "id": "f8c1d682-e19a-4453-b4d3-31c41d38fa1b",
   "metadata": {},
   "outputs": [],
   "source": []
  },
  {
   "cell_type": "code",
   "execution_count": null,
   "id": "b391cc84-5ec9-4894-9bca-51681cf28e20",
   "metadata": {},
   "outputs": [],
   "source": []
  },
  {
   "cell_type": "code",
   "execution_count": null,
   "id": "1b9dfc77-4690-45ad-bc6d-3e12b552795d",
   "metadata": {},
   "outputs": [],
   "source": []
  }
 ],
 "metadata": {
  "kernelspec": {
   "display_name": "old_pandas",
   "language": "python",
   "name": "old_pandas"
  },
  "language_info": {
   "codemirror_mode": {
    "name": "ipython",
    "version": 3
   },
   "file_extension": ".py",
   "mimetype": "text/x-python",
   "name": "python",
   "nbconvert_exporter": "python",
   "pygments_lexer": "ipython3",
   "version": "3.11.5"
  }
 },
 "nbformat": 4,
 "nbformat_minor": 5
}
